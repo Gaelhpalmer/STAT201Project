{
 "cells": [
  {
   "cell_type": "markdown",
   "id": "89258b2a-1ae4-4492-acae-a5854ddd1d57",
   "metadata": {},
   "source": [
    "# **`Analysis of Sex-Based Differences in Age of Cardiovascular Disease Patients`**\n",
    "\n",
    "#### STAT 201 Group Project Proposal ####\n",
    "##### Group 17 - *Janice Chan, Ena Gupta, Gael Hernandez Palmer*"
   ]
  },
  {
   "cell_type": "markdown",
   "id": "80dfffd9-3f4b-4afd-9cf5-7892e8bdbfdb",
   "metadata": {},
   "source": [
    "### Introduction"
   ]
  },
  {
   "cell_type": "markdown",
   "id": "481bd3a5-67aa-4e9f-ac6d-d4ed1b657ee1",
   "metadata": {},
   "source": [
    "As it currently stands, cardiovascular disease (CVD) is the second leading cause of death for Canadians (Statistics Canada, 2022). Over years of study, scientists have been able to identify and track certain risk factors for CVD in order to better inform prevention and mitigation efforts. Sex-based differences in both the prevalence and clinical presentation of CVDs have long been a topic of interest with men being afflicted by the disease both more frequently and earlier in their lives (P.H.A of Canada, 2017). The male-focused lens in studying CVDs has historically meant considerable rates of underdiagnosis for women and a misunderstanding of the differences in presentation of disease. \n",
    "\n",
    "In this project, our aim is to use compiled data to quantify the difference in mean age between men and women suffering from CVD and their respective standard deviations. To achieve this we will be using the “Heart Disease Data Set” published on the UCI Machine Learning Repository by David Aha. We have selected the Cleveland Clinic database as opposed to the European databases to obtain results that can be generalized to the greater Canadian public based on similar lifestyle and socio-economic distributions between the United States and Canada (Solé-Auro et al., 2017). We look at the average age to compare with previous research, and the standard deviation of age to see variability and consistency, which can help us examine consistency and how well we can generalize results to the population. Our initial report will focus on obtaining summary statistics and visualizations that can help us perform a well-informed analysis using inferential tools as a guide."
   ]
  },
  {
   "cell_type": "markdown",
   "id": "3a2fb6a2-7fee-44b8-9c77-437ad17fa499",
   "metadata": {
    "tags": []
   },
   "source": [
    "### Dataset:"
   ]
  },
  {
   "cell_type": "markdown",
   "id": "1fd9d02c-212f-4937-8585-3819fe833e16",
   "metadata": {},
   "source": [
    "https://archive.ics.uci.edu/ml/datasets/Heart+Disease\n",
    "\n",
    "By: David W. Aha"
   ]
  },
  {
   "cell_type": "markdown",
   "id": "4ffd0b2e-9c11-4dc3-8ce9-29a77c9a6711",
   "metadata": {},
   "source": [
    "### Preliminary Results"
   ]
  },
  {
   "cell_type": "code",
   "execution_count": null,
   "id": "58c035df-ec77-4fe2-802b-553619d789a4",
   "metadata": {},
   "outputs": [],
   "source": [
    "# Load packages\n",
    "library(digest)\n",
    "library(infer)\n",
    "library(repr)\n",
    "library(tidyverse)\n",
    "library(dplyr)\n",
    "library(ggplot2)"
   ]
  },
  {
   "cell_type": "code",
   "execution_count": null,
   "id": "4670177f-1f56-4b5c-84b3-845e821e68a8",
   "metadata": {},
   "outputs": [],
   "source": [
    "# set seed for reproducibility\n",
    "set.seed(1234)\n",
    "\n",
    "# HEART DISEASE DATA (Compiled)\n",
    "# load data\n",
    "\n",
    "heart_disease_data <- read_delim(\"https://archive.ics.uci.edu/ml/machine-learning-databases/heart-disease/processed.cleveland.data\", \n",
    "                                 delim = \",\",\n",
    "                                 col_names = FALSE) %>%\n",
    "    transmute(age = X1, # clean data; renaming\n",
    "              \n",
    "              sex = factor(X2) %>%\n",
    "                  fct_recode(female = \"0\", # binary -> factors\n",
    "                             male = \"1\"),\n",
    "              \n",
    "              chest_pain = factor(X3) %>% # Type of chest pain reported\n",
    "                  fct_recode(typical_angina = \"1\", # numerical -> factors\n",
    "                             atypical_angina = \"2\",\n",
    "                             nonanginal_pain = \"3\",\n",
    "                             asymptomatic = \"4\"),\n",
    "              \n",
    "              resting_bp = X4, # Resting blood pressure (mm/Hg)\n",
    "              \n",
    "              cholesterol = X5, # Total cholesterol (mg/dL)\n",
    "              \n",
    "              bldsg_over120 = factor(X6) %>% # Indicates wether the patient's blood sugar is over 120 mg/dL\n",
    "                  fct_recode(no = \"0\", # binary -> factors\n",
    "                             yes = \"1\"),\n",
    "              \n",
    "              rest_ecg = factor(X7) %>% # Resting ECG results\n",
    "                  fct_recode(normal = \"0\", # numerical -> factors\n",
    "                             stt_abnormal = \"1\", \n",
    "                             lv_hyptroph = \"2\"),\n",
    "              \n",
    "              max_hr = X8, # Maximum observed heart rate\n",
    "              \n",
    "              ex_angina = factor(X9) %>% # Presence of exercise induced angina\n",
    "                  fct_recode(no = \"0\", # binary -> factors\n",
    "                             yes = \"1\"),\n",
    "              \n",
    "              old_peak = X10, # ST depression induced by exercise relative to rest\n",
    "              \n",
    "              slope = factor(X11) %>% # Slope of peak exercise ST segment\n",
    "                  fct_recode(upslope = \"1\", # numerical -> factors\n",
    "                             flat = \"2\",\n",
    "                             downslope = \"3\"),\n",
    "              \n",
    "              flr_ves = X12, # Number of vessels coloured by fluoroscopy\n",
    "              \n",
    "              thalassemia = factor(X13) %>% \n",
    "                  fct_recode(normal = \"3.0\", # numerical -> factors\n",
    "                             fxd_def = \"6.0\",\n",
    "                             rev_def = \"7.0\"),\n",
    "              \n",
    "              disease = factor(X14) %>% # Disease progression\n",
    "                 fct_recode(no = \"0\", # numerical -> factors\n",
    "                            yes = \"1\",\n",
    "                            yes = \"2\", # 1-4 indicate disease progression \n",
    "                            yes = \"3\", # for our analysis we only care about absence/presence of disease\n",
    "                            yes = \"4\")) \n",
    "\n",
    "## **NOTE**: \n",
    "## Code refactoring was done based on provided attribute information which can be accessed at:\n",
    "## https://raw.githubusercontent.com/Gaelhpalmer/STAT201Project/main/desc.names\n",
    "              \n",
    "head(heart_disease_data)\n",
    "\n",
    "\n",
    "diseased <- heart_disease_data %>%\n",
    "    filter(disease == \"yes\") %>% # filter for those diagnosed with heart disease\n",
    "    select(age, sex) # select relevant attributes\n",
    "\n",
    "# Heart disease data for diseased male patients\n",
    "male_diseased = diseased %>%\n",
    "    filter(sex == \"male\") # filter for males\n",
    "\n",
    "print(\"Diseased Males\")\n",
    "head(male_diseased)\n",
    "\n",
    "# Heart disease data for diseased female patients\n",
    "female_diseased = diseased %>%\n",
    "    filter(sex == \"female\")  # filter for those females\n",
    "\n",
    "print(\"Diseased Females\")\n",
    "head(female_diseased)"
   ]
  },
  {
   "cell_type": "code",
   "execution_count": null,
   "id": "fe7d7bca-cf0c-4846-9189-a8c5bf9b5d5b",
   "metadata": {},
   "outputs": [],
   "source": [
    "# summarize data (estimates)\n",
    "\n",
    "# Instances \n",
    "n_total <- nrow(diseased)\n",
    "n_male <- nrow(male_diseased)\n",
    "n_female <- nrow(female_diseased)\n",
    "\n",
    "# Average age in male patients\n",
    "mean_age_male = mean(male_diseased$age) %>%\n",
    "    round(digits = 2)\n",
    "\n",
    "\n",
    "# Standard deviation of age in male patients\n",
    "sd_age_male = sd(male_diseased$age) %>%\n",
    "    round(digits = 2)\n",
    "\n",
    "\n",
    "# Average age in female patients\n",
    "mean_age_female = mean(female_diseased$age) %>%\n",
    "    round(digits = 2)\n",
    "\n",
    "\n",
    "# Standard deviation of age in female patients\n",
    "sd_age_female = sd(female_diseased$age) %>%\n",
    "    round(digits = 2)\n",
    "\n"
   ]
  },
  {
   "cell_type": "markdown",
   "id": "ae938a75-cd57-4706-8424-f8e36a9ef3b4",
   "metadata": {},
   "source": [
    "#### Table 1. Number of instances of gender.\n",
    "\n",
    "| Male | Female | Total|\n",
    "|------|--------|------|\n",
    "| 114 | 25 | 139|\n"
   ]
  },
  {
   "cell_type": "markdown",
   "id": "4acafe8a-8426-42b7-ad98-164e6e517112",
   "metadata": {},
   "source": [
    "#### Table 2. Average age of heart disease patients.\n",
    "| Male patients      | Female patients |\n",
    "| ----------- | ----------- |\n",
    "| 56.09      | 59.08       |\n",
    "\n",
    "#### Table 3. Standard deviation of age in heart disease patients.\n",
    "| Male patients      | Female patients |\n",
    "| ----------- | ----------- |\n",
    "| 8.39     | 4.86       |"
   ]
  },
  {
   "cell_type": "code",
   "execution_count": null,
   "id": "4e4f445d-c666-43be-8abd-3ca0872fb249",
   "metadata": {},
   "outputs": [],
   "source": [
    "# plot raw data\n",
    "\n",
    "# Both male and female patients\n",
    "age_plot <- diseased %>%\n",
    "    ggplot(aes(x = age, fill = sex)) +\n",
    "    geom_histogram(binwidth = 5) +\n",
    "    facet_grid(rows = vars(sex)) +\n",
    "    geom_vline(xintercept = mean_age_male, linetype = \"dashed\", size = 1, color = \"blue\") + # mean age of male patients\n",
    "    geom_vline(xintercept = mean_age_female, linetype = \"dashed\", size = 1, color = \"red\") + # mean age of female patients\n",
    "    labs(title = \"Figure 1. Age of Diseased Patients.\",\n",
    "         xlab = \"Age\",\n",
    "         fill = \"Sex\") +\n",
    "    annotate(\"text\", x = 67, y = 30, label = \"Mean age of\", color=\"red\", size=4.5) +\n",
    "    annotate(\"text\", x = 67, y = 27, label = \"female patients\", color=\"red\", size=4.5) +\n",
    "    annotate(\"text\", x = 49, y = 30, label = \"Mean age of\", color=\"blue\", size=4.5) +\n",
    "    annotate(\"text\", x = 49, y = 27, label = \"male patients\", color=\"blue\", size=4.5) +\n",
    "    theme(text = element_text(size = 20))\n",
    "\n",
    "age_plot"
   ]
  },
  {
   "cell_type": "markdown",
   "id": "3e69a74d-3b4f-456b-88bc-fa0d112aad31",
   "metadata": {},
   "source": [
    "### Inferential Analysis"
   ]
  },
  {
   "cell_type": "markdown",
   "id": "8502d7f5-f72a-4b4a-a96d-eb2214d60261",
   "metadata": {},
   "source": [
    "#### Bootstrapping:"
   ]
  },
  {
   "cell_type": "code",
   "execution_count": null,
   "id": "d724082a-386e-4082-a8dd-d5f6b6d8e689",
   "metadata": {},
   "outputs": [],
   "source": [
    "# Data resampling, calculation of difference in means & visualization\n",
    "# Infer package is used to simplify process\n",
    "\n",
    "# Boostrap Generated\n",
    "age_bootstrap <- diseased %>%\n",
    "    specify(formula = age ~ sex) %>% # specify response and explanatory variables\n",
    "    generate(reps = 10000, type = \"bootstrap\") %>% # generate bootstraps\n",
    "    calculate(stat = \"diff in means\", order = c(\"female\", \"male\")) %>% # calculate difference in means\n",
    "    mutate(samp_dist = \"Actual\")\n",
    "head(age_bootstrap) # show bootstraps\n",
    "\n",
    "# Summary Statistics Calculated, Visualized\n",
    "age_bootstrap_vis <- age_bootstrap %>%\n",
    "    visualize() + \n",
    "    xlab(\"Difference in Means (female - male)\")+\n",
    "    ggtitle(\"Figure 2. Bootstrap Distribution of Difference in Mean.\") +\n",
    "    geom_vline(xintercept = 0, colour = \"red\", lwd = 1.5, alpha = 0.5) + # null hypothesis\n",
    "    annotate(\"text\", x = -1.4, y = 2222, label = \"Observed test\", color=\"red\", size=5) +\n",
    "    annotate(\"text\", x = -1.4, y = 2100, label = \"statistic\", color=\"red\", size=5) +\n",
    "    theme(text = element_text(size = 20)) \n",
    "age_bootstrap_vis"
   ]
  },
  {
   "cell_type": "markdown",
   "id": "2ca65679-62f2-4bb5-b552-e675fca34843",
   "metadata": {},
   "source": [
    "#### Hypothesis Testing:\n",
    "\n",
    "Previous research suggests that there is likely a difference in the mean age at which men and women suffer from CVDs, with men being afflicted earlier in their lives. Consequently, we have selected our hypothesis as:\n",
    "\n",
    "H0: $\\mu$female - $\\mu$male = 0\n",
    "\n",
    "\n",
    "\n",
    "H1: $\\mu$female - $\\mu$male > 0\n",
    "\n",
    "Moreover, we are setting our significance level (p-value) to:\n",
    "\n",
    "$\\alpha$ = 0.05\n",
    "\n",
    "...(further explanation/reasoning)"
   ]
  },
  {
   "cell_type": "code",
   "execution_count": null,
   "id": "0f94c18b-8108-4747-94d4-32c1877976f1",
   "metadata": {},
   "outputs": [],
   "source": [
    "# Hypothesis testing via Infer package\n",
    "\n",
    "#observed test statistic\n",
    "obs_diff_means <- diseased %>%\n",
    "    specify(formula = age ~ sex) %>% #set response and explanatory variables\n",
    "    calculate(stat = \"diff in means\", order = c(\"female\", \"male\")) %>% #set intended test statistic\n",
    "    pull()"
   ]
  },
  {
   "cell_type": "markdown",
   "id": "ffa443b2-2408-4eeb-997d-a98a705f6b3a",
   "metadata": {},
   "source": [
    "Table 4. Observed Difference in Means in Data.\n",
    "\n",
    "|Test Statistic|\n",
    "|-----|\n",
    "|2.99228070175438|"
   ]
  },
  {
   "cell_type": "code",
   "execution_count": null,
   "id": "385b412c-4484-4d40-9066-89eb5a2317b5",
   "metadata": {},
   "outputs": [],
   "source": [
    "#generation of null distribution\n",
    "age_null <- diseased %>%\n",
    "    specify(formula = age ~ sex) %>% #set response and explanatory variables\n",
    "    hypothesize(null = \"independence\") %>% #set hypothesis type\n",
    "    generate(reps = 2000, type = \"permute\") %>% #generate replicates via permutation\n",
    "    calculate(stat = \"diff in means\", order = c(\"female\", \"male\")) %>% #set intended test statistic\n",
    "    mutate(samp_dist = \"Null Model\")\n",
    "\n",
    "visualize(age_null) + \n",
    "    shade_p_value(obs_stat = obs_diff_means, direction = \"right\") +\n",
    "    ggtitle(\"Figure 3. Null Distribution of Difference in Mean Age of Diseased Females and Males\") +\n",
    "    xlab(\"Difference in Mean Age (F - M)\") +\n",
    "    annotate(\"text\", x = 0.5, y = 410, label = \"Observed test statistic\", color=\"red\", size=5) +\n",
    "    theme(text = element_text(size = 11))"
   ]
  },
  {
   "cell_type": "code",
   "execution_count": null,
   "id": "f01061be-fc84-4e23-9756-05cc77b08ce0",
   "metadata": {},
   "outputs": [],
   "source": [
    "# Constrasting the null model and the actual sampling distribution\n",
    "null_actual_samp_dist <- age_bootstrap %>% \n",
    "    bind_rows(age_null) %>% \n",
    "    ggplot() + \n",
    "    geom_histogram(aes(stat, color=samp_dist, fill=samp_dist), alpha=.25, bins=40, position=\"identity\" ) +\n",
    "    theme(text = element_text(size=20)) + \n",
    "    labs(title = \"Figure 4. Sampling Distribution of Null Model and Actual Sampling Distribution\", \n",
    "         x = \"Difference in Mean Age (F - M)\",\n",
    "         fill = \"Sampling Distribution\",\n",
    "         color = \"Sampling Distribution\") +\n",
    "    theme(text = element_text(size = 10))\n",
    "\n",
    "null_actual_samp_dist"
   ]
  },
  {
   "cell_type": "code",
   "execution_count": null,
   "id": "99303542-28bb-4e1d-a581-71a6c3a7f24e",
   "metadata": {},
   "outputs": [],
   "source": [
    "#p-value extraction\n",
    "p_value <- age_null %>%\n",
    "    get_p_value(obs_stat = obs_diff_means, direction = \"right\")"
   ]
  },
  {
   "cell_type": "markdown",
   "id": "6bef97f5-049f-4090-a1f6-9d8de86c55e5",
   "metadata": {},
   "source": [
    "Table 5. Calculated P-Value.\n",
    "\n",
    "|P-Value|\n",
    "|-------|\n",
    "|0.0385 |"
   ]
  },
  {
   "cell_type": "markdown",
   "id": "bb73a3cd-eaff-4861-914a-6e4060f9edc0",
   "metadata": {},
   "source": [
    "#### Constructing 95% Confidence Interval"
   ]
  },
  {
   "cell_type": "code",
   "execution_count": null,
   "id": "a437418b-1ec5-459a-ac8d-3d6ad61e14fd",
   "metadata": {},
   "outputs": [],
   "source": [
    "bootstrap_ci <- age_bootstrap %>%\n",
    "    select(replicate, stat) %>%\n",
    "    get_ci(level = 0.95) #extraction of 95% CI using Infer Package\n",
    "bootstrap_ci"
   ]
  },
  {
   "cell_type": "markdown",
   "id": "711574e7-130a-4903-97bc-1773473a3c8a",
   "metadata": {},
   "source": [
    "Table 6. 95% Confidence Interval based on Bootstrap Distribution.\n",
    "\n",
    "|Lower Bound|Upper Bound|\n",
    "|----|----|\n",
    "|0.4600096|5.339402|\n"
   ]
  },
  {
   "cell_type": "code",
   "execution_count": null,
   "id": "813a935d-7f4b-4df1-8b31-6728749398cf",
   "metadata": {},
   "outputs": [],
   "source": [
    "#CI Visualization\n",
    "\n",
    "visualize(age_bootstrap) +\n",
    "    shade_confidence_interval(endpoints = bootstrap_ci) +\n",
    "    xlab(\"Difference in Mean Age (F - M)\") +\n",
    "    ggtitle(\"Figure 5. Difference in Mean Age of Diseased Females and Males.\")"
   ]
  },
  {
   "cell_type": "markdown",
   "id": "85d2fc8a-6574-4570-8e16-c61f121bd173",
   "metadata": {},
   "source": [
    "### Methods"
   ]
  },
  {
   "cell_type": "markdown",
   "id": "ef04a024-792d-430e-ae15-974d25831ca3",
   "metadata": {},
   "source": [
    "Based on previous studies and preliminary analysis of the data, we expect to find a statistically significant difference in the mean age of men and women suffering from CVDs, with the age of men being lower than that of women (Mosca et al., 2011). It is our hope that understanding the average age of men and women suffering from CVDs and standard deviation will contribute to more informed diagnoses for patients. Moreover, these findings, along with further research into female-specific risk factors and disease mitigation, could help shape clinical practice and improve disease outcomes for women.\n",
    "\n",
    "First, in our preliminary analysis we look at the Cleveland data as the representative sample of our population, Canada. We calculate the sample statistics, examining our parameters of interest: average age and standard deviation. Based on preliminary findings of our estimates and histogram, we can already see a difference in average age between both sexes which supports our previous research.\n",
    "\n",
    "The histogram and estimates we produced above display the mean ages for male and female patients from the data respectively. However, our data set only encompasses cardiovascular disease patients from the Cleveland data, which cannot accurately represent Canada, the population of interest. Given that the Cleveland data is only one sample of data and there is a notable difference in sample size between male and female patients. \n",
    "\n",
    "With the Cleveland data as our sample, we perform the bootstrap method to respectively estimate the mean and standard deviation for the age of male and female patients in Canada as bootstrap samples many times (10,000 resamples). We calculate the parameters of interest (difference in mean ages and standard deviation of ages) from the bootstrap sample to estimate for our population, Canada.\n",
    "\n",
    "To answer our research question, we perform a one-sided hypothesis test; calculating the p-value from our bootstrap sample to determine if the results support the claims of previous research (alternative hypothesis). We perform a one-sided hypothesis test where the null hypothesis is that the difference in mean ages is zero (the mean ages are the same between sexes) and the alternative hypothesis being that the mean age of men suffering from CVDs is lower than that of women, as seen in previous research.\n",
    "\n",
    "Subsequently, We visualized and compared the null model with the bootstrap sampling distribution in Figures 3 and 4.\n",
    "\n",
    "From calculating the p-value, we got a value of 0.0385 which is smaller than our 0.05 significance level. Therefore, we reject the null hypothesis that the mean ages for both sexes of CVD patients are the same, and favour the alternative hypothesis supporting previous research that male patients have a lower average age compared to female patients.\n",
    "\n",
    "Finally, we calculate the confidence intervals to get a range of where our population mean is likely within. This will help us find ranges for the mean age estimates in Canada (our population) from our bootstrap of the sample data with Cleveland patients."
   ]
  },
  {
   "cell_type": "markdown",
   "id": "5e4b219b-3804-4688-b994-0967750ab917",
   "metadata": {},
   "source": [
    "### References"
   ]
  },
  {
   "cell_type": "markdown",
   "id": "7bc5efd3-3829-4390-a459-105ed0249eb6",
   "metadata": {},
   "source": [
    "Mosca, L., Barrett-Connor, E., & Wenger, N. K. (2011). Sex/gender differences in cardiovascular disease prevention: What a difference a decade makes. Circulation, 124(19), 2145–2154. https://doi.org/10.1161/CIRCULATIONAHA.110.968792\n",
    "\n",
    "Public Health Agency (P.H.A) of Canada. (2017, February 10). Heart Disease in Canada. Canada.ca. Retrieved July 26, 2022, from https://www.canada.ca/en/public-health/services/publications/diseases-conditions/heart-disease-canada.html\n",
    "\n",
    "Solé-Auró, A., Michaud, P.-C., Hurd, M., & Crimmins, E. (2015). Disease Incidence and Mortality Among Older Americans and Europeans. Demography, 52(2), 593–611. https://doi.org/10.1007/s13524-015-0372-7\n",
    "\n",
    "Statistics Canada. (2022). Leading causes of death, total population, by age group [Data set]. Government of Canada. https://doi.org/10.25318/1310039401-ENG"
   ]
  },
  {
   "cell_type": "code",
   "execution_count": null,
   "id": "8977f7cb-3a86-4047-9df0-e9eae787dcb3",
   "metadata": {},
   "outputs": [],
   "source": []
  }
 ],
 "metadata": {
  "kernelspec": {
   "display_name": "R",
   "language": "R",
   "name": "ir"
  },
  "language_info": {
   "codemirror_mode": "r",
   "file_extension": ".r",
   "mimetype": "text/x-r-source",
   "name": "R",
   "pygments_lexer": "r",
   "version": "4.0.5"
  }
 },
 "nbformat": 4,
 "nbformat_minor": 5
}
