{
 "cells": [
  {
   "cell_type": "markdown",
   "id": "89258b2a-1ae4-4492-acae-a5854ddd1d57",
   "metadata": {},
   "source": [
    "# Working title\n",
    "\n",
    "#### STAT 201 Group Project Proposal ####\n",
    "##### Group 17 - *Janice Chan, Ena Gupta, Gael Hernandez Palmer*"
   ]
  },
  {
   "cell_type": "markdown",
   "id": "80dfffd9-3f4b-4afd-9cf5-7892e8bdbfdb",
   "metadata": {},
   "source": [
    "### Introduction"
   ]
  },
  {
   "cell_type": "markdown",
   "id": "481bd3a5-67aa-4e9f-ac6d-d4ed1b657ee1",
   "metadata": {},
   "source": [
    "..."
   ]
  },
  {
   "cell_type": "markdown",
   "id": "4ffd0b2e-9c11-4dc3-8ce9-29a77c9a6711",
   "metadata": {},
   "source": [
    "### Preliminary Results"
   ]
  },
  {
   "cell_type": "code",
   "execution_count": 2,
   "id": "58c035df-ec77-4fe2-802b-553619d789a4",
   "metadata": {},
   "outputs": [
    {
     "name": "stderr",
     "output_type": "stream",
     "text": [
      "── \u001b[1mAttaching packages\u001b[22m ─────────────────────────────────────── tidyverse 1.3.0 ──\n",
      "\n",
      "\u001b[32m✔\u001b[39m \u001b[34mggplot2\u001b[39m 3.3.6     \u001b[32m✔\u001b[39m \u001b[34mpurrr  \u001b[39m 0.3.4\n",
      "\u001b[32m✔\u001b[39m \u001b[34mtibble \u001b[39m 3.1.7     \u001b[32m✔\u001b[39m \u001b[34mdplyr  \u001b[39m 1.0.9\n",
      "\u001b[32m✔\u001b[39m \u001b[34mtidyr  \u001b[39m 1.2.0     \u001b[32m✔\u001b[39m \u001b[34mstringr\u001b[39m 1.4.0\n",
      "\u001b[32m✔\u001b[39m \u001b[34mreadr  \u001b[39m 2.1.2     \u001b[32m✔\u001b[39m \u001b[34mforcats\u001b[39m 0.5.1\n",
      "\n",
      "── \u001b[1mConflicts\u001b[22m ────────────────────────────────────────── tidyverse_conflicts() ──\n",
      "\u001b[31m✖\u001b[39m \u001b[34mdplyr\u001b[39m::\u001b[32mfilter()\u001b[39m masks \u001b[34mstats\u001b[39m::filter()\n",
      "\u001b[31m✖\u001b[39m \u001b[34mdplyr\u001b[39m::\u001b[32mlag()\u001b[39m    masks \u001b[34mstats\u001b[39m::lag()\n",
      "\n"
     ]
    }
   ],
   "source": [
    "# Load packages\n",
    "library(digest)\n",
    "library(infer)\n",
    "library(repr)\n",
    "library(tidyverse)\n",
    "library(dplyr)"
   ]
  },
  {
   "cell_type": "code",
   "execution_count": null,
   "id": "8037fe41-17d8-4aec-95b1-0a12ceec0df0",
   "metadata": {},
   "outputs": [],
   "source": []
  },
  {
   "cell_type": "code",
   "execution_count": null,
   "id": "84d52861-fc7a-4358-beb0-73efb91c68a2",
   "metadata": {},
   "outputs": [],
   "source": []
  },
  {
   "cell_type": "code",
   "execution_count": 3,
   "id": "4670177f-1f56-4b5c-84b3-845e821e68a8",
   "metadata": {},
   "outputs": [
    {
     "name": "stderr",
     "output_type": "stream",
     "text": [
      "\u001b[1mRows: \u001b[22m\u001b[34m303\u001b[39m \u001b[1mColumns: \u001b[22m\u001b[34m14\u001b[39m\n",
      "\u001b[36m──\u001b[39m \u001b[1mColumn specification\u001b[22m \u001b[36m────────────────────────────────────────────────────────\u001b[39m\n",
      "\u001b[1mDelimiter:\u001b[22m \",\"\n",
      "\u001b[31mchr\u001b[39m  (2): X12, X13\n",
      "\u001b[32mdbl\u001b[39m (12): X1, X2, X3, X4, X5, X6, X7, X8, X9, X10, X11, X14\n",
      "\n",
      "\u001b[36mℹ\u001b[39m Use `spec()` to retrieve the full column specification for this data.\n",
      "\u001b[36mℹ\u001b[39m Specify the column types or set `show_col_types = FALSE` to quiet this message.\n"
     ]
    },
    {
     "data": {
      "text/html": [
       "<table class=\"dataframe\">\n",
       "<caption>A tibble: 6 × 14</caption>\n",
       "<thead>\n",
       "\t<tr><th scope=col>age</th><th scope=col>sex</th><th scope=col>chest_pain</th><th scope=col>resting_bp</th><th scope=col>cholesterol</th><th scope=col>bldsg_over120</th><th scope=col>rest_ecg</th><th scope=col>max_hr</th><th scope=col>ex_angina</th><th scope=col>old_peak</th><th scope=col>slope</th><th scope=col>flr_ves</th><th scope=col>thalassemia</th><th scope=col>disease</th></tr>\n",
       "\t<tr><th scope=col>&lt;dbl&gt;</th><th scope=col>&lt;fct&gt;</th><th scope=col>&lt;fct&gt;</th><th scope=col>&lt;dbl&gt;</th><th scope=col>&lt;dbl&gt;</th><th scope=col>&lt;fct&gt;</th><th scope=col>&lt;fct&gt;</th><th scope=col>&lt;dbl&gt;</th><th scope=col>&lt;fct&gt;</th><th scope=col>&lt;dbl&gt;</th><th scope=col>&lt;fct&gt;</th><th scope=col>&lt;chr&gt;</th><th scope=col>&lt;fct&gt;</th><th scope=col>&lt;dbl&gt;</th></tr>\n",
       "</thead>\n",
       "<tbody>\n",
       "\t<tr><td>63</td><td>male  </td><td>typical_angina </td><td>145</td><td>233</td><td>yes</td><td>lv_hyptroph</td><td>150</td><td>no </td><td>2.3</td><td>downslope</td><td>0.0</td><td>fxd_def</td><td>0</td></tr>\n",
       "\t<tr><td>67</td><td>male  </td><td>asymptomatic   </td><td>160</td><td>286</td><td>no </td><td>lv_hyptroph</td><td>108</td><td>yes</td><td>1.5</td><td>flat     </td><td>3.0</td><td>normal </td><td>2</td></tr>\n",
       "\t<tr><td>67</td><td>male  </td><td>asymptomatic   </td><td>120</td><td>229</td><td>no </td><td>lv_hyptroph</td><td>129</td><td>yes</td><td>2.6</td><td>flat     </td><td>2.0</td><td>rev_def</td><td>1</td></tr>\n",
       "\t<tr><td>37</td><td>male  </td><td>nonanginal_pain</td><td>130</td><td>250</td><td>no </td><td>normal     </td><td>187</td><td>no </td><td>3.5</td><td>downslope</td><td>0.0</td><td>normal </td><td>0</td></tr>\n",
       "\t<tr><td>41</td><td>female</td><td>atypical_angina</td><td>130</td><td>204</td><td>no </td><td>lv_hyptroph</td><td>172</td><td>no </td><td>1.4</td><td>upslope  </td><td>0.0</td><td>normal </td><td>0</td></tr>\n",
       "\t<tr><td>56</td><td>male  </td><td>atypical_angina</td><td>120</td><td>236</td><td>no </td><td>normal     </td><td>178</td><td>no </td><td>0.8</td><td>upslope  </td><td>0.0</td><td>normal </td><td>0</td></tr>\n",
       "</tbody>\n",
       "</table>\n"
      ],
      "text/latex": [
       "A tibble: 6 × 14\n",
       "\\begin{tabular}{llllllllllllll}\n",
       " age & sex & chest\\_pain & resting\\_bp & cholesterol & bldsg\\_over120 & rest\\_ecg & max\\_hr & ex\\_angina & old\\_peak & slope & flr\\_ves & thalassemia & disease\\\\\n",
       " <dbl> & <fct> & <fct> & <dbl> & <dbl> & <fct> & <fct> & <dbl> & <fct> & <dbl> & <fct> & <chr> & <fct> & <dbl>\\\\\n",
       "\\hline\n",
       "\t 63 & male   & typical\\_angina  & 145 & 233 & yes & lv\\_hyptroph & 150 & no  & 2.3 & downslope & 0.0 & fxd\\_def & 0\\\\\n",
       "\t 67 & male   & asymptomatic    & 160 & 286 & no  & lv\\_hyptroph & 108 & yes & 1.5 & flat      & 3.0 & normal  & 2\\\\\n",
       "\t 67 & male   & asymptomatic    & 120 & 229 & no  & lv\\_hyptroph & 129 & yes & 2.6 & flat      & 2.0 & rev\\_def & 1\\\\\n",
       "\t 37 & male   & nonanginal\\_pain & 130 & 250 & no  & normal      & 187 & no  & 3.5 & downslope & 0.0 & normal  & 0\\\\\n",
       "\t 41 & female & atypical\\_angina & 130 & 204 & no  & lv\\_hyptroph & 172 & no  & 1.4 & upslope   & 0.0 & normal  & 0\\\\\n",
       "\t 56 & male   & atypical\\_angina & 120 & 236 & no  & normal      & 178 & no  & 0.8 & upslope   & 0.0 & normal  & 0\\\\\n",
       "\\end{tabular}\n"
      ],
      "text/markdown": [
       "\n",
       "A tibble: 6 × 14\n",
       "\n",
       "| age &lt;dbl&gt; | sex &lt;fct&gt; | chest_pain &lt;fct&gt; | resting_bp &lt;dbl&gt; | cholesterol &lt;dbl&gt; | bldsg_over120 &lt;fct&gt; | rest_ecg &lt;fct&gt; | max_hr &lt;dbl&gt; | ex_angina &lt;fct&gt; | old_peak &lt;dbl&gt; | slope &lt;fct&gt; | flr_ves &lt;chr&gt; | thalassemia &lt;fct&gt; | disease &lt;dbl&gt; |\n",
       "|---|---|---|---|---|---|---|---|---|---|---|---|---|---|\n",
       "| 63 | male   | typical_angina  | 145 | 233 | yes | lv_hyptroph | 150 | no  | 2.3 | downslope | 0.0 | fxd_def | 0 |\n",
       "| 67 | male   | asymptomatic    | 160 | 286 | no  | lv_hyptroph | 108 | yes | 1.5 | flat      | 3.0 | normal  | 2 |\n",
       "| 67 | male   | asymptomatic    | 120 | 229 | no  | lv_hyptroph | 129 | yes | 2.6 | flat      | 2.0 | rev_def | 1 |\n",
       "| 37 | male   | nonanginal_pain | 130 | 250 | no  | normal      | 187 | no  | 3.5 | downslope | 0.0 | normal  | 0 |\n",
       "| 41 | female | atypical_angina | 130 | 204 | no  | lv_hyptroph | 172 | no  | 1.4 | upslope   | 0.0 | normal  | 0 |\n",
       "| 56 | male   | atypical_angina | 120 | 236 | no  | normal      | 178 | no  | 0.8 | upslope   | 0.0 | normal  | 0 |\n",
       "\n"
      ],
      "text/plain": [
       "  age sex    chest_pain      resting_bp cholesterol bldsg_over120 rest_ecg   \n",
       "1 63  male   typical_angina  145        233         yes           lv_hyptroph\n",
       "2 67  male   asymptomatic    160        286         no            lv_hyptroph\n",
       "3 67  male   asymptomatic    120        229         no            lv_hyptroph\n",
       "4 37  male   nonanginal_pain 130        250         no            normal     \n",
       "5 41  female atypical_angina 130        204         no            lv_hyptroph\n",
       "6 56  male   atypical_angina 120        236         no            normal     \n",
       "  max_hr ex_angina old_peak slope     flr_ves thalassemia disease\n",
       "1 150    no        2.3      downslope 0.0     fxd_def     0      \n",
       "2 108    yes       1.5      flat      3.0     normal      2      \n",
       "3 129    yes       2.6      flat      2.0     rev_def     1      \n",
       "4 187    no        3.5      downslope 0.0     normal      0      \n",
       "5 172    no        1.4      upslope   0.0     normal      0      \n",
       "6 178    no        0.8      upslope   0.0     normal      0      "
      ]
     },
     "metadata": {},
     "output_type": "display_data"
    }
   ],
   "source": [
    "# set seed for reproducibility\n",
    "set.seed(1234)\n",
    "\n",
    "# HEART DISEASE DATA (Compiled)\n",
    "# load data\n",
    "\n",
    "heart_disease_data <- read_delim(\"https://archive.ics.uci.edu/ml/machine-learning-databases/heart-disease/processed.cleveland.data\", \n",
    "                                 delim = \",\",\n",
    "                                 col_names = FALSE) %>%\n",
    "    transmute(age = X1,\n",
    "              sex = factor(X2) %>%\n",
    "                  fct_recode(female = \"0\",\n",
    "                             male = \"1\"),\n",
    "              chest_pain = factor(X3) %>%\n",
    "                  fct_recode(typical_angina = \"1\",\n",
    "                             atypical_angina = \"2\",\n",
    "                             nonanginal_pain = \"3\",\n",
    "                             asymptomatic = \"4\"),\n",
    "              resting_bp = X4,\n",
    "              cholesterol = X5,\n",
    "              bldsg_over120 = factor(X6) %>%\n",
    "                  fct_recode(no = \"0\",\n",
    "                             yes = \"1\"),\n",
    "              rest_ecg = factor(X7) %>%\n",
    "                  fct_recode(normal = \"0\",\n",
    "                             stt_abnormal = \"1\",\n",
    "                             lv_hyptroph = \"2\"),\n",
    "              max_hr = X8,\n",
    "              ex_angina = factor(X9) %>%\n",
    "                  fct_recode(no = \"0\",\n",
    "                             yes = \"1\"),\n",
    "              old_peak = X10,\n",
    "              slope = factor(X11) %>%\n",
    "                  fct_recode(upslope = \"1\",\n",
    "                             flat = \"2\",\n",
    "                             downslope = \"3\"),\n",
    "              flr_ves = X12,\n",
    "              thalassemia = factor(X13) %>%\n",
    "                  fct_recode(normal = \"3.0\",\n",
    "                             fxd_def = \"6.0\",\n",
    "                             rev_def = \"7.0\"),\n",
    "              disease = X14)\n",
    "              \n",
    "           \n",
    "              \n",
    "head(heart_disease_data)\n",
    "\n",
    "                      "
   ]
  },
  {
   "cell_type": "code",
   "execution_count": 4,
   "id": "4f837c8e-1169-49db-ad1c-f2b26decaad6",
   "metadata": {},
   "outputs": [
    {
     "data": {
      "text/html": [
       "<table class=\"dataframe\">\n",
       "<caption>A tibble: 6 × 4</caption>\n",
       "<thead>\n",
       "\t<tr><th scope=col>age</th><th scope=col>sex</th><th scope=col>cholesterol</th><th scope=col>disease</th></tr>\n",
       "\t<tr><th scope=col>&lt;dbl&gt;</th><th scope=col>&lt;fct&gt;</th><th scope=col>&lt;dbl&gt;</th><th scope=col>&lt;dbl&gt;</th></tr>\n",
       "</thead>\n",
       "<tbody>\n",
       "\t<tr><td>67</td><td>male</td><td>286</td><td>2</td></tr>\n",
       "\t<tr><td>67</td><td>male</td><td>229</td><td>1</td></tr>\n",
       "\t<tr><td>63</td><td>male</td><td>254</td><td>2</td></tr>\n",
       "\t<tr><td>53</td><td>male</td><td>203</td><td>1</td></tr>\n",
       "\t<tr><td>56</td><td>male</td><td>256</td><td>2</td></tr>\n",
       "\t<tr><td>48</td><td>male</td><td>229</td><td>1</td></tr>\n",
       "</tbody>\n",
       "</table>\n"
      ],
      "text/latex": [
       "A tibble: 6 × 4\n",
       "\\begin{tabular}{llll}\n",
       " age & sex & cholesterol & disease\\\\\n",
       " <dbl> & <fct> & <dbl> & <dbl>\\\\\n",
       "\\hline\n",
       "\t 67 & male & 286 & 2\\\\\n",
       "\t 67 & male & 229 & 1\\\\\n",
       "\t 63 & male & 254 & 2\\\\\n",
       "\t 53 & male & 203 & 1\\\\\n",
       "\t 56 & male & 256 & 2\\\\\n",
       "\t 48 & male & 229 & 1\\\\\n",
       "\\end{tabular}\n"
      ],
      "text/markdown": [
       "\n",
       "A tibble: 6 × 4\n",
       "\n",
       "| age &lt;dbl&gt; | sex &lt;fct&gt; | cholesterol &lt;dbl&gt; | disease &lt;dbl&gt; |\n",
       "|---|---|---|---|\n",
       "| 67 | male | 286 | 2 |\n",
       "| 67 | male | 229 | 1 |\n",
       "| 63 | male | 254 | 2 |\n",
       "| 53 | male | 203 | 1 |\n",
       "| 56 | male | 256 | 2 |\n",
       "| 48 | male | 229 | 1 |\n",
       "\n"
      ],
      "text/plain": [
       "  age sex  cholesterol disease\n",
       "1 67  male 286         2      \n",
       "2 67  male 229         1      \n",
       "3 63  male 254         2      \n",
       "4 53  male 203         1      \n",
       "5 56  male 256         2      \n",
       "6 48  male 229         1      "
      ]
     },
     "metadata": {},
     "output_type": "display_data"
    },
    {
     "data": {
      "text/html": [
       "<table class=\"dataframe\">\n",
       "<caption>A tibble: 6 × 4</caption>\n",
       "<thead>\n",
       "\t<tr><th scope=col>age</th><th scope=col>sex</th><th scope=col>cholesterol</th><th scope=col>disease</th></tr>\n",
       "\t<tr><th scope=col>&lt;dbl&gt;</th><th scope=col>&lt;fct&gt;</th><th scope=col>&lt;dbl&gt;</th><th scope=col>&lt;dbl&gt;</th></tr>\n",
       "</thead>\n",
       "<tbody>\n",
       "\t<tr><td>62</td><td>female</td><td>268</td><td>3</td></tr>\n",
       "\t<tr><td>65</td><td>female</td><td>225</td><td>4</td></tr>\n",
       "\t<tr><td>61</td><td>female</td><td>330</td><td>1</td></tr>\n",
       "\t<tr><td>51</td><td>female</td><td>305</td><td>2</td></tr>\n",
       "\t<tr><td>62</td><td>female</td><td>164</td><td>3</td></tr>\n",
       "\t<tr><td>60</td><td>female</td><td>258</td><td>3</td></tr>\n",
       "</tbody>\n",
       "</table>\n"
      ],
      "text/latex": [
       "A tibble: 6 × 4\n",
       "\\begin{tabular}{llll}\n",
       " age & sex & cholesterol & disease\\\\\n",
       " <dbl> & <fct> & <dbl> & <dbl>\\\\\n",
       "\\hline\n",
       "\t 62 & female & 268 & 3\\\\\n",
       "\t 65 & female & 225 & 4\\\\\n",
       "\t 61 & female & 330 & 1\\\\\n",
       "\t 51 & female & 305 & 2\\\\\n",
       "\t 62 & female & 164 & 3\\\\\n",
       "\t 60 & female & 258 & 3\\\\\n",
       "\\end{tabular}\n"
      ],
      "text/markdown": [
       "\n",
       "A tibble: 6 × 4\n",
       "\n",
       "| age &lt;dbl&gt; | sex &lt;fct&gt; | cholesterol &lt;dbl&gt; | disease &lt;dbl&gt; |\n",
       "|---|---|---|---|\n",
       "| 62 | female | 268 | 3 |\n",
       "| 65 | female | 225 | 4 |\n",
       "| 61 | female | 330 | 1 |\n",
       "| 51 | female | 305 | 2 |\n",
       "| 62 | female | 164 | 3 |\n",
       "| 60 | female | 258 | 3 |\n",
       "\n"
      ],
      "text/plain": [
       "  age sex    cholesterol disease\n",
       "1 62  female 268         3      \n",
       "2 65  female 225         4      \n",
       "3 61  female 330         1      \n",
       "4 51  female 305         2      \n",
       "5 62  female 164         3      \n",
       "6 60  female 258         3      "
      ]
     },
     "metadata": {},
     "output_type": "display_data"
    }
   ],
   "source": [
    "# Separate\n",
    "\n",
    "male_diseased <- heart_disease_data %>%\n",
    "    select(age, sex, cholesterol, disease) %>%\n",
    "    filter(sex == \"male\",\n",
    "           disease %in% c(1, 2, 3, 4))\n",
    "\n",
    "head(male_diseased)\n",
    "\n",
    "female_diseased <- heart_disease_data %>%\n",
    "    select(age, sex, cholesterol, disease) %>%\n",
    "    filter(sex == \"female\",\n",
    "           disease %in% c(1, 2, 3, 4))\n",
    "\n",
    "head(female_diseased)"
   ]
  },
  {
   "cell_type": "code",
   "execution_count": 5,
   "id": "fe7d7bca-cf0c-4846-9189-a8c5bf9b5d5b",
   "metadata": {},
   "outputs": [],
   "source": [
    "# summarize data (estimates)"
   ]
  },
  {
   "cell_type": "code",
   "execution_count": 11,
   "id": "4e4f445d-c666-43be-8abd-3ca0872fb249",
   "metadata": {},
   "outputs": [
    {
     "data": {
      "image/png": "[encoded data removed]",
      "text/plain": [
       "plot without title"
      ]
     },
     "metadata": {
      "image/png": {
       "height": 420,
       "width": 420
      }
     },
     "output_type": "display_data"
    },
    {
     "data": {
      "image/png": "[encoded data removed]",
      "text/plain": [
       "plot without title"
      ]
     },
     "metadata": {
      "image/png": {
       "height": 420,
       "width": 420
      }
     },
     "output_type": "display_data"
    }
   ],
   "source": [
    "# plot raw data\n",
    "\n",
    "# Male\n",
    "heart_disease_male <- male_diseased %>%\n",
    "    ggplot(aes(x = age)) + \n",
    "    geom_histogram(binwidth = 1, color = \"white\") + \n",
    "    xlab(\"Age (years)\") +\n",
    "    ggtitle(\"Age of Diseased Males\") +\n",
    "    theme(text = element_text(size = 18))\n",
    "\n",
    "heart_disease_male\n",
    "\n",
    "# Female\n",
    "heart_disease_female <- female_diseased %>%\n",
    "    ggplot(aes(x = age)) + \n",
    "    geom_histogram(binwidth = 1, color = \"white\") + \n",
    "    xlab(\"Age (years)\") +\n",
    "    ggtitle(\"Age of Diseased Females\") +\n",
    "    theme(text = element_text(size = 18))\n",
    "\n",
    "heart_disease_female"
   ]
  },
  {
   "cell_type": "markdown",
   "id": "85d2fc8a-6574-4570-8e16-c61f121bd173",
   "metadata": {},
   "source": [
    "### Methods"
   ]
  },
  {
   "cell_type": "markdown",
   "id": "ef04a024-792d-430e-ae15-974d25831ca3",
   "metadata": {},
   "source": [
    "..."
   ]
  },
  {
   "cell_type": "markdown",
   "id": "5e4b219b-3804-4688-b994-0967750ab917",
   "metadata": {},
   "source": [
    "### References"
   ]
  },
  {
   "cell_type": "markdown",
   "id": "7bc5efd3-3829-4390-a459-105ed0249eb6",
   "metadata": {},
   "source": [
    "..."
   ]
  }
 ],
 "metadata": {
  "kernelspec": {
   "display_name": "R",
   "language": "R",
   "name": "ir"
  },
  "language_info": {
   "codemirror_mode": "r",
   "file_extension": ".r",
   "mimetype": "text/x-r-source",
   "name": "R",
   "pygments_lexer": "r",
   "version": "4.0.5"
  }
 },
 "nbformat": 4,
 "nbformat_minor": 5
}
