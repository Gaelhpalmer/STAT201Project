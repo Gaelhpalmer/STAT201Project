{
 "cells": [
  {
   "cell_type": "markdown",
   "id": "89258b2a-1ae4-4492-acae-a5854ddd1d57",
   "metadata": {},
   "source": [
    "# **`Analysis of Sex-Based Differences in Age of Cardiovascular Disease Patients`**\n",
    "\n",
    "#### STAT 201 Group Project Proposal ####\n",
    "##### Group 17 - *Janice Chan, Ena Gupta, Gael Hernandez Palmer*"
   ]
  },
  {
   "cell_type": "markdown",
   "id": "80dfffd9-3f4b-4afd-9cf5-7892e8bdbfdb",
   "metadata": {},
   "source": [
    "### Introduction"
   ]
  },
  {
   "cell_type": "markdown",
   "id": "481bd3a5-67aa-4e9f-ac6d-d4ed1b657ee1",
   "metadata": {},
   "source": [
    "As it currently stands, cardiovascular disease (CVD) is the second leading cause of death for Canadians (Statistics Canada, 2022). Over years of study, scientists have been able to identify and track certain risk factors for CVD in order to better inform prevention and mitigation efforts. Sex-based differences in both the prevalence and clinical presentation of CVDs have long been a topic of interest, with men being afflicted by the disease both more frequently and earlier in their lives (P.H.A of Canada, 2017). The male-focused lens in studying CVDs has historically meant considerable rates of underdiagnosis for women and a misunderstanding of the differences in presentation of disease. \n",
    "\n",
    "In this project, our aim is to use compiled data to quantify the difference in mean age between men and women suffering from CVD and their respective standard deviations. To achieve this we will be using the “Heart Disease Data Set” published on the UCI Machine Learning Repository by David Aha. We have selected the Cleveland Clinic database as opposed to the European databases to obtain results that can be generalized to the greater Canadian public based on similar lifestyle and socio-economic distributions between the United States and Canada (Solé-Auro et al., 2017). Our initial report will focus on obtaining summary statistics and visualizations that can help us perform a well-informed analysis using inferential tools as a guide. Age is just one general trait that we can examine between CVD patients. Further research can enhance understanding the different ways CVD impacts patients between males and females, for example comparing the difference in cholesterol levels between male and female patients."
   ]
  },
  {
   "cell_type": "markdown",
   "id": "3a2fb6a2-7fee-44b8-9c77-437ad17fa499",
   "metadata": {
    "tags": []
   },
   "source": [
    "### Dataset:"
   ]
  },
  {
   "cell_type": "markdown",
   "id": "1fd9d02c-212f-4937-8585-3819fe833e16",
   "metadata": {},
   "source": [
    "https://archive.ics.uci.edu/ml/datasets/Heart+Disease\n",
    "\n",
    "By: David W. Aha"
   ]
  },
  {
   "cell_type": "markdown",
   "id": "4ffd0b2e-9c11-4dc3-8ce9-29a77c9a6711",
   "metadata": {},
   "source": [
    "### Preliminary Results"
   ]
  },
  {
   "cell_type": "code",
   "execution_count": null,
   "id": "58c035df-ec77-4fe2-802b-553619d789a4",
   "metadata": {},
   "outputs": [],
   "source": [
    "# Load packages\n",
    "library(digest)\n",
    "library(infer)\n",
    "library(repr)\n",
    "library(tidyverse)\n",
    "library(dplyr)\n",
    "library(ggplot2)"
   ]
  },
  {
   "cell_type": "code",
   "execution_count": null,
   "id": "4670177f-1f56-4b5c-84b3-845e821e68a8",
   "metadata": {},
   "outputs": [],
   "source": [
    "# set seed for reproducibility\n",
    "set.seed(1234)\n",
    "\n",
    "# HEART DISEASE DATA (Compiled)\n",
    "# load data\n",
    "\n",
    "heart_disease_data <- read_delim(\"https://archive.ics.uci.edu/ml/machine-learning-databases/heart-disease/processed.cleveland.data\", \n",
    "                                 delim = \",\",\n",
    "                                 col_names = FALSE) %>%\n",
    "    transmute(age = X1, # clean data; renaming\n",
    "              \n",
    "              sex = factor(X2) %>%\n",
    "                  fct_recode(female = \"0\", # binary -> factors\n",
    "                             male = \"1\"),\n",
    "              \n",
    "              chest_pain = factor(X3) %>% # Type of chest pain reported\n",
    "                  fct_recode(typical_angina = \"1\", # numerical -> factors\n",
    "                             atypical_angina = \"2\",\n",
    "                             nonanginal_pain = \"3\",\n",
    "                             asymptomatic = \"4\"),\n",
    "              \n",
    "              resting_bp = X4, # Resting blood pressure (mm/Hg)\n",
    "              \n",
    "              cholesterol = X5, # Total cholesterol (mg/dL)\n",
    "              \n",
    "              bldsg_over120 = factor(X6) %>% # Indicates wether the patient's blood sugar is over 120 mg/dL\n",
    "                  fct_recode(no = \"0\", # binary -> factors\n",
    "                             yes = \"1\"),\n",
    "              \n",
    "              rest_ecg = factor(X7) %>% # Resting ECG results\n",
    "                  fct_recode(normal = \"0\", # numerical -> factors\n",
    "                             stt_abnormal = \"1\", \n",
    "                             lv_hyptroph = \"2\"),\n",
    "              \n",
    "              max_hr = X8, # Maximum observed heart rate\n",
    "              \n",
    "              ex_angina = factor(X9) %>% # Presence of exercise induced angina\n",
    "                  fct_recode(no = \"0\", # binary -> factors\n",
    "                             yes = \"1\"),\n",
    "              \n",
    "              old_peak = X10, # ST depression induced by exercise relative to rest\n",
    "              \n",
    "              slope = factor(X11) %>% # Slope of peak exercise ST segment\n",
    "                  fct_recode(upslope = \"1\", # numerical -> factors\n",
    "                             flat = \"2\",\n",
    "                             downslope = \"3\"),\n",
    "              \n",
    "              flr_ves = X12, # Number of vessels coloured by fluoroscopy\n",
    "              \n",
    "              thalassemia = factor(X13) %>% \n",
    "                  fct_recode(normal = \"3.0\", # numerical -> factors\n",
    "                             fxd_def = \"6.0\",\n",
    "                             rev_def = \"7.0\"),\n",
    "              \n",
    "              disease = factor(X14) %>% # Disease progression\n",
    "                 fct_recode(no = \"0\", # numerical -> factors\n",
    "                            yes = \"1\",\n",
    "                            yes = \"2\", # 1-4 indicate disease progression \n",
    "                            yes = \"3\", # for our analysis we only care about absence/presence of disease\n",
    "                            yes = \"4\")) \n",
    "\n",
    "## **NOTE**: \n",
    "## Code refactoring was done based on provided attribute information which can be accessed at:\n",
    "## https://raw.githubusercontent.com/Gaelhpalmer/STAT201Project/main/desc.names\n",
    "              \n",
    "head(heart_disease_data)\n",
    "\n",
    "# Heart disease data for male patients\n",
    "male_diseased = heart_disease_data %>%\n",
    "    filter(sex == \"male\",\n",
    "           disease == \"yes\") %>% # filter for those diagnosed with heart disease\n",
    "    select(age, sex, disease) # select relevant attributes\n",
    "\n",
    "print(\"Diseased Males\")\n",
    "head(male_diseased)\n",
    "\n",
    "# Heart disease data for female patients\n",
    "female_diseased = heart_disease_data %>%\n",
    "    filter(sex == \"female\",\n",
    "           disease == \"yes\") %>% # filter for those diagnosed with heart disease\n",
    "    select(age, sex, disease) # select relevant attributes\n",
    "\n",
    "print(\"Diseased Females\")\n",
    "head(female_diseased)"
   ]
  },
  {
   "cell_type": "code",
   "execution_count": null,
   "id": "fe7d7bca-cf0c-4846-9189-a8c5bf9b5d5b",
   "metadata": {},
   "outputs": [],
   "source": [
    "# summarize data (estimates)\n",
    "\n",
    "# Average age in male patients\n",
    "mean_age_male = mean(male_diseased$age) %>%\n",
    "    round(digits = 2)\n",
    "\n",
    "\n",
    "\n",
    "# Standard deviation of age in male patients\n",
    "sd_age_male = sd(male_diseased$age) %>%\n",
    "    round(digits = 2)\n",
    "\n",
    "\n",
    "# Average age in female patients\n",
    "mean_age_female = mean(female_diseased$age) %>%\n",
    "    round(digits = 2)\n",
    "\n",
    "\n",
    "# Standard deviation of age in female patients\n",
    "sd_age_female = sd(female_diseased$age) %>%\n",
    "    round(digits = 2)\n",
    "\n",
    "\n",
    "summary_data = heart_disease_data %>%\n",
    "    filter(disease == \"yes\") %>%\n",
    "    group_by(sex) %>%\n",
    "    summarize(mean_age = mean(age)) %>%\n",
    "    select(mean_age)\n"
   ]
  },
  {
   "cell_type": "markdown",
   "id": "4acafe8a-8426-42b7-ad98-164e6e517112",
   "metadata": {},
   "source": [
    "#### Average age of heart disease patients:\n",
    "| Male patients      | Female patients |\n",
    "| ----------- | ----------- |\n",
    "| 56.09      | 59.08       |\n",
    "\n",
    "#### Standard deviation of age in heart disease patients:\n",
    "| Male patients      | Female patients |\n",
    "| ----------- | ----------- |\n",
    "| 8.39     | 4.86       |"
   ]
  },
  {
   "cell_type": "code",
   "execution_count": 2,
   "id": "4e4f445d-c666-43be-8abd-3ca0872fb249",
   "metadata": {},
   "outputs": [
    {
     "ename": "ERROR",
     "evalue": "Error in heart_disease_data %>% ggplot(aes(x = age, fill = sex)): could not find function \"%>%\"\n",
     "output_type": "error",
     "traceback": [
      "Error in heart_disease_data %>% ggplot(aes(x = age, fill = sex)): could not find function \"%>%\"\nTraceback:\n"
     ]
    }
   ],
   "source": [
    "# plot raw data\n",
    "\n",
    "# Both male and female patients\n",
    "age_plot <- heart_disease_data %>%\n",
    "    ggplot(aes(x = age, fill = sex)) +\n",
    "    geom_histogram(binwidth = 5) +\n",
    "    facet_grid(rows = vars(sex)) +\n",
    "    geom_vline(xintercept = mean_age_male, linetype = \"dashed\", size = 1, color = \"blue\") +\n",
    "    geom_vline(xintercept = mean_age_female, linetype = \"dashed\", size = 1, color = \"red\") +\n",
    "    labs(title = \"Age of Diseased Patients\",\n",
    "         xlab = \"Age\",\n",
    "         fill = \"Sex\") +\n",
    "    theme(text = element_text(size = 20))\n",
    "\n",
    "age_plot"
   ]
  },
  {
   "cell_type": "markdown",
   "id": "85d2fc8a-6574-4570-8e16-c61f121bd173",
   "metadata": {},
   "source": [
    "### Methods"
   ]
  },
  {
   "cell_type": "markdown",
   "id": "ef04a024-792d-430e-ae15-974d25831ca3",
   "metadata": {},
   "source": [
    "Based on preliminary findings of our estimates and histogram, we can already see a difference in average age between both sexes which supports our previous research.\n",
    "\n",
    "The histogram and estimates we produced above display the mean ages for male and female patients from the data respectively. However, our data set only encompasses cardiovascular disease patients from the Cleveland data, which cannot accurately represent Canada, the population of interest. Given that the Cleveland data is only one sample of data and there is a notable difference in sample size in male and female patients, with the Cleveland data as our sample, we can perform the bootstrap method to estimate average age of male and female patients in Canada (population parameter) as bootstrap samples many times. We will also look at the standard deviation for each sex to quantify the variability in mean ages. To answer our research question, we will perform a one-sided hypothesis test; calculating the p-value from our bootstrap sample. Based on previous research, we perform a one-sided hypothesis test where the null hypothesis being that the mean ages are the same between sexes and the alternative hypothesis being that the mean age of men suffering from CVDs is lower than that of women. Given from our hypothesis test, we will be able to determine if the results support the claims of previous research. We will also calculate the confidence intervals to get a range of where our population mean is likely within. This will help us find an estimate of our population from our sample data of Cleveland patients. \n",
    "\n",
    "Based on previous studies and preliminary analysis of the data, we expect to find a statistically significant difference in the mean age of men and women suffering from CVDs, with the age of men being lower than that of women (Mosca et al., 2011). It is our hope that understanding the average age of men and women suffering from CVDs and standard deviation will contribute to more informed diagnoses for patients. Moreover, these findings, along with further research into female-specific risk factors and disease mitigation, could help shape clinical practice and improve disease outcomes for women."
   ]
  },
  {
   "cell_type": "markdown",
   "id": "5e4b219b-3804-4688-b994-0967750ab917",
   "metadata": {},
   "source": [
    "### References"
   ]
  },
  {
   "cell_type": "markdown",
   "id": "7bc5efd3-3829-4390-a459-105ed0249eb6",
   "metadata": {},
   "source": [
    "Mosca, L., Barrett-Connor, E., & Wenger, N. K. (2011). Sex/gender differences in cardiovascular disease prevention: What a difference a decade makes. Circulation, 124(19), 2145–2154. https://doi.org/10.1161/CIRCULATIONAHA.110.968792\n",
    "\n",
    "Public Health Agency (P.H.A) of Canada. (2017, February 10). Heart Disease in Canada. Canada.ca. Retrieved July 26, 2022, from https://www.canada.ca/en/public-health/services/publications/diseases-conditions/heart-disease-canada.html\n",
    "\n",
    "Solé-Auró, A., Michaud, P.-C., Hurd, M., & Crimmins, E. (2015). Disease Incidence and Mortality Among Older Americans and Europeans. Demography, 52(2), 593–611. https://doi.org/10.1007/s13524-015-0372-7\n",
    "\n",
    "Statistics Canada. (2022). Leading causes of death, total population, by age group [Data set]. Government of Canada. https://doi.org/10.25318/1310039401-ENG"
   ]
  },
  {
   "cell_type": "code",
   "execution_count": null,
   "id": "fca2d2dc-9222-4ab8-99c8-fb6cbc78d35c",
   "metadata": {},
   "outputs": [],
   "source": []
  },
  {
   "cell_type": "code",
   "execution_count": null,
   "id": "0f5cbce0-da1a-490a-81c2-c45611cfeee4",
   "metadata": {},
   "outputs": [],
   "source": []
  },
  {
   "cell_type": "code",
   "execution_count": null,
   "id": "5efacc55-fe52-4c35-beec-06ea21a9fd38",
   "metadata": {},
   "outputs": [],
   "source": []
  }
 ],
 "metadata": {
  "kernelspec": {
   "display_name": "R",
   "language": "R",
   "name": "ir"
  },
  "language_info": {
   "codemirror_mode": "r",
   "file_extension": ".r",
   "mimetype": "text/x-r-source",
   "name": "R",
   "pygments_lexer": "r",
   "version": "4.1.2"
  }
 },
 "nbformat": 4,
 "nbformat_minor": 5
}
