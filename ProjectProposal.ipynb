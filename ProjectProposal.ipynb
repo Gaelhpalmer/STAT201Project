{
 "cells": [
  {
   "cell_type": "markdown",
   "id": "89258b2a-1ae4-4492-acae-a5854ddd1d57",
   "metadata": {},
   "source": [
    "# **`Analysis of Sex-Based Differences in Age of Cardiovascular Disease Patients`**\n",
    "\n",
    "#### STAT 201 Group Project Proposal ####\n",
    "##### Group 17 - *Janice Chan, Ena Gupta, Gael Hernandez Palmer*"
   ]
  },
  {
   "cell_type": "markdown",
   "id": "80dfffd9-3f4b-4afd-9cf5-7892e8bdbfdb",
   "metadata": {},
   "source": [
    "### Introduction"
   ]
  },
  {
   "cell_type": "markdown",
   "id": "481bd3a5-67aa-4e9f-ac6d-d4ed1b657ee1",
   "metadata": {},
   "source": [
    " As it currently stands, cardiovascular disease (CVD) is the second leading cause of death for Canadians (Statistics Canada, 2022). Over years of study, scientists have been able to identify and track certain risk factors for CVD in order to better inform prevention and mitigation efforts. Sex-based differences in both the prevalence and clinical presentation of CVDs have long been a topic of interest, with men being afflicted by the disease both more frequently and earlier in their lives (P.H.A of Canada, 2017). The male-focused lens in studying CVDs has historically meant considerable rates of underdiagnosis for women, and a misunderstanding of the differences in presentation of disease. \n",
    "\n",
    "In this project, our aim is to use compiled data to measure and quantify the difference in mean age between men and women suffering from CVD. To achieve this we will be using the “Heart Disease Data Set” published on the UCI Machine Learning Repository by David Aha. We have selected the Cleveland Clinic database as opposed to the European databases to obtain results that can be generalized to the greater Canadian public based on similar lifestyle and socio-economic distributions between the United States and Canada (Solé-Auro et al., 2017). Our initial report will focus on obtaining summary statistics and visualizations that can help us perform a well-informed analysis using inferential tools as a guide.  "
   ]
  },
  {
   "cell_type": "markdown",
   "id": "3a2fb6a2-7fee-44b8-9c77-437ad17fa499",
   "metadata": {
    "tags": []
   },
   "source": [
    "### Dataset:"
   ]
  },
  {
   "cell_type": "markdown",
   "id": "1fd9d02c-212f-4937-8585-3819fe833e16",
   "metadata": {},
   "source": [
    "https://archive.ics.uci.edu/ml/datasets/Heart+Disease\n",
    "\n",
    "By: David W. Aha"
   ]
  },
  {
   "cell_type": "markdown",
   "id": "4ffd0b2e-9c11-4dc3-8ce9-29a77c9a6711",
   "metadata": {},
   "source": [
    "### Preliminary Results"
   ]
  },
  {
   "cell_type": "code",
   "execution_count": 27,
   "id": "58c035df-ec77-4fe2-802b-553619d789a4",
   "metadata": {},
   "outputs": [],
   "source": [
    "# Load packages\n",
    "library(digest)\n",
    "library(infer)\n",
    "library(repr)\n",
    "library(tidyverse)\n",
    "library(dplyr)\n",
    "library(ggplot2)"
   ]
  },
  {
   "cell_type": "code",
   "execution_count": 28,
   "id": "4670177f-1f56-4b5c-84b3-845e821e68a8",
   "metadata": {},
   "outputs": [
    {
     "name": "stderr",
     "output_type": "stream",
     "text": [
      "\u001b[1mRows: \u001b[22m\u001b[34m303\u001b[39m \u001b[1mColumns: \u001b[22m\u001b[34m14\u001b[39m\n",
      "\u001b[36m──\u001b[39m \u001b[1mColumn specification\u001b[22m \u001b[36m────────────────────────────────────────────────────────\u001b[39m\n",
      "\u001b[1mDelimiter:\u001b[22m \",\"\n",
      "\u001b[31mchr\u001b[39m  (2): X12, X13\n",
      "\u001b[32mdbl\u001b[39m (12): X1, X2, X3, X4, X5, X6, X7, X8, X9, X10, X11, X14\n",
      "\n",
      "\u001b[36mℹ\u001b[39m Use `spec()` to retrieve the full column specification for this data.\n",
      "\u001b[36mℹ\u001b[39m Specify the column types or set `show_col_types = FALSE` to quiet this message.\n"
     ]
    },
    {
     "data": {
      "text/html": [
       "<table class=\"dataframe\">\n",
       "<caption>A tibble: 6 × 14</caption>\n",
       "<thead>\n",
       "\t<tr><th scope=col>age</th><th scope=col>sex</th><th scope=col>chest_pain</th><th scope=col>resting_bp</th><th scope=col>cholesterol</th><th scope=col>bldsg_over120</th><th scope=col>rest_ecg</th><th scope=col>max_hr</th><th scope=col>ex_angina</th><th scope=col>old_peak</th><th scope=col>slope</th><th scope=col>flr_ves</th><th scope=col>thalassemia</th><th scope=col>disease</th></tr>\n",
       "\t<tr><th scope=col>&lt;dbl&gt;</th><th scope=col>&lt;fct&gt;</th><th scope=col>&lt;fct&gt;</th><th scope=col>&lt;dbl&gt;</th><th scope=col>&lt;dbl&gt;</th><th scope=col>&lt;fct&gt;</th><th scope=col>&lt;fct&gt;</th><th scope=col>&lt;dbl&gt;</th><th scope=col>&lt;fct&gt;</th><th scope=col>&lt;dbl&gt;</th><th scope=col>&lt;fct&gt;</th><th scope=col>&lt;chr&gt;</th><th scope=col>&lt;fct&gt;</th><th scope=col>&lt;fct&gt;</th></tr>\n",
       "</thead>\n",
       "<tbody>\n",
       "\t<tr><td>63</td><td>male  </td><td>typical_angina </td><td>145</td><td>233</td><td>yes</td><td>lv_hyptroph</td><td>150</td><td>no </td><td>2.3</td><td>downslope</td><td>0.0</td><td>fxd_def</td><td>no </td></tr>\n",
       "\t<tr><td>67</td><td>male  </td><td>asymptomatic   </td><td>160</td><td>286</td><td>no </td><td>lv_hyptroph</td><td>108</td><td>yes</td><td>1.5</td><td>flat     </td><td>3.0</td><td>normal </td><td>yes</td></tr>\n",
       "\t<tr><td>67</td><td>male  </td><td>asymptomatic   </td><td>120</td><td>229</td><td>no </td><td>lv_hyptroph</td><td>129</td><td>yes</td><td>2.6</td><td>flat     </td><td>2.0</td><td>rev_def</td><td>yes</td></tr>\n",
       "\t<tr><td>37</td><td>male  </td><td>nonanginal_pain</td><td>130</td><td>250</td><td>no </td><td>normal     </td><td>187</td><td>no </td><td>3.5</td><td>downslope</td><td>0.0</td><td>normal </td><td>no </td></tr>\n",
       "\t<tr><td>41</td><td>female</td><td>atypical_angina</td><td>130</td><td>204</td><td>no </td><td>lv_hyptroph</td><td>172</td><td>no </td><td>1.4</td><td>upslope  </td><td>0.0</td><td>normal </td><td>no </td></tr>\n",
       "\t<tr><td>56</td><td>male  </td><td>atypical_angina</td><td>120</td><td>236</td><td>no </td><td>normal     </td><td>178</td><td>no </td><td>0.8</td><td>upslope  </td><td>0.0</td><td>normal </td><td>no </td></tr>\n",
       "</tbody>\n",
       "</table>\n"
      ],
      "text/latex": [
       "A tibble: 6 × 14\n",
       "\\begin{tabular}{llllllllllllll}\n",
       " age & sex & chest\\_pain & resting\\_bp & cholesterol & bldsg\\_over120 & rest\\_ecg & max\\_hr & ex\\_angina & old\\_peak & slope & flr\\_ves & thalassemia & disease\\\\\n",
       " <dbl> & <fct> & <fct> & <dbl> & <dbl> & <fct> & <fct> & <dbl> & <fct> & <dbl> & <fct> & <chr> & <fct> & <fct>\\\\\n",
       "\\hline\n",
       "\t 63 & male   & typical\\_angina  & 145 & 233 & yes & lv\\_hyptroph & 150 & no  & 2.3 & downslope & 0.0 & fxd\\_def & no \\\\\n",
       "\t 67 & male   & asymptomatic    & 160 & 286 & no  & lv\\_hyptroph & 108 & yes & 1.5 & flat      & 3.0 & normal  & yes\\\\\n",
       "\t 67 & male   & asymptomatic    & 120 & 229 & no  & lv\\_hyptroph & 129 & yes & 2.6 & flat      & 2.0 & rev\\_def & yes\\\\\n",
       "\t 37 & male   & nonanginal\\_pain & 130 & 250 & no  & normal      & 187 & no  & 3.5 & downslope & 0.0 & normal  & no \\\\\n",
       "\t 41 & female & atypical\\_angina & 130 & 204 & no  & lv\\_hyptroph & 172 & no  & 1.4 & upslope   & 0.0 & normal  & no \\\\\n",
       "\t 56 & male   & atypical\\_angina & 120 & 236 & no  & normal      & 178 & no  & 0.8 & upslope   & 0.0 & normal  & no \\\\\n",
       "\\end{tabular}\n"
      ],
      "text/markdown": [
       "\n",
       "A tibble: 6 × 14\n",
       "\n",
       "| age &lt;dbl&gt; | sex &lt;fct&gt; | chest_pain &lt;fct&gt; | resting_bp &lt;dbl&gt; | cholesterol &lt;dbl&gt; | bldsg_over120 &lt;fct&gt; | rest_ecg &lt;fct&gt; | max_hr &lt;dbl&gt; | ex_angina &lt;fct&gt; | old_peak &lt;dbl&gt; | slope &lt;fct&gt; | flr_ves &lt;chr&gt; | thalassemia &lt;fct&gt; | disease &lt;fct&gt; |\n",
       "|---|---|---|---|---|---|---|---|---|---|---|---|---|---|\n",
       "| 63 | male   | typical_angina  | 145 | 233 | yes | lv_hyptroph | 150 | no  | 2.3 | downslope | 0.0 | fxd_def | no  |\n",
       "| 67 | male   | asymptomatic    | 160 | 286 | no  | lv_hyptroph | 108 | yes | 1.5 | flat      | 3.0 | normal  | yes |\n",
       "| 67 | male   | asymptomatic    | 120 | 229 | no  | lv_hyptroph | 129 | yes | 2.6 | flat      | 2.0 | rev_def | yes |\n",
       "| 37 | male   | nonanginal_pain | 130 | 250 | no  | normal      | 187 | no  | 3.5 | downslope | 0.0 | normal  | no  |\n",
       "| 41 | female | atypical_angina | 130 | 204 | no  | lv_hyptroph | 172 | no  | 1.4 | upslope   | 0.0 | normal  | no  |\n",
       "| 56 | male   | atypical_angina | 120 | 236 | no  | normal      | 178 | no  | 0.8 | upslope   | 0.0 | normal  | no  |\n",
       "\n"
      ],
      "text/plain": [
       "  age sex    chest_pain      resting_bp cholesterol bldsg_over120 rest_ecg   \n",
       "1 63  male   typical_angina  145        233         yes           lv_hyptroph\n",
       "2 67  male   asymptomatic    160        286         no            lv_hyptroph\n",
       "3 67  male   asymptomatic    120        229         no            lv_hyptroph\n",
       "4 37  male   nonanginal_pain 130        250         no            normal     \n",
       "5 41  female atypical_angina 130        204         no            lv_hyptroph\n",
       "6 56  male   atypical_angina 120        236         no            normal     \n",
       "  max_hr ex_angina old_peak slope     flr_ves thalassemia disease\n",
       "1 150    no        2.3      downslope 0.0     fxd_def     no     \n",
       "2 108    yes       1.5      flat      3.0     normal      yes    \n",
       "3 129    yes       2.6      flat      2.0     rev_def     yes    \n",
       "4 187    no        3.5      downslope 0.0     normal      no     \n",
       "5 172    no        1.4      upslope   0.0     normal      no     \n",
       "6 178    no        0.8      upslope   0.0     normal      no     "
      ]
     },
     "metadata": {},
     "output_type": "display_data"
    },
    {
     "data": {
      "text/html": [
       "<table class=\"dataframe\">\n",
       "<caption>A tibble: 6 × 3</caption>\n",
       "<thead>\n",
       "\t<tr><th scope=col>age</th><th scope=col>sex</th><th scope=col>disease</th></tr>\n",
       "\t<tr><th scope=col>&lt;dbl&gt;</th><th scope=col>&lt;fct&gt;</th><th scope=col>&lt;fct&gt;</th></tr>\n",
       "</thead>\n",
       "<tbody>\n",
       "\t<tr><td>67</td><td>male</td><td>yes</td></tr>\n",
       "\t<tr><td>67</td><td>male</td><td>yes</td></tr>\n",
       "\t<tr><td>63</td><td>male</td><td>yes</td></tr>\n",
       "\t<tr><td>53</td><td>male</td><td>yes</td></tr>\n",
       "\t<tr><td>56</td><td>male</td><td>yes</td></tr>\n",
       "\t<tr><td>48</td><td>male</td><td>yes</td></tr>\n",
       "</tbody>\n",
       "</table>\n"
      ],
      "text/latex": [
       "A tibble: 6 × 3\n",
       "\\begin{tabular}{lll}\n",
       " age & sex & disease\\\\\n",
       " <dbl> & <fct> & <fct>\\\\\n",
       "\\hline\n",
       "\t 67 & male & yes\\\\\n",
       "\t 67 & male & yes\\\\\n",
       "\t 63 & male & yes\\\\\n",
       "\t 53 & male & yes\\\\\n",
       "\t 56 & male & yes\\\\\n",
       "\t 48 & male & yes\\\\\n",
       "\\end{tabular}\n"
      ],
      "text/markdown": [
       "\n",
       "A tibble: 6 × 3\n",
       "\n",
       "| age &lt;dbl&gt; | sex &lt;fct&gt; | disease &lt;fct&gt; |\n",
       "|---|---|---|\n",
       "| 67 | male | yes |\n",
       "| 67 | male | yes |\n",
       "| 63 | male | yes |\n",
       "| 53 | male | yes |\n",
       "| 56 | male | yes |\n",
       "| 48 | male | yes |\n",
       "\n"
      ],
      "text/plain": [
       "  age sex  disease\n",
       "1 67  male yes    \n",
       "2 67  male yes    \n",
       "3 63  male yes    \n",
       "4 53  male yes    \n",
       "5 56  male yes    \n",
       "6 48  male yes    "
      ]
     },
     "metadata": {},
     "output_type": "display_data"
    },
    {
     "data": {
      "text/html": [
       "<table class=\"dataframe\">\n",
       "<caption>A tibble: 6 × 3</caption>\n",
       "<thead>\n",
       "\t<tr><th scope=col>age</th><th scope=col>sex</th><th scope=col>disease</th></tr>\n",
       "\t<tr><th scope=col>&lt;dbl&gt;</th><th scope=col>&lt;fct&gt;</th><th scope=col>&lt;fct&gt;</th></tr>\n",
       "</thead>\n",
       "<tbody>\n",
       "\t<tr><td>62</td><td>female</td><td>yes</td></tr>\n",
       "\t<tr><td>65</td><td>female</td><td>yes</td></tr>\n",
       "\t<tr><td>61</td><td>female</td><td>yes</td></tr>\n",
       "\t<tr><td>51</td><td>female</td><td>yes</td></tr>\n",
       "\t<tr><td>62</td><td>female</td><td>yes</td></tr>\n",
       "\t<tr><td>60</td><td>female</td><td>yes</td></tr>\n",
       "</tbody>\n",
       "</table>\n"
      ],
      "text/latex": [
       "A tibble: 6 × 3\n",
       "\\begin{tabular}{lll}\n",
       " age & sex & disease\\\\\n",
       " <dbl> & <fct> & <fct>\\\\\n",
       "\\hline\n",
       "\t 62 & female & yes\\\\\n",
       "\t 65 & female & yes\\\\\n",
       "\t 61 & female & yes\\\\\n",
       "\t 51 & female & yes\\\\\n",
       "\t 62 & female & yes\\\\\n",
       "\t 60 & female & yes\\\\\n",
       "\\end{tabular}\n"
      ],
      "text/markdown": [
       "\n",
       "A tibble: 6 × 3\n",
       "\n",
       "| age &lt;dbl&gt; | sex &lt;fct&gt; | disease &lt;fct&gt; |\n",
       "|---|---|---|\n",
       "| 62 | female | yes |\n",
       "| 65 | female | yes |\n",
       "| 61 | female | yes |\n",
       "| 51 | female | yes |\n",
       "| 62 | female | yes |\n",
       "| 60 | female | yes |\n",
       "\n"
      ],
      "text/plain": [
       "  age sex    disease\n",
       "1 62  female yes    \n",
       "2 65  female yes    \n",
       "3 61  female yes    \n",
       "4 51  female yes    \n",
       "5 62  female yes    \n",
       "6 60  female yes    "
      ]
     },
     "metadata": {},
     "output_type": "display_data"
    }
   ],
   "source": [
    "# set seed for reproducibility\n",
    "set.seed(1234)\n",
    "\n",
    "# HEART DISEASE DATA (Compiled)\n",
    "# load data\n",
    "\n",
    "heart_disease_data <- read_delim(\"https://archive.ics.uci.edu/ml/machine-learning-databases/heart-disease/processed.cleveland.data\", \n",
    "                                 delim = \",\",\n",
    "                                 col_names = FALSE) %>%\n",
    "    transmute(age = X1, # clean data; renaming\n",
    "              sex = factor(X2) %>%\n",
    "                  fct_recode(female = \"0\",\n",
    "                             male = \"1\"),\n",
    "              chest_pain = factor(X3) %>%\n",
    "                  fct_recode(typical_angina = \"1\",\n",
    "                             atypical_angina = \"2\",\n",
    "                             nonanginal_pain = \"3\",\n",
    "                             asymptomatic = \"4\"),\n",
    "              resting_bp = X4,\n",
    "              cholesterol = X5,\n",
    "              bldsg_over120 = factor(X6) %>%\n",
    "                  fct_recode(no = \"0\",\n",
    "                             yes = \"1\"),\n",
    "              rest_ecg = factor(X7) %>%\n",
    "                  fct_recode(normal = \"0\",\n",
    "                             stt_abnormal = \"1\",\n",
    "                             lv_hyptroph = \"2\"),\n",
    "              max_hr = X8,\n",
    "              ex_angina = factor(X9) %>%\n",
    "                  fct_recode(no = \"0\",\n",
    "                             yes = \"1\"),\n",
    "              old_peak = X10,\n",
    "              slope = factor(X11) %>%\n",
    "                  fct_recode(upslope = \"1\",\n",
    "                             flat = \"2\",\n",
    "                             downslope = \"3\"),\n",
    "              flr_ves = X12,\n",
    "              thalassemia = factor(X13) %>%\n",
    "                  fct_recode(normal = \"3.0\",\n",
    "                             fxd_def = \"6.0\",\n",
    "                             rev_def = \"7.0\"),\n",
    "              disease = factor(X14) %>% \n",
    "                 fct_recode(no = \"0\", \n",
    "                            yes = \"1\",\n",
    "                            yes = \"2\",\n",
    "                            yes = \"3\",\n",
    "                            yes = \"4\")) \n",
    "              \n",
    "head(heart_disease_data)\n",
    "\n",
    "# Heart disease data for male patients\n",
    "male_diseased = heart_disease_data %>%\n",
    "    filter(sex == \"male\",\n",
    "           disease == \"yes\") %>% # filter for those diagnosed with heart disease\n",
    "    select(age, sex, disease) # select relevant attributes\n",
    "\n",
    "head(male_diseased)\n",
    "\n",
    "# Heart disease data for female patients\n",
    "female_diseased = heart_disease_data %>%\n",
    "    filter(sex == \"female\",\n",
    "           disease == \"yes\") %>% # filter for those diagnosed with heart disease\n",
    "    select(age, sex, disease) # select relevant attributes\n",
    "\n",
    "head(female_diseased)"
   ]
  },
  {
   "cell_type": "code",
   "execution_count": 29,
   "id": "fe7d7bca-cf0c-4846-9189-a8c5bf9b5d5b",
   "metadata": {},
   "outputs": [],
   "source": [
    "# summarize data (estimates)\n",
    "\n",
    "# Average age in male patients\n",
    "mean_age_male = mean(male_diseased$age) %>%\n",
    "    round(digits = 0)\n",
    "\n",
    "# Average age in female patients\n",
    "mean_age_female = mean(female_diseased$age) %>%\n",
    "    round(digits = 0)"
   ]
  },
  {
   "cell_type": "markdown",
   "id": "4acafe8a-8426-42b7-ad98-164e6e517112",
   "metadata": {},
   "source": [
    "#### Average age of heart disease (diagnosed) patients (Cleveland):\n",
    "| Male patients      | Female patients |\n",
    "| ----------- | ----------- |\n",
    "| 56      | 59       |"
   ]
  },
  {
   "cell_type": "code",
   "execution_count": 36,
   "id": "4e4f445d-c666-43be-8abd-3ca0872fb249",
   "metadata": {},
   "outputs": [
    {
     "data": {
      "image/png": "[encoded data removed]",
      "text/plain": [
       "plot without title"
      ]
     },
     "metadata": {
      "image/png": {
       "height": 420,
       "width": 420
      }
     },
     "output_type": "display_data"
    }
   ],
   "source": [
    "# plot raw data\n",
    "\n",
    "# Both male and female patients\n",
    "age_plot <- heart_disease_data %>%\n",
    "    ggplot(aes(x = age, fill = sex)) +\n",
    "    geom_histogram(binwidth = 5) +\n",
    "    facet_grid(rows = vars(sex)) +\n",
    "    geom_vline(xintercept = mean_age_male, linetype = \"dashed\", size = 1, color = \"blue\") +\n",
    "    geom_vline(xintercept = mean_age_female, linetype = \"dashed\", size = 1, color = \"red\") +\n",
    "    labs(title = \"Age of Diseased Patients\",\n",
    "         xlab = \"Age\",\n",
    "         fill = \"Sex\") +\n",
    "    theme(text = element_text(size = 20))\n",
    "\n",
    "age_plot"
   ]
  },
  {
   "cell_type": "markdown",
   "id": "85d2fc8a-6574-4570-8e16-c61f121bd173",
   "metadata": {},
   "source": [
    "### Methods"
   ]
  },
  {
   "cell_type": "markdown",
   "id": "ef04a024-792d-430e-ae15-974d25831ca3",
   "metadata": {},
   "source": [
    "... methods (janice/ena)\n",
    "\n",
    "Based on previous studies, we expect to find a statistically significant difference of up to 10 years in the mean age of men and women suffering from CVDs (Mosca et al., 2011). These findings, along with further research into female-specific risk factors and disease mitigation, could help shape clinical practice and improve disease outcomes for women."
   ]
  },
  {
   "cell_type": "markdown",
   "id": "5e4b219b-3804-4688-b994-0967750ab917",
   "metadata": {},
   "source": [
    "### References"
   ]
  },
  {
   "cell_type": "markdown",
   "id": "7bc5efd3-3829-4390-a459-105ed0249eb6",
   "metadata": {},
   "source": [
    "Mosca, L., Barrett-Connor, E., & Wenger, N. K. (2011). Sex/gender differences in cardiovascular disease prevention: What a difference a decade makes. Circulation, 124(19), 2145–2154. https://doi.org/10.1161/CIRCULATIONAHA.110.968792\n",
    "\n",
    "Public Health Agency (P.H.A) of Canada. (2017, February 10). Heart Disease in Canada. Canada.ca. Retrieved July 26, 2022, from https://www.canada.ca/en/public-health/services/publications/diseases-conditions/heart-disease-canada.html\n",
    "\n",
    "Solé-Auró, A., Michaud, P.-C., Hurd, M., & Crimmins, E. (2015). Disease Incidence and Mortality Among Older Americans and Europeans. Demography, 52(2), 593–611. https://doi.org/10.1007/s13524-015-0372-7\n",
    "\n",
    "Statistics Canada. (2022). Leading causes of death, total population, by age group [Data set]. Government of Canada. https://doi.org/10.25318/1310039401-ENG"
   ]
  },
  {
   "cell_type": "code",
   "execution_count": null,
   "id": "fca2d2dc-9222-4ab8-99c8-fb6cbc78d35c",
   "metadata": {},
   "outputs": [],
   "source": []
  }
 ],
 "metadata": {
  "kernelspec": {
   "display_name": "R",
   "language": "R",
   "name": "ir"
  },
  "language_info": {
   "codemirror_mode": "r",
   "file_extension": ".r",
   "mimetype": "text/x-r-source",
   "name": "R",
   "pygments_lexer": "r",
   "version": "4.0.5"
  }
 },
 "nbformat": 4,
 "nbformat_minor": 5
}
