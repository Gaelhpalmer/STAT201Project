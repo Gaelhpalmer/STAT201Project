{
 "cells": [
  {
   "cell_type": "markdown",
   "id": "89258b2a-1ae4-4492-acae-a5854ddd1d57",
   "metadata": {},
   "source": [
    "# **`Analysis of Sex-Based Differences in Age of Cardiovascular Disease Patients`**\n",
    "\n",
    "#### STAT 201 Group Project Proposal ####\n",
    "##### Group 17 - *Janice Chan, Ena Gupta, Gael Hernandez Palmer*"
   ]
  },
  {
   "cell_type": "markdown",
   "id": "80dfffd9-3f4b-4afd-9cf5-7892e8bdbfdb",
   "metadata": {},
   "source": [
    "### Introduction"
   ]
  },
  {
   "cell_type": "markdown",
   "id": "481bd3a5-67aa-4e9f-ac6d-d4ed1b657ee1",
   "metadata": {},
   "source": [
    "As it currently stands, cardiovascular disease (CVD) is the second leading cause of death for Canadians (Statistics Canada, 2022). Over years of study, scientists have been able to identify and track certain risk factors for CVD in order to better inform prevention and mitigation efforts. Sex-based differences in both the prevalence and clinical presentation of CVDs have long been a topic of interest, with men being afflicted by the disease both more frequently and earlier in their lives (P.H.A of Canada, 2017). The male-focused lens in studying CVDs has historically meant considerable rates of underdiagnosis for women and a misunderstanding of the differences in presentation of disease. \n",
    "\n",
    "In this project, our aim is to use compiled data to quantify the difference in mean age between men and women suffering from CVD and their respective standard deviations. To achieve this we will be using the “Heart Disease Data Set” published on the UCI Machine Learning Repository by David Aha. We have selected the Cleveland Clinic database as opposed to the European databases to obtain results that can be generalized to the greater Canadian public based on similar lifestyle and socio-economic distributions between the United States and Canada (Solé-Auro et al., 2017). Our initial report will focus on obtaining summary statistics and visualizations that can help us perform a well-informed analysis using inferential tools as a guide. Age is just one general trait that we can examine between CVD patients. Further research can enhance understanding the different ways CVD impacts patients between males and females, for example comparing the difference in cholesterol levels between male and female patients."
   ]
  },
  {
   "cell_type": "markdown",
   "id": "3a2fb6a2-7fee-44b8-9c77-437ad17fa499",
   "metadata": {
    "tags": []
   },
   "source": [
    "### Dataset:"
   ]
  },
  {
   "cell_type": "markdown",
   "id": "1fd9d02c-212f-4937-8585-3819fe833e16",
   "metadata": {},
   "source": [
    "https://archive.ics.uci.edu/ml/datasets/Heart+Disease\n",
    "\n",
    "By: David W. Aha"
   ]
  },
  {
   "cell_type": "markdown",
   "id": "4ffd0b2e-9c11-4dc3-8ce9-29a77c9a6711",
   "metadata": {},
   "source": [
    "### Preliminary Results"
   ]
  },
  {
   "cell_type": "code",
   "execution_count": 1,
   "id": "58c035df-ec77-4fe2-802b-553619d789a4",
   "metadata": {},
   "outputs": [
    {
     "name": "stderr",
     "output_type": "stream",
     "text": [
      "── \u001b[1mAttaching packages\u001b[22m ─────────────────────────────────────── tidyverse 1.3.0 ──\n",
      "\n",
      "\u001b[32m✔\u001b[39m \u001b[34mggplot2\u001b[39m 3.3.6     \u001b[32m✔\u001b[39m \u001b[34mpurrr  \u001b[39m 0.3.4\n",
      "\u001b[32m✔\u001b[39m \u001b[34mtibble \u001b[39m 3.1.7     \u001b[32m✔\u001b[39m \u001b[34mdplyr  \u001b[39m 1.0.9\n",
      "\u001b[32m✔\u001b[39m \u001b[34mtidyr  \u001b[39m 1.2.0     \u001b[32m✔\u001b[39m \u001b[34mstringr\u001b[39m 1.4.0\n",
      "\u001b[32m✔\u001b[39m \u001b[34mreadr  \u001b[39m 2.1.2     \u001b[32m✔\u001b[39m \u001b[34mforcats\u001b[39m 0.5.1\n",
      "\n",
      "── \u001b[1mConflicts\u001b[22m ────────────────────────────────────────── tidyverse_conflicts() ──\n",
      "\u001b[31m✖\u001b[39m \u001b[34mdplyr\u001b[39m::\u001b[32mfilter()\u001b[39m masks \u001b[34mstats\u001b[39m::filter()\n",
      "\u001b[31m✖\u001b[39m \u001b[34mdplyr\u001b[39m::\u001b[32mlag()\u001b[39m    masks \u001b[34mstats\u001b[39m::lag()\n",
      "\n"
     ]
    }
   ],
   "source": [
    "# Load packages\n",
    "library(digest)\n",
    "library(infer)\n",
    "library(repr)\n",
    "library(tidyverse)\n",
    "library(dplyr)\n",
    "library(ggplot2)"
   ]
  },
  {
   "cell_type": "code",
   "execution_count": 32,
   "id": "4670177f-1f56-4b5c-84b3-845e821e68a8",
   "metadata": {},
   "outputs": [
    {
     "name": "stderr",
     "output_type": "stream",
     "text": [
      "\u001b[1mRows: \u001b[22m\u001b[34m303\u001b[39m \u001b[1mColumns: \u001b[22m\u001b[34m14\u001b[39m\n",
      "\u001b[36m──\u001b[39m \u001b[1mColumn specification\u001b[22m \u001b[36m────────────────────────────────────────────────────────\u001b[39m\n",
      "\u001b[1mDelimiter:\u001b[22m \",\"\n",
      "\u001b[31mchr\u001b[39m  (2): X12, X13\n",
      "\u001b[32mdbl\u001b[39m (12): X1, X2, X3, X4, X5, X6, X7, X8, X9, X10, X11, X14\n",
      "\n",
      "\u001b[36mℹ\u001b[39m Use `spec()` to retrieve the full column specification for this data.\n",
      "\u001b[36mℹ\u001b[39m Specify the column types or set `show_col_types = FALSE` to quiet this message.\n"
     ]
    },
    {
     "data": {
      "text/html": [
       "<table class=\"dataframe\">\n",
       "<caption>A tibble: 6 × 14</caption>\n",
       "<thead>\n",
       "\t<tr><th scope=col>age</th><th scope=col>sex</th><th scope=col>chest_pain</th><th scope=col>resting_bp</th><th scope=col>cholesterol</th><th scope=col>bldsg_over120</th><th scope=col>rest_ecg</th><th scope=col>max_hr</th><th scope=col>ex_angina</th><th scope=col>old_peak</th><th scope=col>slope</th><th scope=col>flr_ves</th><th scope=col>thalassemia</th><th scope=col>disease</th></tr>\n",
       "\t<tr><th scope=col>&lt;dbl&gt;</th><th scope=col>&lt;fct&gt;</th><th scope=col>&lt;fct&gt;</th><th scope=col>&lt;dbl&gt;</th><th scope=col>&lt;dbl&gt;</th><th scope=col>&lt;fct&gt;</th><th scope=col>&lt;fct&gt;</th><th scope=col>&lt;dbl&gt;</th><th scope=col>&lt;fct&gt;</th><th scope=col>&lt;dbl&gt;</th><th scope=col>&lt;fct&gt;</th><th scope=col>&lt;chr&gt;</th><th scope=col>&lt;fct&gt;</th><th scope=col>&lt;fct&gt;</th></tr>\n",
       "</thead>\n",
       "<tbody>\n",
       "\t<tr><td>63</td><td>male  </td><td>typical_angina </td><td>145</td><td>233</td><td>yes</td><td>lv_hyptroph</td><td>150</td><td>no </td><td>2.3</td><td>downslope</td><td>0.0</td><td>fxd_def</td><td>no </td></tr>\n",
       "\t<tr><td>67</td><td>male  </td><td>asymptomatic   </td><td>160</td><td>286</td><td>no </td><td>lv_hyptroph</td><td>108</td><td>yes</td><td>1.5</td><td>flat     </td><td>3.0</td><td>normal </td><td>yes</td></tr>\n",
       "\t<tr><td>67</td><td>male  </td><td>asymptomatic   </td><td>120</td><td>229</td><td>no </td><td>lv_hyptroph</td><td>129</td><td>yes</td><td>2.6</td><td>flat     </td><td>2.0</td><td>rev_def</td><td>yes</td></tr>\n",
       "\t<tr><td>37</td><td>male  </td><td>nonanginal_pain</td><td>130</td><td>250</td><td>no </td><td>normal     </td><td>187</td><td>no </td><td>3.5</td><td>downslope</td><td>0.0</td><td>normal </td><td>no </td></tr>\n",
       "\t<tr><td>41</td><td>female</td><td>atypical_angina</td><td>130</td><td>204</td><td>no </td><td>lv_hyptroph</td><td>172</td><td>no </td><td>1.4</td><td>upslope  </td><td>0.0</td><td>normal </td><td>no </td></tr>\n",
       "\t<tr><td>56</td><td>male  </td><td>atypical_angina</td><td>120</td><td>236</td><td>no </td><td>normal     </td><td>178</td><td>no </td><td>0.8</td><td>upslope  </td><td>0.0</td><td>normal </td><td>no </td></tr>\n",
       "</tbody>\n",
       "</table>\n"
      ],
      "text/latex": [
       "A tibble: 6 × 14\n",
       "\\begin{tabular}{llllllllllllll}\n",
       " age & sex & chest\\_pain & resting\\_bp & cholesterol & bldsg\\_over120 & rest\\_ecg & max\\_hr & ex\\_angina & old\\_peak & slope & flr\\_ves & thalassemia & disease\\\\\n",
       " <dbl> & <fct> & <fct> & <dbl> & <dbl> & <fct> & <fct> & <dbl> & <fct> & <dbl> & <fct> & <chr> & <fct> & <fct>\\\\\n",
       "\\hline\n",
       "\t 63 & male   & typical\\_angina  & 145 & 233 & yes & lv\\_hyptroph & 150 & no  & 2.3 & downslope & 0.0 & fxd\\_def & no \\\\\n",
       "\t 67 & male   & asymptomatic    & 160 & 286 & no  & lv\\_hyptroph & 108 & yes & 1.5 & flat      & 3.0 & normal  & yes\\\\\n",
       "\t 67 & male   & asymptomatic    & 120 & 229 & no  & lv\\_hyptroph & 129 & yes & 2.6 & flat      & 2.0 & rev\\_def & yes\\\\\n",
       "\t 37 & male   & nonanginal\\_pain & 130 & 250 & no  & normal      & 187 & no  & 3.5 & downslope & 0.0 & normal  & no \\\\\n",
       "\t 41 & female & atypical\\_angina & 130 & 204 & no  & lv\\_hyptroph & 172 & no  & 1.4 & upslope   & 0.0 & normal  & no \\\\\n",
       "\t 56 & male   & atypical\\_angina & 120 & 236 & no  & normal      & 178 & no  & 0.8 & upslope   & 0.0 & normal  & no \\\\\n",
       "\\end{tabular}\n"
      ],
      "text/markdown": [
       "\n",
       "A tibble: 6 × 14\n",
       "\n",
       "| age &lt;dbl&gt; | sex &lt;fct&gt; | chest_pain &lt;fct&gt; | resting_bp &lt;dbl&gt; | cholesterol &lt;dbl&gt; | bldsg_over120 &lt;fct&gt; | rest_ecg &lt;fct&gt; | max_hr &lt;dbl&gt; | ex_angina &lt;fct&gt; | old_peak &lt;dbl&gt; | slope &lt;fct&gt; | flr_ves &lt;chr&gt; | thalassemia &lt;fct&gt; | disease &lt;fct&gt; |\n",
       "|---|---|---|---|---|---|---|---|---|---|---|---|---|---|\n",
       "| 63 | male   | typical_angina  | 145 | 233 | yes | lv_hyptroph | 150 | no  | 2.3 | downslope | 0.0 | fxd_def | no  |\n",
       "| 67 | male   | asymptomatic    | 160 | 286 | no  | lv_hyptroph | 108 | yes | 1.5 | flat      | 3.0 | normal  | yes |\n",
       "| 67 | male   | asymptomatic    | 120 | 229 | no  | lv_hyptroph | 129 | yes | 2.6 | flat      | 2.0 | rev_def | yes |\n",
       "| 37 | male   | nonanginal_pain | 130 | 250 | no  | normal      | 187 | no  | 3.5 | downslope | 0.0 | normal  | no  |\n",
       "| 41 | female | atypical_angina | 130 | 204 | no  | lv_hyptroph | 172 | no  | 1.4 | upslope   | 0.0 | normal  | no  |\n",
       "| 56 | male   | atypical_angina | 120 | 236 | no  | normal      | 178 | no  | 0.8 | upslope   | 0.0 | normal  | no  |\n",
       "\n"
      ],
      "text/plain": [
       "  age sex    chest_pain      resting_bp cholesterol bldsg_over120 rest_ecg   \n",
       "1 63  male   typical_angina  145        233         yes           lv_hyptroph\n",
       "2 67  male   asymptomatic    160        286         no            lv_hyptroph\n",
       "3 67  male   asymptomatic    120        229         no            lv_hyptroph\n",
       "4 37  male   nonanginal_pain 130        250         no            normal     \n",
       "5 41  female atypical_angina 130        204         no            lv_hyptroph\n",
       "6 56  male   atypical_angina 120        236         no            normal     \n",
       "  max_hr ex_angina old_peak slope     flr_ves thalassemia disease\n",
       "1 150    no        2.3      downslope 0.0     fxd_def     no     \n",
       "2 108    yes       1.5      flat      3.0     normal      yes    \n",
       "3 129    yes       2.6      flat      2.0     rev_def     yes    \n",
       "4 187    no        3.5      downslope 0.0     normal      no     \n",
       "5 172    no        1.4      upslope   0.0     normal      no     \n",
       "6 178    no        0.8      upslope   0.0     normal      no     "
      ]
     },
     "metadata": {},
     "output_type": "display_data"
    },
    {
     "name": "stdout",
     "output_type": "stream",
     "text": [
      "[1] \"Diseased Males\"\n"
     ]
    },
    {
     "data": {
      "text/html": [
       "<table class=\"dataframe\">\n",
       "<caption>A tibble: 6 × 2</caption>\n",
       "<thead>\n",
       "\t<tr><th scope=col>age</th><th scope=col>sex</th></tr>\n",
       "\t<tr><th scope=col>&lt;dbl&gt;</th><th scope=col>&lt;fct&gt;</th></tr>\n",
       "</thead>\n",
       "<tbody>\n",
       "\t<tr><td>67</td><td>male</td></tr>\n",
       "\t<tr><td>67</td><td>male</td></tr>\n",
       "\t<tr><td>63</td><td>male</td></tr>\n",
       "\t<tr><td>53</td><td>male</td></tr>\n",
       "\t<tr><td>56</td><td>male</td></tr>\n",
       "\t<tr><td>48</td><td>male</td></tr>\n",
       "</tbody>\n",
       "</table>\n"
      ],
      "text/latex": [
       "A tibble: 6 × 2\n",
       "\\begin{tabular}{ll}\n",
       " age & sex\\\\\n",
       " <dbl> & <fct>\\\\\n",
       "\\hline\n",
       "\t 67 & male\\\\\n",
       "\t 67 & male\\\\\n",
       "\t 63 & male\\\\\n",
       "\t 53 & male\\\\\n",
       "\t 56 & male\\\\\n",
       "\t 48 & male\\\\\n",
       "\\end{tabular}\n"
      ],
      "text/markdown": [
       "\n",
       "A tibble: 6 × 2\n",
       "\n",
       "| age &lt;dbl&gt; | sex &lt;fct&gt; |\n",
       "|---|---|\n",
       "| 67 | male |\n",
       "| 67 | male |\n",
       "| 63 | male |\n",
       "| 53 | male |\n",
       "| 56 | male |\n",
       "| 48 | male |\n",
       "\n"
      ],
      "text/plain": [
       "  age sex \n",
       "1 67  male\n",
       "2 67  male\n",
       "3 63  male\n",
       "4 53  male\n",
       "5 56  male\n",
       "6 48  male"
      ]
     },
     "metadata": {},
     "output_type": "display_data"
    },
    {
     "name": "stdout",
     "output_type": "stream",
     "text": [
      "[1] \"Diseased Females\"\n"
     ]
    },
    {
     "data": {
      "text/html": [
       "<table class=\"dataframe\">\n",
       "<caption>A tibble: 6 × 2</caption>\n",
       "<thead>\n",
       "\t<tr><th scope=col>age</th><th scope=col>sex</th></tr>\n",
       "\t<tr><th scope=col>&lt;dbl&gt;</th><th scope=col>&lt;fct&gt;</th></tr>\n",
       "</thead>\n",
       "<tbody>\n",
       "\t<tr><td>62</td><td>female</td></tr>\n",
       "\t<tr><td>65</td><td>female</td></tr>\n",
       "\t<tr><td>61</td><td>female</td></tr>\n",
       "\t<tr><td>51</td><td>female</td></tr>\n",
       "\t<tr><td>62</td><td>female</td></tr>\n",
       "\t<tr><td>60</td><td>female</td></tr>\n",
       "</tbody>\n",
       "</table>\n"
      ],
      "text/latex": [
       "A tibble: 6 × 2\n",
       "\\begin{tabular}{ll}\n",
       " age & sex\\\\\n",
       " <dbl> & <fct>\\\\\n",
       "\\hline\n",
       "\t 62 & female\\\\\n",
       "\t 65 & female\\\\\n",
       "\t 61 & female\\\\\n",
       "\t 51 & female\\\\\n",
       "\t 62 & female\\\\\n",
       "\t 60 & female\\\\\n",
       "\\end{tabular}\n"
      ],
      "text/markdown": [
       "\n",
       "A tibble: 6 × 2\n",
       "\n",
       "| age &lt;dbl&gt; | sex &lt;fct&gt; |\n",
       "|---|---|\n",
       "| 62 | female |\n",
       "| 65 | female |\n",
       "| 61 | female |\n",
       "| 51 | female |\n",
       "| 62 | female |\n",
       "| 60 | female |\n",
       "\n"
      ],
      "text/plain": [
       "  age sex   \n",
       "1 62  female\n",
       "2 65  female\n",
       "3 61  female\n",
       "4 51  female\n",
       "5 62  female\n",
       "6 60  female"
      ]
     },
     "metadata": {},
     "output_type": "display_data"
    }
   ],
   "source": [
    "# set seed for reproducibility\n",
    "set.seed(1234)\n",
    "\n",
    "# HEART DISEASE DATA (Compiled)\n",
    "# load data\n",
    "\n",
    "heart_disease_data <- read_delim(\"https://archive.ics.uci.edu/ml/machine-learning-databases/heart-disease/processed.cleveland.data\", \n",
    "                                 delim = \",\",\n",
    "                                 col_names = FALSE) %>%\n",
    "    transmute(age = X1, # clean data; renaming\n",
    "              \n",
    "              sex = factor(X2) %>%\n",
    "                  fct_recode(female = \"0\", # binary -> factors\n",
    "                             male = \"1\"),\n",
    "              \n",
    "              chest_pain = factor(X3) %>% # Type of chest pain reported\n",
    "                  fct_recode(typical_angina = \"1\", # numerical -> factors\n",
    "                             atypical_angina = \"2\",\n",
    "                             nonanginal_pain = \"3\",\n",
    "                             asymptomatic = \"4\"),\n",
    "              \n",
    "              resting_bp = X4, # Resting blood pressure (mm/Hg)\n",
    "              \n",
    "              cholesterol = X5, # Total cholesterol (mg/dL)\n",
    "              \n",
    "              bldsg_over120 = factor(X6) %>% # Indicates wether the patient's blood sugar is over 120 mg/dL\n",
    "                  fct_recode(no = \"0\", # binary -> factors\n",
    "                             yes = \"1\"),\n",
    "              \n",
    "              rest_ecg = factor(X7) %>% # Resting ECG results\n",
    "                  fct_recode(normal = \"0\", # numerical -> factors\n",
    "                             stt_abnormal = \"1\", \n",
    "                             lv_hyptroph = \"2\"),\n",
    "              \n",
    "              max_hr = X8, # Maximum observed heart rate\n",
    "              \n",
    "              ex_angina = factor(X9) %>% # Presence of exercise induced angina\n",
    "                  fct_recode(no = \"0\", # binary -> factors\n",
    "                             yes = \"1\"),\n",
    "              \n",
    "              old_peak = X10, # ST depression induced by exercise relative to rest\n",
    "              \n",
    "              slope = factor(X11) %>% # Slope of peak exercise ST segment\n",
    "                  fct_recode(upslope = \"1\", # numerical -> factors\n",
    "                             flat = \"2\",\n",
    "                             downslope = \"3\"),\n",
    "              \n",
    "              flr_ves = X12, # Number of vessels coloured by fluoroscopy\n",
    "              \n",
    "              thalassemia = factor(X13) %>% \n",
    "                  fct_recode(normal = \"3.0\", # numerical -> factors\n",
    "                             fxd_def = \"6.0\",\n",
    "                             rev_def = \"7.0\"),\n",
    "              \n",
    "              disease = factor(X14) %>% # Disease progression\n",
    "                 fct_recode(no = \"0\", # numerical -> factors\n",
    "                            yes = \"1\",\n",
    "                            yes = \"2\", # 1-4 indicate disease progression \n",
    "                            yes = \"3\", # for our analysis we only care about absence/presence of disease\n",
    "                            yes = \"4\")) \n",
    "\n",
    "## **NOTE**: \n",
    "## Code refactoring was done based on provided attribute information which can be accessed at:\n",
    "## https://raw.githubusercontent.com/Gaelhpalmer/STAT201Project/main/desc.names\n",
    "              \n",
    "head(heart_disease_data)\n",
    "\n",
    "\n",
    "diseased <- heart_disease_data %>%\n",
    "    filter(disease == \"yes\") %>% # filter for those diagnosed with heart disease\n",
    "    select(age, sex) # select relevant attributes\n",
    "\n",
    "# Heart disease data for diseased male patients\n",
    "male_diseased = diseased %>%\n",
    "    filter(sex == \"male\") # filter for males\n",
    "   \n",
    "\n",
    "print(\"Diseased Males\")\n",
    "head(male_diseased)\n",
    "\n",
    "# Heart disease data for diseased female patients\n",
    "female_diseased = diseased %>%\n",
    "    filter(sex == \"female\")  # filter for those females\n",
    "\n",
    "print(\"Diseased Females\")\n",
    "head(female_diseased)"
   ]
  },
  {
   "cell_type": "code",
   "execution_count": 33,
   "id": "fe7d7bca-cf0c-4846-9189-a8c5bf9b5d5b",
   "metadata": {},
   "outputs": [],
   "source": [
    "# summarize data (estimates)\n",
    "\n",
    "# Instances \n",
    "n_total <- nrow(diseased)\n",
    "n_male <- nrow(male_diseased)\n",
    "n_female <- nrow(female_diseased)\n",
    "\n",
    "# Average age in male patients\n",
    "mean_age_male = mean(male_diseased$age) %>%\n",
    "    round(digits = 2)\n",
    "\n",
    "\n",
    "\n",
    "# Standard deviation of age in male patients\n",
    "sd_age_male = sd(male_diseased$age) %>%\n",
    "    round(digits = 2)\n",
    "\n",
    "\n",
    "# Average age in female patients\n",
    "mean_age_female = mean(female_diseased$age) %>%\n",
    "    round(digits = 2)\n",
    "\n",
    "\n",
    "# Standard deviation of age in female patients\n",
    "sd_age_female = sd(female_diseased$age) %>%\n",
    "    round(digits = 2)\n",
    "\n"
   ]
  },
  {
   "cell_type": "markdown",
   "id": "ae938a75-cd57-4706-8424-f8e36a9ef3b4",
   "metadata": {},
   "source": [
    "#### Number of instances of gender:\n",
    "\n",
    "| Male | Female | Total|\n",
    "|------|--------|------|\n",
    "| 114 | 25 | 139|\n"
   ]
  },
  {
   "cell_type": "markdown",
   "id": "4acafe8a-8426-42b7-ad98-164e6e517112",
   "metadata": {},
   "source": [
    "#### Average age of heart disease patients:\n",
    "| Male patients      | Female patients |\n",
    "| ----------- | ----------- |\n",
    "| 56.09      | 59.08       |\n",
    "\n",
    "#### Standard deviation of age in heart disease patients:\n",
    "| Male patients      | Female patients |\n",
    "| ----------- | ----------- |\n",
    "| 8.39     | 4.86       |"
   ]
  },
  {
   "cell_type": "code",
   "execution_count": 27,
   "id": "4e4f445d-c666-43be-8abd-3ca0872fb249",
   "metadata": {},
   "outputs": [
    {
     "data": {
      "image/png": "[encoded data removed]",
      "text/plain": [
       "plot without title"
      ]
     },
     "metadata": {
      "image/png": {
       "height": 420,
       "width": 420
      }
     },
     "output_type": "display_data"
    }
   ],
   "source": [
    "# plot raw data\n",
    "\n",
    "# Both male and female patients\n",
    "age_plot <- diseased %>%\n",
    "    ggplot(aes(x = age, fill = sex)) +\n",
    "    geom_histogram(binwidth = 5) +\n",
    "    facet_grid(rows = vars(sex)) +\n",
    "    geom_vline(xintercept = mean_age_male, linetype = \"dashed\", size = 1, color = \"blue\") +\n",
    "    geom_vline(xintercept = mean_age_female, linetype = \"dashed\", size = 1, color = \"red\") +\n",
    "    labs(title = \"Age of Diseased Patients\",\n",
    "         xlab = \"Age\",\n",
    "         fill = \"Sex\") +\n",
    "    theme(text = element_text(size = 20))\n",
    "\n",
    "age_plot"
   ]
  },
  {
   "cell_type": "markdown",
   "id": "3e69a74d-3b4f-456b-88bc-fa0d112aad31",
   "metadata": {},
   "source": [
    "### Inferential Analysis"
   ]
  },
  {
   "cell_type": "markdown",
   "id": "8502d7f5-f72a-4b4a-a96d-eb2214d60261",
   "metadata": {},
   "source": [
    "#### Bootstrapping:"
   ]
  },
  {
   "cell_type": "code",
   "execution_count": 70,
   "id": "d724082a-386e-4082-a8dd-d5f6b6d8e689",
   "metadata": {},
   "outputs": [
    {
     "data": {
      "text/html": [
       "<table class=\"dataframe\">\n",
       "<caption>A tibble: 6 × 2</caption>\n",
       "<thead>\n",
       "\t<tr><th scope=col>replicate</th><th scope=col>stat</th></tr>\n",
       "\t<tr><th scope=col>&lt;int&gt;</th><th scope=col>&lt;dbl&gt;</th></tr>\n",
       "</thead>\n",
       "<tbody>\n",
       "\t<tr><td>1</td><td>1.5191799</td></tr>\n",
       "\t<tr><td>2</td><td>3.2743697</td></tr>\n",
       "\t<tr><td>3</td><td>3.2930246</td></tr>\n",
       "\t<tr><td>4</td><td>3.4289128</td></tr>\n",
       "\t<tr><td>5</td><td>0.9275362</td></tr>\n",
       "\t<tr><td>6</td><td>2.0388379</td></tr>\n",
       "</tbody>\n",
       "</table>\n"
      ],
      "text/latex": [
       "A tibble: 6 × 2\n",
       "\\begin{tabular}{ll}\n",
       " replicate & stat\\\\\n",
       " <int> & <dbl>\\\\\n",
       "\\hline\n",
       "\t 1 & 1.5191799\\\\\n",
       "\t 2 & 3.2743697\\\\\n",
       "\t 3 & 3.2930246\\\\\n",
       "\t 4 & 3.4289128\\\\\n",
       "\t 5 & 0.9275362\\\\\n",
       "\t 6 & 2.0388379\\\\\n",
       "\\end{tabular}\n"
      ],
      "text/markdown": [
       "\n",
       "A tibble: 6 × 2\n",
       "\n",
       "| replicate &lt;int&gt; | stat &lt;dbl&gt; |\n",
       "|---|---|\n",
       "| 1 | 1.5191799 |\n",
       "| 2 | 3.2743697 |\n",
       "| 3 | 3.2930246 |\n",
       "| 4 | 3.4289128 |\n",
       "| 5 | 0.9275362 |\n",
       "| 6 | 2.0388379 |\n",
       "\n"
      ],
      "text/plain": [
       "  replicate stat     \n",
       "1 1         1.5191799\n",
       "2 2         3.2743697\n",
       "3 3         3.2930246\n",
       "4 4         3.4289128\n",
       "5 5         0.9275362\n",
       "6 6         2.0388379"
      ]
     },
     "metadata": {},
     "output_type": "display_data"
    },
    {
     "data": {
      "image/png": "[encoded data removed]",
      "text/plain": [
       "plot without title"
      ]
     },
     "metadata": {
      "image/png": {
       "height": 420,
       "width": 420
      }
     },
     "output_type": "display_data"
    }
   ],
   "source": [
    "# Data resampling, calculation of difference in means & visualization\n",
    "# Infer package is used to simplify process\n",
    "\n",
    "# Boostrap Generated\n",
    "age_bootstrap <- diseased %>%\n",
    "    specify(formula = age ~ sex) %>% # specify response and explanatory variables\n",
    "    generate(reps = 10000, type = \"bootstrap\") %>% # generate bootstraps\n",
    "    calculate(stat = \"diff in means\", order = c(\"female\", \"male\")) # calculate difference in means\n",
    "head(age_bootstrap) # show bootstraps\n",
    "\n",
    "# Summary Statistics Calculated, Visualized\n",
    "age_bootstrap_vis <- age_bootstrap %>%\n",
    "    visualize() + \n",
    "    xlab(\"Difference in Means (female - male)\")+\n",
    "    ggtitle(\"Bootstrap Distribution of Difference in Mean\") +\n",
    "    geom_vline(xintercept = 0, colour = \"red\", lwd = 1.5, alpha = 0.5) # null hypothesis\n",
    "age_bootstrap_vis"
   ]
  },
  {
   "cell_type": "markdown",
   "id": "2ca65679-62f2-4bb5-b552-e675fca34843",
   "metadata": {},
   "source": [
    "#### Hypothesis Testing:\n",
    "\n",
    "Previous research suggests that there is likely a difference in the mean age at which men and women suffer from CVDs, with men being afflicted earlier in their lives. Consequently, we have selected our hypotheses as:\n",
    "\n",
    "H0: $\\mu$female - $\\mu$male = 0\n",
    "\n",
    "\n",
    "\n",
    "H1: $\\mu$female - $\\mu$male > 0\n",
    "\n",
    "Moreover, we are setting our significance level (p-value) to:\n",
    "\n",
    "$\\alpha$ = 0.05\n",
    "\n",
    "...(further explanation/reasoning)"
   ]
  },
  {
   "cell_type": "code",
   "execution_count": 71,
   "id": "0f94c18b-8108-4747-94d4-32c1877976f1",
   "metadata": {},
   "outputs": [],
   "source": [
    "# Hypothesis testing via Infer package\n",
    "\n",
    "#observed test statistic\n",
    "obs_diff_means <- diseased %>%\n",
    "    specify(formula = age ~ sex) %>% #set response and explanatory variables\n",
    "    calculate(stat = \"diff in means\", order = c(\"female\", \"male\")) %>% #set intended test statistic\n",
    "    pull()"
   ]
  },
  {
   "cell_type": "markdown",
   "id": "ffa443b2-2408-4eeb-997d-a98a705f6b3a",
   "metadata": {},
   "source": [
    "Figure #. Observed Difference in Means in Data\n",
    "\n",
    "|Test Statistic|\n",
    "|-----|\n",
    "|2.99228070175438|"
   ]
  },
  {
   "cell_type": "code",
   "execution_count": 72,
   "id": "385b412c-4484-4d40-9066-89eb5a2317b5",
   "metadata": {},
   "outputs": [
    {
     "data": {
      "image/png": "[encoded data removed]",
      "text/plain": [
       "plot without title"
      ]
     },
     "metadata": {
      "image/png": {
       "height": 420,
       "width": 420
      }
     },
     "output_type": "display_data"
    }
   ],
   "source": [
    "#generation of null distribution\n",
    "age_null <- diseased %>%\n",
    "    specify(formula = age ~ sex) %>% #set response and explanatory variables\n",
    "    hypothesize(null = \"independence\") %>% #set hypothesis type\n",
    "    generate(reps = 2000, type = \"permute\") %>% #generate replicates via permutation\n",
    "    calculate(stat = \"diff in means\", order = c(\"female\", \"male\")) #set intended test statistic\n",
    "\n",
    "visualize(age_null) + \n",
    "    shade_p_value(obs_stat = obs_diff_means, direction = \"right\") +\n",
    "    ggtitle(\"Null Distribution of Difference in Mean Age of Diseased Females and Males\") +\n",
    "    xlab(\"Difference in Mean Age (F - M)\")"
   ]
  },
  {
   "cell_type": "code",
   "execution_count": 73,
   "id": "99303542-28bb-4e1d-a581-71a6c3a7f24e",
   "metadata": {},
   "outputs": [],
   "source": [
    "#p-value extraction\n",
    "p_value <- age_null %>%\n",
    "    get_p_value(obs_stat = obs_diff_means, direction = \"right\")"
   ]
  },
  {
   "cell_type": "markdown",
   "id": "6bef97f5-049f-4090-a1f6-9d8de86c55e5",
   "metadata": {},
   "source": [
    "Figure #. Calculated P-Value \n",
    "|P-Value|\n",
    "|-------|\n",
    "|0.0385 |"
   ]
  },
  {
   "cell_type": "markdown",
   "id": "bb73a3cd-eaff-4861-914a-6e4060f9edc0",
   "metadata": {},
   "source": [
    "#### Constructing 95% Confidence Interval"
   ]
  },
  {
   "cell_type": "code",
   "execution_count": 79,
   "id": "a437418b-1ec5-459a-ac8d-3d6ad61e14fd",
   "metadata": {},
   "outputs": [],
   "source": [
    "bootstrap_ci <- get_ci(age_bootstrap, level = 0.95) #extraction of 95% CI using Infer Package"
   ]
  },
  {
   "cell_type": "markdown",
   "id": "711574e7-130a-4903-97bc-1773473a3c8a",
   "metadata": {},
   "source": [
    "Figure #. 95% Confidence Interval based on Bootstrap Distribution\n",
    "\n",
    "|Lower Bound|Upper Bound|\n",
    "|----|----|\n",
    "|0.4600096|5.339402|"
   ]
  },
  {
   "cell_type": "code",
   "execution_count": 81,
   "id": "813a935d-7f4b-4df1-8b31-6728749398cf",
   "metadata": {},
   "outputs": [
    {
     "data": {
      "image/png": "[encoded data removed]",
      "text/plain": [
       "plot without title"
      ]
     },
     "metadata": {
      "image/png": {
       "height": 420,
       "width": 420
      }
     },
     "output_type": "display_data"
    }
   ],
   "source": [
    "#CI Visualization\n",
    "\n",
    "visualize(age_bootstrap) +\n",
    "    shade_confidence_interval(endpoints = bootstrap_ci) +\n",
    "    xlab(\"Difference in Mean Age (F - M)\") +\n",
    "    ggtitle(\"Difference in Mean Age of Diseased Females and Males\")\n"
   ]
  },
  {
   "cell_type": "markdown",
   "id": "85d2fc8a-6574-4570-8e16-c61f121bd173",
   "metadata": {},
   "source": [
    "### Methods"
   ]
  },
  {
   "cell_type": "markdown",
   "id": "ef04a024-792d-430e-ae15-974d25831ca3",
   "metadata": {},
   "source": [
    "Based on preliminary findings of our estimates and histogram, we can already see a difference in average age between both sexes which supports our previous research.\n",
    "\n",
    "The histogram and estimates we produced above display the mean ages for male and female patients from the data respectively. However, our data set only encompasses cardiovascular disease patients from the Cleveland data, which cannot accurately represent Canada, the population of interest. Given that the Cleveland data is only one sample of data and there is a notable difference in sample size in male and female patients, with the Cleveland data as our sample, we can perform the bootstrap method to estimate average age of male and female patients in Canada (population parameter) as bootstrap samples many times. We will also look at the standard deviation for each sex to quantify the variability in mean ages. To answer our research question, we will perform a one-sided hypothesis test; calculating the p-value from our bootstrap sample. Based on previous research, we will perform a one-sided hypothesis test where the null hypothesis being that the mean ages are the same between sexes and the alternative hypothesis being that the mean age of men suffering from CVDs is lower than that of women. Given from our hypothesis test, we will be able to determine if the results support the claims of previous research. We will also calculate the confidence intervals to get a range of where our population mean is likely within. This will help us find an estimate of our population from our sample data of Cleveland patients. \n",
    "\n",
    "Based on previous studies and preliminary analysis of the data, we expect to find a statistically significant difference in the mean age of men and women suffering from CVDs, with the age of men being lower than that of women (Mosca et al., 2011). It is our hope that understanding the average age of men and women suffering from CVDs and standard deviation will contribute to more informed diagnoses for patients. Moreover, these findings, along with further research into female-specific risk factors and disease mitigation, could help shape clinical practice and improve disease outcomes for women."
   ]
  },
  {
   "cell_type": "markdown",
   "id": "5e4b219b-3804-4688-b994-0967750ab917",
   "metadata": {},
   "source": [
    "### References"
   ]
  },
  {
   "cell_type": "markdown",
   "id": "7bc5efd3-3829-4390-a459-105ed0249eb6",
   "metadata": {},
   "source": [
    "Mosca, L., Barrett-Connor, E., & Wenger, N. K. (2011). Sex/gender differences in cardiovascular disease prevention: What a difference a decade makes. Circulation, 124(19), 2145–2154. https://doi.org/10.1161/CIRCULATIONAHA.110.968792\n",
    "\n",
    "Public Health Agency (P.H.A) of Canada. (2017, February 10). Heart Disease in Canada. Canada.ca. Retrieved July 26, 2022, from https://www.canada.ca/en/public-health/services/publications/diseases-conditions/heart-disease-canada.html\n",
    "\n",
    "Solé-Auró, A., Michaud, P.-C., Hurd, M., & Crimmins, E. (2015). Disease Incidence and Mortality Among Older Americans and Europeans. Demography, 52(2), 593–611. https://doi.org/10.1007/s13524-015-0372-7\n",
    "\n",
    "Statistics Canada. (2022). Leading causes of death, total population, by age group [Data set]. Government of Canada. https://doi.org/10.25318/1310039401-ENG"
   ]
  },
  {
   "cell_type": "code",
   "execution_count": null,
   "id": "fca2d2dc-9222-4ab8-99c8-fb6cbc78d35c",
   "metadata": {},
   "outputs": [],
   "source": []
  },
  {
   "cell_type": "code",
   "execution_count": null,
   "id": "0f5cbce0-da1a-490a-81c2-c45611cfeee4",
   "metadata": {},
   "outputs": [],
   "source": []
  },
  {
   "cell_type": "code",
   "execution_count": null,
   "id": "5efacc55-fe52-4c35-beec-06ea21a9fd38",
   "metadata": {},
   "outputs": [],
   "source": []
  }
 ],
 "metadata": {
  "kernelspec": {
   "display_name": "R",
   "language": "R",
   "name": "ir"
  },
  "language_info": {
   "codemirror_mode": "r",
   "file_extension": ".r",
   "mimetype": "text/x-r-source",
   "name": "R",
   "pygments_lexer": "r",
   "version": "4.0.5"
  }
 },
 "nbformat": 4,
 "nbformat_minor": 5
}
