{
 "cells": [
  {
   "cell_type": "markdown",
   "id": "89258b2a-1ae4-4492-acae-a5854ddd1d57",
   "metadata": {},
   "source": [
    "# Working title\n",
    "\n",
    "#### STAT 201 Group Project Proposal ####\n",
    "##### Group 17 - *Janice Chan, Ena Gupta, Gael Hernandez Palmer*"
   ]
  },
  {
   "cell_type": "markdown",
   "id": "80dfffd9-3f4b-4afd-9cf5-7892e8bdbfdb",
   "metadata": {},
   "source": [
    "### Introduction"
   ]
  },
  {
   "cell_type": "markdown",
   "id": "481bd3a5-67aa-4e9f-ac6d-d4ed1b657ee1",
   "metadata": {},
   "source": [
    "..."
   ]
  },
  {
   "cell_type": "markdown",
   "id": "4ffd0b2e-9c11-4dc3-8ce9-29a77c9a6711",
   "metadata": {},
   "source": [
    "### Preliminary Results"
   ]
  },
  {
   "cell_type": "code",
   "execution_count": null,
   "id": "58c035df-ec77-4fe2-802b-553619d789a4",
   "metadata": {},
   "outputs": [],
   "source": [
    "# Load packages\n",
    "library(digest)\n",
    "library(infer)\n",
    "library(repr)\n",
    "library(tidyverse)\n",
    "library(dplyr)\n",
    "library(ggplot2)"
   ]
  },
  {
   "cell_type": "code",
   "execution_count": null,
   "id": "4670177f-1f56-4b5c-84b3-845e821e68a8",
   "metadata": {},
   "outputs": [],
   "source": [
    "# set seed for reproducibility\n",
    "set.seed(1234)\n",
    "\n",
    "# HEART DISEASE DATA (Compiled)\n",
    "# load data\n",
    "\n",
    "heart_disease_data <- read_delim(\"https://archive.ics.uci.edu/ml/machine-learning-databases/heart-disease/processed.cleveland.data\", \n",
    "                                 delim = \",\",\n",
    "                                 col_names = FALSE) %>%\n",
    "    transmute(age = X1, # clean data; renaming\n",
    "              sex = factor(X2) %>%\n",
    "                  fct_recode(female = \"0\",\n",
    "                             male = \"1\"),\n",
    "              chest_pain = factor(X3) %>%\n",
    "                  fct_recode(typical_angina = \"1\",\n",
    "                             atypical_angina = \"2\",\n",
    "                             nonanginal_pain = \"3\",\n",
    "                             asymptomatic = \"4\"),\n",
    "              resting_bp = X4,\n",
    "              cholesterol = X5,\n",
    "              bldsg_over120 = factor(X6) %>%\n",
    "                  fct_recode(no = \"0\",\n",
    "                             yes = \"1\"),\n",
    "              rest_ecg = factor(X7) %>%\n",
    "                  fct_recode(normal = \"0\",\n",
    "                             stt_abnormal = \"1\",\n",
    "                             lv_hyptroph = \"2\"),\n",
    "              max_hr = X8,\n",
    "              ex_angina = factor(X9) %>%\n",
    "                  fct_recode(no = \"0\",\n",
    "                             yes = \"1\"),\n",
    "              old_peak = X10,\n",
    "              slope = factor(X11) %>%\n",
    "                  fct_recode(upslope = \"1\",\n",
    "                             flat = \"2\",\n",
    "                             downslope = \"3\"),\n",
    "              flr_ves = X12,\n",
    "              thalassemia = factor(X13) %>%\n",
    "                  fct_recode(normal = \"3.0\",\n",
    "                             fxd_def = \"6.0\",\n",
    "                             rev_def = \"7.0\"),\n",
    "              disease = factor(X14) %>% \n",
    "                 fct_recode(no = \"0\", \n",
    "                            yes = \"1\",\n",
    "                            yes = \"2\",\n",
    "                            yes = \"3\",\n",
    "                            yes = \"4\")) %>%\n",
    "    select(age, sex, disease) %>% # select relevant attributes\n",
    "    filter(disease == \"yes\") # filter for those diagnosed with heart disease\n",
    "              \n",
    "head(heart_disease_data)\n",
    "\n",
    "# Heart disease data for male patients\n",
    "male_diseased = heart_disease_data %>%\n",
    "    filter(sex == \"male\")\n",
    "\n",
    "# Heart disease data for female patients\n",
    "female_diseased = heart_disease_data %>%\n",
    "    filter(sex == \"female\")"
   ]
  },
  {
   "cell_type": "code",
   "execution_count": 6,
   "id": "fe7d7bca-cf0c-4846-9189-a8c5bf9b5d5b",
   "metadata": {},
   "outputs": [],
   "source": [
    "# summarize data (estimates)\n",
    "\n",
    "# Average age in male patients\n",
    "mean_age_male = mean(male_diseased$age) %>%\n",
    "    round(digits = 0)\n",
    "\n",
    "# Average age in female patients\n",
    "mean_age_female = mean(female_diseased$age) %>%\n",
    "    round(digits = 0)"
   ]
  },
  {
   "cell_type": "markdown",
   "id": "4acafe8a-8426-42b7-ad98-164e6e517112",
   "metadata": {},
   "source": [
    "#### Average age of heart disease (diagnosed) patients (Cleveland):\n",
    "| Male patients      | Female patients |\n",
    "| ----------- | ----------- |\n",
    "| 56      | 59       |"
   ]
  },
  {
   "cell_type": "code",
   "execution_count": null,
   "id": "4e4f445d-c666-43be-8abd-3ca0872fb249",
   "metadata": {},
   "outputs": [],
   "source": [
    "# plot raw data\n",
    "\n",
    "# Both male and female patients\n",
    "age_plot <- heart_disease_data %>%\n",
    "    ggplot(aes(x = age, fill = sex)) +\n",
    "    geom_histogram(binwidth = 10) +\n",
    "    geom_vline(xintercept = mean_age_male, linetype = \"dashed\", size = 1, color = \"red\") +\n",
    "    geom_vline(xintercept = mean_age_female, linetype = \"dashed\", size = 1, color = \"blue\") +\n",
    "    scale_color_manual(values = c(\"Average age of male patients\" = \"red\", \"Average age of female patients\" = \"blue\")) +\n",
    "    labs(title = \"Age of Diseased Patients\",\n",
    "         xlab = \"Age\",\n",
    "         fill = \"Sex\") +\n",
    "    theme(text = element_text(size = 18))\n",
    "\n",
    "age_plot\n",
    "\n",
    "# Male\n",
    "male_diseased_plot <- male_diseased %>%\n",
    "    ggplot(aes(x = age)) + \n",
    "    geom_histogram(binwidth = 10, color = \"white\") + \n",
    "    geom_vline(xintercept = mean_age_male, linetype = \"dashed\", size = 1, color = \"red\") +\n",
    "    scale_color_manual(values = c(\"Average age of male patients\" = \"red\")) +\n",
    "    xlab(\"Age\") +\n",
    "    ggtitle(\"Age of Diseased Males\") +\n",
    "    theme(text = element_text(size = 18))\n",
    "\n",
    "male_diseased_plot\n",
    "\n",
    "# Female\n",
    "female_diseased_plot <- female_diseased %>%\n",
    "    ggplot(aes(x = age)) + \n",
    "    geom_histogram(binwidth = 10, color = \"black\") + \n",
    "    geom_vline(xintercept = mean_age_female, linetype = \"dashed\", size = 1, color = \"red\") +\n",
    "    scale_color_manual(values = c(\"Average age of female patients\" = \"red\")) +\n",
    "    xlab(\"Age\") +\n",
    "    ggtitle(\"Age of Diseased Females\") +\n",
    "    theme(text = element_text(size = 18))\n",
    "\n",
    "female_diseased_plot"
   ]
  },
  {
   "cell_type": "markdown",
   "id": "85d2fc8a-6574-4570-8e16-c61f121bd173",
   "metadata": {},
   "source": [
    "### Methods"
   ]
  },
  {
   "cell_type": "markdown",
   "id": "ef04a024-792d-430e-ae15-974d25831ca3",
   "metadata": {},
   "source": [
    "..."
   ]
  },
  {
   "cell_type": "markdown",
   "id": "5e4b219b-3804-4688-b994-0967750ab917",
   "metadata": {},
   "source": [
    "### References"
   ]
  },
  {
   "cell_type": "markdown",
   "id": "7bc5efd3-3829-4390-a459-105ed0249eb6",
   "metadata": {},
   "source": [
    "..."
   ]
  }
 ],
 "metadata": {
  "kernelspec": {
   "display_name": "R",
   "language": "R",
   "name": "ir"
  },
  "language_info": {
   "codemirror_mode": "r",
   "file_extension": ".r",
   "mimetype": "text/x-r-source",
   "name": "R",
   "pygments_lexer": "r",
   "version": "4.0.5"
  }
 },
 "nbformat": 4,
 "nbformat_minor": 5
}
