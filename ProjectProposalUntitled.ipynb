{
 "cells": [
  {
   "cell_type": "markdown",
   "id": "89258b2a-1ae4-4492-acae-a5854ddd1d57",
   "metadata": {},
   "source": [
    "### STAT 201 Project Proposal ###"
   ]
  },
  {
   "cell_type": "markdown",
   "id": "80dfffd9-3f4b-4afd-9cf5-7892e8bdbfdb",
   "metadata": {},
   "source": [
    "..."
   ]
  },
  {
   "cell_type": "code",
   "execution_count": 14,
   "id": "d2b2ce8a-5f1b-42d9-87b9-7a51ec8a11ef",
   "metadata": {},
   "outputs": [],
   "source": [
    "library(cowplot)\n",
    "library(datateachr)\n",
    "library(digest)\n",
    "library(infer)\n",
    "library(repr)\n",
    "library(taxyvr)\n",
    "library(tidyverse)\n",
    "library(dplyr)\n",
    "library(datateachr)"
   ]
  },
  {
   "cell_type": "code",
   "execution_count": 15,
   "id": "58c035df-ec77-4fe2-802b-553619d789a4",
   "metadata": {},
   "outputs": [
    {
     "name": "stderr",
     "output_type": "stream",
     "text": [
      "Warning message:\n",
      "“One or more parsing issues, see `problems()` for details”\n",
      "\u001b[1mRows: \u001b[22m\u001b[34m6575\u001b[39m \u001b[1mColumns: \u001b[22m\u001b[34m1\u001b[39m\n",
      "\u001b[36m──\u001b[39m \u001b[1mColumn specification\u001b[22m \u001b[36m────────────────────────────────────────────────────────\u001b[39m\n",
      "\u001b[1mDelimiter:\u001b[22m \",\"\n",
      "\u001b[31mchr\u001b[39m (1): ID;SUBSYSTEM;CODE;COVWATERHYDRANTUNITTYPE;DISTANCEFROMCORNER;FEEDER...\n",
      "\n",
      "\u001b[36mℹ\u001b[39m Use `spec()` to retrieve the full column specification for this data.\n",
      "\u001b[36mℹ\u001b[39m Specify the column types or set `show_col_types = FALSE` to quiet this message.\n"
     ]
    },
    {
     "data": {
      "text/html": [
       "<table class=\"dataframe\">\n",
       "<caption>A tibble: 6 × 1</caption>\n",
       "<thead>\n",
       "\t<tr><th scope=col>ID;SUBSYSTEM;CODE;COVWATERHYDRANTUNITTYPE;DISTANCEFROMCORNER;FEEDERLEN;DIR;LINE;COLOR;INCOMM;CHR0;CHR1;STREET_NUMBER;STREET;OLDHYDNUM;CASTSUB;OOCDATE;OOCNOTES;INSTDATE1;ORACLEID;ACTIVE;REMARKS;FIREUSEONLY;STATUS;COMPRESSION;ADDDTTM;ADDBY;MODBY;FEATURE_ID;UNITID;Geom;Geo Local Area</th></tr>\n",
       "\t<tr><th scope=col>&lt;chr&gt;</th></tr>\n",
       "</thead>\n",
       "<tbody>\n",
       "\t<tr><td>WH-U13-022;DSTR;TC;TC1;1.2;1.2;N-NORTH;N-NORTH;Blue;Yes;;;;NWS KASLO ST &amp; E 10TH AV;34B09;COVAV;;;1967-01-01;__FJ8SEP;Active;;N;IN_SERVICE;No;2009-11-10T01:33:00-08:00;covDBimport;SDE 834766;31571;31571;\"{\"\"coordinates\"\": [-123.0471389324545, 49.26102805690487], \"\"type\"\": \"\"Point\"\"}\";Renfrew-Collingwood</td></tr>\n",
       "\t<tr><td><span style=white-space:pre-wrap>WH-K15-017;DSTR;TC;TC1;2.1;0.6;W-WEST;W-WEST;Yellow;Yes;;;;NWC W 22ND AV &amp; VINE ST;44D23;COVAV;;;1946-01-01;__FJ8U0V;Active;;N;IN_SERVICE;No;2009-11-10T01:33:28-08:00;covDBimport;SDE 834766;31572;31572;\"{\"\"coordinates\"\": [-123.15824972672043, 49.25274563689306], \"\"type\"\": \"\"Point\"\"}\";Arbutus-Ridge      </span></td></tr>\n",
       "\t<tr><td><span style=white-space:pre-wrap>WH-O09-037;DSTR;Mueller;SupCent250;3.0;0.6;N-NORTH;N-NORTH;Blue;Yes;;;;NEC HOWE ST &amp; SMITHE ST;06C05;COVAV;;;1925-01-01;__FJE699;Active;;N;IN_SERVICE;Yes;2009-11-10T01:33:29-08:00;covDBimport;RIH83;31578;31578;\"{\"\"coordinates\"\": [-123.12220434005718, 49.28098310957153], \"\"type\"\": \"\"Point\"\"}\";Downtown   </span></td></tr>\n",
       "\t<tr><td>WH-W19-041;DSTR;Clow;BrigadierM;26.5;0.9;W-WEST;W-WEST;Blue;Yes;;;SS 3500;KINGSWAY;56A04;COVAV;;;;__FJE8O8;Active;;N;IN_SERVICE;Yes;2009-11-10T01:33:00-08:00;covDBimport;WAS17;31579;31579;\"{\"\"coordinates\"\": [-123.02697997937, 49.23202546201023], \"\"type\"\": \"\"Point\"\"}\";Killarney                           </td></tr>\n",
       "\t<tr><td><span style=white-space:pre-wrap>WH-W18-031;DSTR;TC;C71P;0.0;1.5;;;Blue;Yes;;;;SEC CROWLEY DRIVE &amp; GASTON ST;55B35;COVAV;;;1994-01-01;__FJ8WC6;Active;;N;IN_SERVICE;Yes;2009-11-10T01:33:29-08:00;covDBimport;SDE 834766;31581;31581;\"{\"\"coordinates\"\": [-123.03056334264977, 49.236514332599036], \"\"type\"\": \"\"Point\"\"}\";Renfrew-Collingwood     </span></td></tr>\n",
       "\t<tr><td><span style=white-space:pre-wrap>WH-P23-023;DSTR;TC;C71P;6.8;3.0;N-North;N-North;Red;Yes;;;;NWC COLUMBIA ST &amp; W 59TH AV;;COVAV;;;2005-06-01;__FN3W2S;Active;;N;IN_SERVICE;Yes;2009-11-10T01:33:29-08:00;covDBimport;PIY88;31582;31582;\"{\"\"coordinates\"\": [-123.11114768467384, 49.21702810275628], \"\"type\"\": \"\"Point\"\"}\";Marpole                 </span></td></tr>\n",
       "</tbody>\n",
       "</table>\n"
      ],
      "text/latex": [
       "A tibble: 6 × 1\n",
       "\\begin{tabular}{l}\n",
       " ID;SUBSYSTEM;CODE;COVWATERHYDRANTUNITTYPE;DISTANCEFROMCORNER;FEEDERLEN;DIR;LINE;COLOR;INCOMM;CHR0;CHR1;STREET\\_NUMBER;STREET;OLDHYDNUM;CASTSUB;OOCDATE;OOCNOTES;INSTDATE1;ORACLEID;ACTIVE;REMARKS;FIREUSEONLY;STATUS;COMPRESSION;ADDDTTM;ADDBY;MODBY;FEATURE\\_ID;UNITID;Geom;Geo Local Area\\\\\n",
       " <chr>\\\\\n",
       "\\hline\n",
       "\t WH-U13-022;DSTR;TC;TC1;1.2;1.2;N-NORTH;N-NORTH;Blue;Yes;;;;NWS KASLO ST \\& E 10TH AV;34B09;COVAV;;;1967-01-01;\\_\\_FJ8SEP;Active;;N;IN\\_SERVICE;No;2009-11-10T01:33:00-08:00;covDBimport;SDE 834766;31571;31571;\"\\{\"\"coordinates\"\": {[}-123.0471389324545, 49.26102805690487{]}, \"\"type\"\": \"\"Point\"\"\\}\";Renfrew-Collingwood\\\\\n",
       "\t WH-K15-017;DSTR;TC;TC1;2.1;0.6;W-WEST;W-WEST;Yellow;Yes;;;;NWC W 22ND AV \\& VINE ST;44D23;COVAV;;;1946-01-01;\\_\\_FJ8U0V;Active;;N;IN\\_SERVICE;No;2009-11-10T01:33:28-08:00;covDBimport;SDE 834766;31572;31572;\"\\{\"\"coordinates\"\": {[}-123.15824972672043, 49.25274563689306{]}, \"\"type\"\": \"\"Point\"\"\\}\";Arbutus-Ridge      \\\\\n",
       "\t WH-O09-037;DSTR;Mueller;SupCent250;3.0;0.6;N-NORTH;N-NORTH;Blue;Yes;;;;NEC HOWE ST \\& SMITHE ST;06C05;COVAV;;;1925-01-01;\\_\\_FJE699;Active;;N;IN\\_SERVICE;Yes;2009-11-10T01:33:29-08:00;covDBimport;RIH83;31578;31578;\"\\{\"\"coordinates\"\": {[}-123.12220434005718, 49.28098310957153{]}, \"\"type\"\": \"\"Point\"\"\\}\";Downtown   \\\\\n",
       "\t WH-W19-041;DSTR;Clow;BrigadierM;26.5;0.9;W-WEST;W-WEST;Blue;Yes;;;SS 3500;KINGSWAY;56A04;COVAV;;;;\\_\\_FJE8O8;Active;;N;IN\\_SERVICE;Yes;2009-11-10T01:33:00-08:00;covDBimport;WAS17;31579;31579;\"\\{\"\"coordinates\"\": {[}-123.02697997937, 49.23202546201023{]}, \"\"type\"\": \"\"Point\"\"\\}\";Killarney                           \\\\\n",
       "\t WH-W18-031;DSTR;TC;C71P;0.0;1.5;;;Blue;Yes;;;;SEC CROWLEY DRIVE \\& GASTON ST;55B35;COVAV;;;1994-01-01;\\_\\_FJ8WC6;Active;;N;IN\\_SERVICE;Yes;2009-11-10T01:33:29-08:00;covDBimport;SDE 834766;31581;31581;\"\\{\"\"coordinates\"\": {[}-123.03056334264977, 49.236514332599036{]}, \"\"type\"\": \"\"Point\"\"\\}\";Renfrew-Collingwood     \\\\\n",
       "\t WH-P23-023;DSTR;TC;C71P;6.8;3.0;N-North;N-North;Red;Yes;;;;NWC COLUMBIA ST \\& W 59TH AV;;COVAV;;;2005-06-01;\\_\\_FN3W2S;Active;;N;IN\\_SERVICE;Yes;2009-11-10T01:33:29-08:00;covDBimport;PIY88;31582;31582;\"\\{\"\"coordinates\"\": {[}-123.11114768467384, 49.21702810275628{]}, \"\"type\"\": \"\"Point\"\"\\}\";Marpole                 \\\\\n",
       "\\end{tabular}\n"
      ],
      "text/markdown": [
       "\n",
       "A tibble: 6 × 1\n",
       "\n",
       "| ID;SUBSYSTEM;CODE;COVWATERHYDRANTUNITTYPE;DISTANCEFROMCORNER;FEEDERLEN;DIR;LINE;COLOR;INCOMM;CHR0;CHR1;STREET_NUMBER;STREET;OLDHYDNUM;CASTSUB;OOCDATE;OOCNOTES;INSTDATE1;ORACLEID;ACTIVE;REMARKS;FIREUSEONLY;STATUS;COMPRESSION;ADDDTTM;ADDBY;MODBY;FEATURE_ID;UNITID;Geom;Geo Local Area &lt;chr&gt; |\n",
       "|---|\n",
       "| WH-U13-022;DSTR;TC;TC1;1.2;1.2;N-NORTH;N-NORTH;Blue;Yes;;;;NWS KASLO ST &amp; E 10TH AV;34B09;COVAV;;;1967-01-01;__FJ8SEP;Active;;N;IN_SERVICE;No;2009-11-10T01:33:00-08:00;covDBimport;SDE 834766;31571;31571;\"{\"\"coordinates\"\": [-123.0471389324545, 49.26102805690487], \"\"type\"\": \"\"Point\"\"}\";Renfrew-Collingwood |\n",
       "| WH-K15-017;DSTR;TC;TC1;2.1;0.6;W-WEST;W-WEST;Yellow;Yes;;;;NWC W 22ND AV &amp; VINE ST;44D23;COVAV;;;1946-01-01;__FJ8U0V;Active;;N;IN_SERVICE;No;2009-11-10T01:33:28-08:00;covDBimport;SDE 834766;31572;31572;\"{\"\"coordinates\"\": [-123.15824972672043, 49.25274563689306], \"\"type\"\": \"\"Point\"\"}\";Arbutus-Ridge       |\n",
       "| WH-O09-037;DSTR;Mueller;SupCent250;3.0;0.6;N-NORTH;N-NORTH;Blue;Yes;;;;NEC HOWE ST &amp; SMITHE ST;06C05;COVAV;;;1925-01-01;__FJE699;Active;;N;IN_SERVICE;Yes;2009-11-10T01:33:29-08:00;covDBimport;RIH83;31578;31578;\"{\"\"coordinates\"\": [-123.12220434005718, 49.28098310957153], \"\"type\"\": \"\"Point\"\"}\";Downtown    |\n",
       "| WH-W19-041;DSTR;Clow;BrigadierM;26.5;0.9;W-WEST;W-WEST;Blue;Yes;;;SS 3500;KINGSWAY;56A04;COVAV;;;;__FJE8O8;Active;;N;IN_SERVICE;Yes;2009-11-10T01:33:00-08:00;covDBimport;WAS17;31579;31579;\"{\"\"coordinates\"\": [-123.02697997937, 49.23202546201023], \"\"type\"\": \"\"Point\"\"}\";Killarney                            |\n",
       "| WH-W18-031;DSTR;TC;C71P;0.0;1.5;;;Blue;Yes;;;;SEC CROWLEY DRIVE &amp; GASTON ST;55B35;COVAV;;;1994-01-01;__FJ8WC6;Active;;N;IN_SERVICE;Yes;2009-11-10T01:33:29-08:00;covDBimport;SDE 834766;31581;31581;\"{\"\"coordinates\"\": [-123.03056334264977, 49.236514332599036], \"\"type\"\": \"\"Point\"\"}\";Renfrew-Collingwood      |\n",
       "| WH-P23-023;DSTR;TC;C71P;6.8;3.0;N-North;N-North;Red;Yes;;;;NWC COLUMBIA ST &amp; W 59TH AV;;COVAV;;;2005-06-01;__FN3W2S;Active;;N;IN_SERVICE;Yes;2009-11-10T01:33:29-08:00;covDBimport;PIY88;31582;31582;\"{\"\"coordinates\"\": [-123.11114768467384, 49.21702810275628], \"\"type\"\": \"\"Point\"\"}\";Marpole                  |\n",
       "\n"
      ],
      "text/plain": [
       "  ID;SUBSYSTEM;CODE;COVWATERHYDRANTUNITTYPE;DISTANCEFROMCORNER;FEEDERLEN;DIR;LINE;COLOR;INCOMM;CHR0;CHR1;STREET_NUMBER;STREET;OLDHYDNUM;CASTSUB;OOCDATE;OOCNOTES;INSTDATE1;ORACLEID;ACTIVE;REMARKS;FIREUSEONLY;STATUS;COMPRESSION;ADDDTTM;ADDBY;MODBY;FEATURE_ID;UNITID;Geom;Geo Local Area                       \n",
       "1 WH-U13-022;DSTR;TC;TC1;1.2;1.2;N-NORTH;N-NORTH;Blue;Yes;;;;NWS KASLO ST & E 10TH AV;34B09;COVAV;;;1967-01-01;__FJ8SEP;Active;;N;IN_SERVICE;No;2009-11-10T01:33:00-08:00;covDBimport;SDE 834766;31571;31571;\"{\"\"coordinates\"\": [-123.0471389324545, 49.26102805690487], \"\"type\"\": \"\"Point\"\"}\";Renfrew-Collingwood\n",
       "2 WH-K15-017;DSTR;TC;TC1;2.1;0.6;W-WEST;W-WEST;Yellow;Yes;;;;NWC W 22ND AV & VINE ST;44D23;COVAV;;;1946-01-01;__FJ8U0V;Active;;N;IN_SERVICE;No;2009-11-10T01:33:28-08:00;covDBimport;SDE 834766;31572;31572;\"{\"\"coordinates\"\": [-123.15824972672043, 49.25274563689306], \"\"type\"\": \"\"Point\"\"}\";Arbutus-Ridge      \n",
       "3 WH-O09-037;DSTR;Mueller;SupCent250;3.0;0.6;N-NORTH;N-NORTH;Blue;Yes;;;;NEC HOWE ST & SMITHE ST;06C05;COVAV;;;1925-01-01;__FJE699;Active;;N;IN_SERVICE;Yes;2009-11-10T01:33:29-08:00;covDBimport;RIH83;31578;31578;\"{\"\"coordinates\"\": [-123.12220434005718, 49.28098310957153], \"\"type\"\": \"\"Point\"\"}\";Downtown   \n",
       "4 WH-W19-041;DSTR;Clow;BrigadierM;26.5;0.9;W-WEST;W-WEST;Blue;Yes;;;SS 3500;KINGSWAY;56A04;COVAV;;;;__FJE8O8;Active;;N;IN_SERVICE;Yes;2009-11-10T01:33:00-08:00;covDBimport;WAS17;31579;31579;\"{\"\"coordinates\"\": [-123.02697997937, 49.23202546201023], \"\"type\"\": \"\"Point\"\"}\";Killarney                           \n",
       "5 WH-W18-031;DSTR;TC;C71P;0.0;1.5;;;Blue;Yes;;;;SEC CROWLEY DRIVE & GASTON ST;55B35;COVAV;;;1994-01-01;__FJ8WC6;Active;;N;IN_SERVICE;Yes;2009-11-10T01:33:29-08:00;covDBimport;SDE 834766;31581;31581;\"{\"\"coordinates\"\": [-123.03056334264977, 49.236514332599036], \"\"type\"\": \"\"Point\"\"}\";Renfrew-Collingwood     \n",
       "6 WH-P23-023;DSTR;TC;C71P;6.8;3.0;N-North;N-North;Red;Yes;;;;NWC COLUMBIA ST & W 59TH AV;;COVAV;;;2005-06-01;__FN3W2S;Active;;N;IN_SERVICE;Yes;2009-11-10T01:33:29-08:00;covDBimport;PIY88;31582;31582;\"{\"\"coordinates\"\": [-123.11114768467384, 49.21702810275628], \"\"type\"\": \"\"Point\"\"}\";Marpole                 "
      ]
     },
     "metadata": {},
     "output_type": "display_data"
    }
   ],
   "source": [
    "hydrant_data <- read_csv(\"https://raw.githubusercontent.com/Gaelhpalmer/STAT201Project/main/water-hydrants.csv\")\n",
    "\n",
    "head(hydrant_data)"
   ]
  },
  {
   "cell_type": "code",
   "execution_count": null,
   "id": "21f3c44d-17bd-453c-86e2-f069cc57aa00",
   "metadata": {},
   "outputs": [],
   "source": []
  }
 ],
 "metadata": {
  "kernelspec": {
   "display_name": "R",
   "language": "R",
   "name": "ir"
  },
  "language_info": {
   "codemirror_mode": "r",
   "file_extension": ".r",
   "mimetype": "text/x-r-source",
   "name": "R",
   "pygments_lexer": "r",
   "version": "4.0.5"
  }
 },
 "nbformat": 4,
 "nbformat_minor": 5
}
