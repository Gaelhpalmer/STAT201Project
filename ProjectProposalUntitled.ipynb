{
 "cells": [
  {
   "cell_type": "markdown",
   "id": "89258b2a-1ae4-4492-acae-a5854ddd1d57",
   "metadata": {},
   "source": [
    "# Working title\n",
    "\n",
    "#### STAT 201 Group Project Proposal ####\n",
    "##### Group 17 - *Janice Chan, Ena Gupta, Gael Hernandez Palmer*"
   ]
  },
  {
   "cell_type": "markdown",
   "id": "80dfffd9-3f4b-4afd-9cf5-7892e8bdbfdb",
   "metadata": {},
   "source": [
    "### Introduction"
   ]
  },
  {
   "cell_type": "markdown",
   "id": "481bd3a5-67aa-4e9f-ac6d-d4ed1b657ee1",
   "metadata": {},
   "source": [
    "..."
   ]
  },
  {
   "cell_type": "markdown",
   "id": "4ffd0b2e-9c11-4dc3-8ce9-29a77c9a6711",
   "metadata": {},
   "source": [
    "### Preliminary Results"
   ]
  },
  {
   "cell_type": "code",
   "execution_count": 35,
   "id": "58c035df-ec77-4fe2-802b-553619d789a4",
   "metadata": {},
   "outputs": [],
   "source": [
    "# Load packages\n",
    "library(digest)\n",
    "library(infer)\n",
    "library(repr)\n",
    "library(tidyverse)\n",
    "library(dplyr)"
   ]
  },
  {
   "cell_type": "code",
   "execution_count": 53,
   "id": "4670177f-1f56-4b5c-84b3-845e821e68a8",
   "metadata": {},
   "outputs": [
    {
     "name": "stderr",
     "output_type": "stream",
     "text": [
      "\u001b[1mRows: \u001b[22m\u001b[34m1025\u001b[39m \u001b[1mColumns: \u001b[22m\u001b[34m14\u001b[39m\n",
      "\u001b[36m──\u001b[39m \u001b[1mColumn specification\u001b[22m \u001b[36m────────────────────────────────────────────────────────\u001b[39m\n",
      "\u001b[1mDelimiter:\u001b[22m \",\"\n",
      "\u001b[32mdbl\u001b[39m (14): age, sex, cp, trestbps, chol, fbs, restecg, thalach, exang, oldpea...\n",
      "\n",
      "\u001b[36mℹ\u001b[39m Use `spec()` to retrieve the full column specification for this data.\n",
      "\u001b[36mℹ\u001b[39m Specify the column types or set `show_col_types = FALSE` to quiet this message.\n"
     ]
    },
    {
     "data": {
      "text/html": [
       "<table class=\"dataframe\">\n",
       "<caption>A tibble: 6 × 14</caption>\n",
       "<thead>\n",
       "\t<tr><th scope=col>age</th><th scope=col>sex</th><th scope=col>cp_type</th><th scope=col>trestbps</th><th scope=col>chol</th><th scope=col>fbs</th><th scope=col>rest_ecg</th><th scope=col>max_hr</th><th scope=col>ex_ang</th><th scope=col>old_peak</th><th scope=col>slope</th><th scope=col>ca</th><th scope=col>thal</th><th scope=col>heart_disease</th></tr>\n",
       "\t<tr><th scope=col>&lt;dbl&gt;</th><th scope=col>&lt;dbl&gt;</th><th scope=col>&lt;dbl&gt;</th><th scope=col>&lt;dbl&gt;</th><th scope=col>&lt;dbl&gt;</th><th scope=col>&lt;dbl&gt;</th><th scope=col>&lt;dbl&gt;</th><th scope=col>&lt;dbl&gt;</th><th scope=col>&lt;dbl&gt;</th><th scope=col>&lt;dbl&gt;</th><th scope=col>&lt;dbl&gt;</th><th scope=col>&lt;dbl&gt;</th><th scope=col>&lt;dbl&gt;</th><th scope=col>&lt;dbl&gt;</th></tr>\n",
       "</thead>\n",
       "<tbody>\n",
       "\t<tr><td>52</td><td>1</td><td>0</td><td>125</td><td>212</td><td>0</td><td>1</td><td>168</td><td>0</td><td>1.0</td><td>2</td><td>2</td><td>3</td><td>0</td></tr>\n",
       "\t<tr><td>53</td><td>1</td><td>0</td><td>140</td><td>203</td><td>1</td><td>0</td><td>155</td><td>1</td><td>3.1</td><td>0</td><td>0</td><td>3</td><td>0</td></tr>\n",
       "\t<tr><td>70</td><td>1</td><td>0</td><td>145</td><td>174</td><td>0</td><td>1</td><td>125</td><td>1</td><td>2.6</td><td>0</td><td>0</td><td>3</td><td>0</td></tr>\n",
       "\t<tr><td>61</td><td>1</td><td>0</td><td>148</td><td>203</td><td>0</td><td>1</td><td>161</td><td>0</td><td>0.0</td><td>2</td><td>1</td><td>3</td><td>0</td></tr>\n",
       "\t<tr><td>62</td><td>0</td><td>0</td><td>138</td><td>294</td><td>1</td><td>1</td><td>106</td><td>0</td><td>1.9</td><td>1</td><td>3</td><td>2</td><td>0</td></tr>\n",
       "\t<tr><td>58</td><td>0</td><td>0</td><td>100</td><td>248</td><td>0</td><td>0</td><td>122</td><td>0</td><td>1.0</td><td>1</td><td>0</td><td>2</td><td>1</td></tr>\n",
       "</tbody>\n",
       "</table>\n"
      ],
      "text/latex": [
       "A tibble: 6 × 14\n",
       "\\begin{tabular}{llllllllllllll}\n",
       " age & sex & cp\\_type & trestbps & chol & fbs & rest\\_ecg & max\\_hr & ex\\_ang & old\\_peak & slope & ca & thal & heart\\_disease\\\\\n",
       " <dbl> & <dbl> & <dbl> & <dbl> & <dbl> & <dbl> & <dbl> & <dbl> & <dbl> & <dbl> & <dbl> & <dbl> & <dbl> & <dbl>\\\\\n",
       "\\hline\n",
       "\t 52 & 1 & 0 & 125 & 212 & 0 & 1 & 168 & 0 & 1.0 & 2 & 2 & 3 & 0\\\\\n",
       "\t 53 & 1 & 0 & 140 & 203 & 1 & 0 & 155 & 1 & 3.1 & 0 & 0 & 3 & 0\\\\\n",
       "\t 70 & 1 & 0 & 145 & 174 & 0 & 1 & 125 & 1 & 2.6 & 0 & 0 & 3 & 0\\\\\n",
       "\t 61 & 1 & 0 & 148 & 203 & 0 & 1 & 161 & 0 & 0.0 & 2 & 1 & 3 & 0\\\\\n",
       "\t 62 & 0 & 0 & 138 & 294 & 1 & 1 & 106 & 0 & 1.9 & 1 & 3 & 2 & 0\\\\\n",
       "\t 58 & 0 & 0 & 100 & 248 & 0 & 0 & 122 & 0 & 1.0 & 1 & 0 & 2 & 1\\\\\n",
       "\\end{tabular}\n"
      ],
      "text/markdown": [
       "\n",
       "A tibble: 6 × 14\n",
       "\n",
       "| age &lt;dbl&gt; | sex &lt;dbl&gt; | cp_type &lt;dbl&gt; | trestbps &lt;dbl&gt; | chol &lt;dbl&gt; | fbs &lt;dbl&gt; | rest_ecg &lt;dbl&gt; | max_hr &lt;dbl&gt; | ex_ang &lt;dbl&gt; | old_peak &lt;dbl&gt; | slope &lt;dbl&gt; | ca &lt;dbl&gt; | thal &lt;dbl&gt; | heart_disease &lt;dbl&gt; |\n",
       "|---|---|---|---|---|---|---|---|---|---|---|---|---|---|\n",
       "| 52 | 1 | 0 | 125 | 212 | 0 | 1 | 168 | 0 | 1.0 | 2 | 2 | 3 | 0 |\n",
       "| 53 | 1 | 0 | 140 | 203 | 1 | 0 | 155 | 1 | 3.1 | 0 | 0 | 3 | 0 |\n",
       "| 70 | 1 | 0 | 145 | 174 | 0 | 1 | 125 | 1 | 2.6 | 0 | 0 | 3 | 0 |\n",
       "| 61 | 1 | 0 | 148 | 203 | 0 | 1 | 161 | 0 | 0.0 | 2 | 1 | 3 | 0 |\n",
       "| 62 | 0 | 0 | 138 | 294 | 1 | 1 | 106 | 0 | 1.9 | 1 | 3 | 2 | 0 |\n",
       "| 58 | 0 | 0 | 100 | 248 | 0 | 0 | 122 | 0 | 1.0 | 1 | 0 | 2 | 1 |\n",
       "\n"
      ],
      "text/plain": [
       "  age sex cp_type trestbps chol fbs rest_ecg max_hr ex_ang old_peak slope ca\n",
       "1 52  1   0       125      212  0   1        168    0      1.0      2     2 \n",
       "2 53  1   0       140      203  1   0        155    1      3.1      0     0 \n",
       "3 70  1   0       145      174  0   1        125    1      2.6      0     0 \n",
       "4 61  1   0       148      203  0   1        161    0      0.0      2     1 \n",
       "5 62  0   0       138      294  1   1        106    0      1.9      1     3 \n",
       "6 58  0   0       100      248  0   0        122    0      1.0      1     0 \n",
       "  thal heart_disease\n",
       "1 3    0            \n",
       "2 3    0            \n",
       "3 3    0            \n",
       "4 3    0            \n",
       "5 2    0            \n",
       "6 2    1            "
      ]
     },
     "metadata": {},
     "output_type": "display_data"
    }
   ],
   "source": [
    "# set seed for reproducibility\n",
    "set.seed(1234)\n",
    "\n",
    "# HEART DISEASE DATA (Compiled)\n",
    "# load data\n",
    "\n",
    "heart_disease_data <- read_csv(\"https://raw.githubusercontent.com/Gaelhpalmer/STAT201Project/main/heart.csv\")\n",
    "heart_disease_data <- as_tibble(heart_disease_data) %>%\n",
    "    rename(heart_disease = target, \n",
    "           cp_type = cp, \n",
    "           rest_ecg = restecg, \n",
    "           max_hr = thalach, \n",
    "           ex_ang = exang, \n",
    "           old_peak = oldpeak)\n",
    "\n",
    "head(heart_disease_data)\n"
   ]
  },
  {
   "cell_type": "code",
   "execution_count": null,
   "id": "fe7d7bca-cf0c-4846-9189-a8c5bf9b5d5b",
   "metadata": {},
   "outputs": [],
   "source": [
    "# summarize data (estimates)"
   ]
  },
  {
   "cell_type": "code",
   "execution_count": null,
   "id": "4e4f445d-c666-43be-8abd-3ca0872fb249",
   "metadata": {},
   "outputs": [],
   "source": [
    "# plot raw data"
   ]
  },
  {
   "cell_type": "markdown",
   "id": "85d2fc8a-6574-4570-8e16-c61f121bd173",
   "metadata": {},
   "source": [
    "### Methods"
   ]
  },
  {
   "cell_type": "markdown",
   "id": "ef04a024-792d-430e-ae15-974d25831ca3",
   "metadata": {},
   "source": [
    "..."
   ]
  },
  {
   "cell_type": "markdown",
   "id": "5e4b219b-3804-4688-b994-0967750ab917",
   "metadata": {},
   "source": [
    "### References"
   ]
  },
  {
   "cell_type": "markdown",
   "id": "7bc5efd3-3829-4390-a459-105ed0249eb6",
   "metadata": {},
   "source": [
    "..."
   ]
  }
 ],
 "metadata": {
  "kernelspec": {
   "display_name": "R",
   "language": "R",
   "name": "ir"
  },
  "language_info": {
   "codemirror_mode": "r",
   "file_extension": ".r",
   "mimetype": "text/x-r-source",
   "name": "R",
   "pygments_lexer": "r",
   "version": "4.0.5"
  }
 },
 "nbformat": 4,
 "nbformat_minor": 5
}
