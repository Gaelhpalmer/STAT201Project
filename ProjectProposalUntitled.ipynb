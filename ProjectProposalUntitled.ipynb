{
 "cells": [
  {
   "cell_type": "markdown",
   "id": "89258b2a-1ae4-4492-acae-a5854ddd1d57",
   "metadata": {},
   "source": [
    "### STAT 201 Project Proposal ###"
   ]
  },
  {
   "cell_type": "markdown",
   "id": "80dfffd9-3f4b-4afd-9cf5-7892e8bdbfdb",
   "metadata": {},
   "source": [
    "..."
   ]
  },
  {
   "cell_type": "code",
   "execution_count": 14,
   "id": "d2b2ce8a-5f1b-42d9-87b9-7a51ec8a11ef",
   "metadata": {},
   "outputs": [],
   "source": [
    "library(cowplot)\n",
    "library(datateachr)\n",
    "library(digest)\n",
    "library(infer)\n",
    "library(repr)\n",
    "library(taxyvr)\n",
    "library(tidyverse)\n",
    "library(dplyr)\n",
    "library(datateachr)"
   ]
  },
  {
   "cell_type": "code",
   "execution_count": 16,
   "id": "58c035df-ec77-4fe2-802b-553619d789a4",
   "metadata": {},
   "outputs": [
    {
     "name": "stderr",
     "output_type": "stream",
     "text": [
      "\u001b[1mRows: \u001b[22m\u001b[34m6568\u001b[39m \u001b[1mColumns: \u001b[22m\u001b[34m32\u001b[39m\n",
      "\u001b[36m──\u001b[39m \u001b[1mColumn specification\u001b[22m \u001b[36m────────────────────────────────────────────────────────\u001b[39m\n",
      "\u001b[1mDelimiter:\u001b[22m \",\"\n",
      "\u001b[31mchr\u001b[39m  (25): ID, SUBSYSTEM, CODE, COVWATERHYDRANTUNITTYPE, DIR, LINE, COLOR, I...\n",
      "\u001b[32mdbl\u001b[39m   (4): DISTANCEFROMCORNER, FEEDERLEN, FEATURE_ID, UNITID\n",
      "\u001b[33mlgl\u001b[39m   (2): CHR0, CHR1\n",
      "\u001b[34mdttm\u001b[39m  (1): ADDDTTM\n",
      "\n",
      "\u001b[36mℹ\u001b[39m Use `spec()` to retrieve the full column specification for this data.\n",
      "\u001b[36mℹ\u001b[39m Specify the column types or set `show_col_types = FALSE` to quiet this message.\n"
     ]
    },
    {
     "data": {
      "text/html": [
       "<table class=\"dataframe\">\n",
       "<caption>A tibble: 6 × 32</caption>\n",
       "<thead>\n",
       "\t<tr><th scope=col>ID</th><th scope=col>SUBSYSTEM</th><th scope=col>CODE</th><th scope=col>COVWATERHYDRANTUNITTYPE</th><th scope=col>DISTANCEFROMCORNER</th><th scope=col>FEEDERLEN</th><th scope=col>DIR</th><th scope=col>LINE</th><th scope=col>COLOR</th><th scope=col>INCOMM</th><th scope=col>⋯</th><th scope=col>FIREUSEONLY</th><th scope=col>STATUS</th><th scope=col>COMPRESSION</th><th scope=col>ADDDTTM</th><th scope=col>ADDBY</th><th scope=col>MODBY</th><th scope=col>FEATURE_ID</th><th scope=col>UNITID</th><th scope=col>Geom</th><th scope=col>Geo Local Area</th></tr>\n",
       "\t<tr><th scope=col>&lt;chr&gt;</th><th scope=col>&lt;chr&gt;</th><th scope=col>&lt;chr&gt;</th><th scope=col>&lt;chr&gt;</th><th scope=col>&lt;dbl&gt;</th><th scope=col>&lt;dbl&gt;</th><th scope=col>&lt;chr&gt;</th><th scope=col>&lt;chr&gt;</th><th scope=col>&lt;chr&gt;</th><th scope=col>&lt;chr&gt;</th><th scope=col>⋯</th><th scope=col>&lt;chr&gt;</th><th scope=col>&lt;chr&gt;</th><th scope=col>&lt;chr&gt;</th><th scope=col>&lt;dttm&gt;</th><th scope=col>&lt;chr&gt;</th><th scope=col>&lt;chr&gt;</th><th scope=col>&lt;dbl&gt;</th><th scope=col>&lt;dbl&gt;</th><th scope=col>&lt;chr&gt;</th><th scope=col>&lt;chr&gt;</th></tr>\n",
       "</thead>\n",
       "<tbody>\n",
       "\t<tr><td>WH-U13-022</td><td>DSTR</td><td>TC     </td><td>TC1       </td><td> 1.2</td><td>1.2</td><td>N-NORTH</td><td>N-NORTH</td><td>Blue  </td><td>Yes</td><td>⋯</td><td>N</td><td>IN_SERVICE</td><td>No </td><td>2009-11-10 09:33:00</td><td>covDBimport</td><td>SDE 834766</td><td>31571</td><td>31571</td><td>{\"coordinates\": [-123.0471389324545, 49.26102805690487], \"type\": \"Point\"}  </td><td>Renfrew-Collingwood</td></tr>\n",
       "\t<tr><td>WH-K15-017</td><td>DSTR</td><td>TC     </td><td>TC1       </td><td> 2.1</td><td>0.6</td><td>W-WEST </td><td>W-WEST </td><td>Yellow</td><td>Yes</td><td>⋯</td><td>N</td><td>IN_SERVICE</td><td>No </td><td>2009-11-10 09:33:28</td><td>covDBimport</td><td>SDE 834766</td><td>31572</td><td>31572</td><td>{\"coordinates\": [-123.15824972672043, 49.25274563689306], \"type\": \"Point\"} </td><td>Arbutus-Ridge      </td></tr>\n",
       "\t<tr><td>WH-O09-037</td><td>DSTR</td><td>Mueller</td><td>SupCent250</td><td> 3.0</td><td>0.6</td><td>N-NORTH</td><td>N-NORTH</td><td>Blue  </td><td>Yes</td><td>⋯</td><td>N</td><td>IN_SERVICE</td><td>Yes</td><td>2009-11-10 09:33:29</td><td>covDBimport</td><td>RIH83     </td><td>31578</td><td>31578</td><td>{\"coordinates\": [-123.12220434005718, 49.28098310957153], \"type\": \"Point\"} </td><td>Downtown           </td></tr>\n",
       "\t<tr><td>WH-W19-041</td><td>DSTR</td><td>Clow   </td><td>BrigadierM</td><td>26.5</td><td>0.9</td><td>W-WEST </td><td>W-WEST </td><td>Blue  </td><td>Yes</td><td>⋯</td><td>N</td><td>IN_SERVICE</td><td>Yes</td><td>2009-11-10 09:33:00</td><td>covDBimport</td><td>WAS17     </td><td>31579</td><td>31579</td><td>{\"coordinates\": [-123.02697997937, 49.23202546201023], \"type\": \"Point\"}    </td><td>Killarney          </td></tr>\n",
       "\t<tr><td>WH-W18-031</td><td>DSTR</td><td>TC     </td><td>C71P      </td><td> 0.0</td><td>1.5</td><td>NA     </td><td>NA     </td><td>Blue  </td><td>Yes</td><td>⋯</td><td>N</td><td>IN_SERVICE</td><td>Yes</td><td>2009-11-10 09:33:29</td><td>covDBimport</td><td>SDE 834766</td><td>31581</td><td>31581</td><td>{\"coordinates\": [-123.03056334264977, 49.236514332599036], \"type\": \"Point\"}</td><td>Renfrew-Collingwood</td></tr>\n",
       "\t<tr><td>WH-P23-023</td><td>DSTR</td><td>TC     </td><td>C71P      </td><td> 6.8</td><td>3.0</td><td>N-North</td><td>N-North</td><td>Red   </td><td>Yes</td><td>⋯</td><td>N</td><td>IN_SERVICE</td><td>Yes</td><td>2009-11-10 09:33:29</td><td>covDBimport</td><td>PIY88     </td><td>31582</td><td>31582</td><td>{\"coordinates\": [-123.11114768467384, 49.21702810275628], \"type\": \"Point\"} </td><td>Marpole            </td></tr>\n",
       "</tbody>\n",
       "</table>\n"
      ],
      "text/latex": [
       "A tibble: 6 × 32\n",
       "\\begin{tabular}{lllllllllllllllllllll}\n",
       " ID & SUBSYSTEM & CODE & COVWATERHYDRANTUNITTYPE & DISTANCEFROMCORNER & FEEDERLEN & DIR & LINE & COLOR & INCOMM & ⋯ & FIREUSEONLY & STATUS & COMPRESSION & ADDDTTM & ADDBY & MODBY & FEATURE\\_ID & UNITID & Geom & Geo Local Area\\\\\n",
       " <chr> & <chr> & <chr> & <chr> & <dbl> & <dbl> & <chr> & <chr> & <chr> & <chr> & ⋯ & <chr> & <chr> & <chr> & <dttm> & <chr> & <chr> & <dbl> & <dbl> & <chr> & <chr>\\\\\n",
       "\\hline\n",
       "\t WH-U13-022 & DSTR & TC      & TC1        &  1.2 & 1.2 & N-NORTH & N-NORTH & Blue   & Yes & ⋯ & N & IN\\_SERVICE & No  & 2009-11-10 09:33:00 & covDBimport & SDE 834766 & 31571 & 31571 & \\{\"coordinates\": {[}-123.0471389324545, 49.26102805690487{]}, \"type\": \"Point\"\\}   & Renfrew-Collingwood\\\\\n",
       "\t WH-K15-017 & DSTR & TC      & TC1        &  2.1 & 0.6 & W-WEST  & W-WEST  & Yellow & Yes & ⋯ & N & IN\\_SERVICE & No  & 2009-11-10 09:33:28 & covDBimport & SDE 834766 & 31572 & 31572 & \\{\"coordinates\": {[}-123.15824972672043, 49.25274563689306{]}, \"type\": \"Point\"\\}  & Arbutus-Ridge      \\\\\n",
       "\t WH-O09-037 & DSTR & Mueller & SupCent250 &  3.0 & 0.6 & N-NORTH & N-NORTH & Blue   & Yes & ⋯ & N & IN\\_SERVICE & Yes & 2009-11-10 09:33:29 & covDBimport & RIH83      & 31578 & 31578 & \\{\"coordinates\": {[}-123.12220434005718, 49.28098310957153{]}, \"type\": \"Point\"\\}  & Downtown           \\\\\n",
       "\t WH-W19-041 & DSTR & Clow    & BrigadierM & 26.5 & 0.9 & W-WEST  & W-WEST  & Blue   & Yes & ⋯ & N & IN\\_SERVICE & Yes & 2009-11-10 09:33:00 & covDBimport & WAS17      & 31579 & 31579 & \\{\"coordinates\": {[}-123.02697997937, 49.23202546201023{]}, \"type\": \"Point\"\\}     & Killarney          \\\\\n",
       "\t WH-W18-031 & DSTR & TC      & C71P       &  0.0 & 1.5 & NA      & NA      & Blue   & Yes & ⋯ & N & IN\\_SERVICE & Yes & 2009-11-10 09:33:29 & covDBimport & SDE 834766 & 31581 & 31581 & \\{\"coordinates\": {[}-123.03056334264977, 49.236514332599036{]}, \"type\": \"Point\"\\} & Renfrew-Collingwood\\\\\n",
       "\t WH-P23-023 & DSTR & TC      & C71P       &  6.8 & 3.0 & N-North & N-North & Red    & Yes & ⋯ & N & IN\\_SERVICE & Yes & 2009-11-10 09:33:29 & covDBimport & PIY88      & 31582 & 31582 & \\{\"coordinates\": {[}-123.11114768467384, 49.21702810275628{]}, \"type\": \"Point\"\\}  & Marpole            \\\\\n",
       "\\end{tabular}\n"
      ],
      "text/markdown": [
       "\n",
       "A tibble: 6 × 32\n",
       "\n",
       "| ID &lt;chr&gt; | SUBSYSTEM &lt;chr&gt; | CODE &lt;chr&gt; | COVWATERHYDRANTUNITTYPE &lt;chr&gt; | DISTANCEFROMCORNER &lt;dbl&gt; | FEEDERLEN &lt;dbl&gt; | DIR &lt;chr&gt; | LINE &lt;chr&gt; | COLOR &lt;chr&gt; | INCOMM &lt;chr&gt; | ⋯ ⋯ | FIREUSEONLY &lt;chr&gt; | STATUS &lt;chr&gt; | COMPRESSION &lt;chr&gt; | ADDDTTM &lt;dttm&gt; | ADDBY &lt;chr&gt; | MODBY &lt;chr&gt; | FEATURE_ID &lt;dbl&gt; | UNITID &lt;dbl&gt; | Geom &lt;chr&gt; | Geo Local Area &lt;chr&gt; |\n",
       "|---|---|---|---|---|---|---|---|---|---|---|---|---|---|---|---|---|---|---|---|---|\n",
       "| WH-U13-022 | DSTR | TC      | TC1        |  1.2 | 1.2 | N-NORTH | N-NORTH | Blue   | Yes | ⋯ | N | IN_SERVICE | No  | 2009-11-10 09:33:00 | covDBimport | SDE 834766 | 31571 | 31571 | {\"coordinates\": [-123.0471389324545, 49.26102805690487], \"type\": \"Point\"}   | Renfrew-Collingwood |\n",
       "| WH-K15-017 | DSTR | TC      | TC1        |  2.1 | 0.6 | W-WEST  | W-WEST  | Yellow | Yes | ⋯ | N | IN_SERVICE | No  | 2009-11-10 09:33:28 | covDBimport | SDE 834766 | 31572 | 31572 | {\"coordinates\": [-123.15824972672043, 49.25274563689306], \"type\": \"Point\"}  | Arbutus-Ridge       |\n",
       "| WH-O09-037 | DSTR | Mueller | SupCent250 |  3.0 | 0.6 | N-NORTH | N-NORTH | Blue   | Yes | ⋯ | N | IN_SERVICE | Yes | 2009-11-10 09:33:29 | covDBimport | RIH83      | 31578 | 31578 | {\"coordinates\": [-123.12220434005718, 49.28098310957153], \"type\": \"Point\"}  | Downtown            |\n",
       "| WH-W19-041 | DSTR | Clow    | BrigadierM | 26.5 | 0.9 | W-WEST  | W-WEST  | Blue   | Yes | ⋯ | N | IN_SERVICE | Yes | 2009-11-10 09:33:00 | covDBimport | WAS17      | 31579 | 31579 | {\"coordinates\": [-123.02697997937, 49.23202546201023], \"type\": \"Point\"}     | Killarney           |\n",
       "| WH-W18-031 | DSTR | TC      | C71P       |  0.0 | 1.5 | NA      | NA      | Blue   | Yes | ⋯ | N | IN_SERVICE | Yes | 2009-11-10 09:33:29 | covDBimport | SDE 834766 | 31581 | 31581 | {\"coordinates\": [-123.03056334264977, 49.236514332599036], \"type\": \"Point\"} | Renfrew-Collingwood |\n",
       "| WH-P23-023 | DSTR | TC      | C71P       |  6.8 | 3.0 | N-North | N-North | Red    | Yes | ⋯ | N | IN_SERVICE | Yes | 2009-11-10 09:33:29 | covDBimport | PIY88      | 31582 | 31582 | {\"coordinates\": [-123.11114768467384, 49.21702810275628], \"type\": \"Point\"}  | Marpole             |\n",
       "\n"
      ],
      "text/plain": [
       "  ID         SUBSYSTEM CODE    COVWATERHYDRANTUNITTYPE DISTANCEFROMCORNER\n",
       "1 WH-U13-022 DSTR      TC      TC1                      1.2              \n",
       "2 WH-K15-017 DSTR      TC      TC1                      2.1              \n",
       "3 WH-O09-037 DSTR      Mueller SupCent250               3.0              \n",
       "4 WH-W19-041 DSTR      Clow    BrigadierM              26.5              \n",
       "5 WH-W18-031 DSTR      TC      C71P                     0.0              \n",
       "6 WH-P23-023 DSTR      TC      C71P                     6.8              \n",
       "  FEEDERLEN DIR     LINE    COLOR  INCOMM ⋯ FIREUSEONLY STATUS     COMPRESSION\n",
       "1 1.2       N-NORTH N-NORTH Blue   Yes    ⋯ N           IN_SERVICE No         \n",
       "2 0.6       W-WEST  W-WEST  Yellow Yes    ⋯ N           IN_SERVICE No         \n",
       "3 0.6       N-NORTH N-NORTH Blue   Yes    ⋯ N           IN_SERVICE Yes        \n",
       "4 0.9       W-WEST  W-WEST  Blue   Yes    ⋯ N           IN_SERVICE Yes        \n",
       "5 1.5       NA      NA      Blue   Yes    ⋯ N           IN_SERVICE Yes        \n",
       "6 3.0       N-North N-North Red    Yes    ⋯ N           IN_SERVICE Yes        \n",
       "  ADDDTTM             ADDBY       MODBY      FEATURE_ID UNITID\n",
       "1 2009-11-10 09:33:00 covDBimport SDE 834766 31571      31571 \n",
       "2 2009-11-10 09:33:28 covDBimport SDE 834766 31572      31572 \n",
       "3 2009-11-10 09:33:29 covDBimport RIH83      31578      31578 \n",
       "4 2009-11-10 09:33:00 covDBimport WAS17      31579      31579 \n",
       "5 2009-11-10 09:33:29 covDBimport SDE 834766 31581      31581 \n",
       "6 2009-11-10 09:33:29 covDBimport PIY88      31582      31582 \n",
       "  Geom                                                                       \n",
       "1 {\"coordinates\": [-123.0471389324545, 49.26102805690487], \"type\": \"Point\"}  \n",
       "2 {\"coordinates\": [-123.15824972672043, 49.25274563689306], \"type\": \"Point\"} \n",
       "3 {\"coordinates\": [-123.12220434005718, 49.28098310957153], \"type\": \"Point\"} \n",
       "4 {\"coordinates\": [-123.02697997937, 49.23202546201023], \"type\": \"Point\"}    \n",
       "5 {\"coordinates\": [-123.03056334264977, 49.236514332599036], \"type\": \"Point\"}\n",
       "6 {\"coordinates\": [-123.11114768467384, 49.21702810275628], \"type\": \"Point\"} \n",
       "  Geo Local Area     \n",
       "1 Renfrew-Collingwood\n",
       "2 Arbutus-Ridge      \n",
       "3 Downtown           \n",
       "4 Killarney          \n",
       "5 Renfrew-Collingwood\n",
       "6 Marpole            "
      ]
     },
     "metadata": {},
     "output_type": "display_data"
    }
   ],
   "source": [
    "hydrant_data <- read_csv(\"https://raw.githubusercontent.com/Gaelhpalmer/STAT201Project/main/water-hydrants.csv\")\n",
    "\n",
    "head(hydrant_data)"
   ]
  },
  {
   "cell_type": "code",
   "execution_count": null,
   "id": "21f3c44d-17bd-453c-86e2-f069cc57aa00",
   "metadata": {},
   "outputs": [],
   "source": []
  },
  {
   "cell_type": "code",
   "execution_count": null,
   "id": "09302b25-9b85-490d-a444-2d66042adbb2",
   "metadata": {},
   "outputs": [],
   "source": []
  }
 ],
 "metadata": {
  "kernelspec": {
   "display_name": "R",
   "language": "R",
   "name": "ir"
  },
  "language_info": {
   "codemirror_mode": "r",
   "file_extension": ".r",
   "mimetype": "text/x-r-source",
   "name": "R",
   "pygments_lexer": "r",
   "version": "4.0.5"
  }
 },
 "nbformat": 4,
 "nbformat_minor": 5
}
