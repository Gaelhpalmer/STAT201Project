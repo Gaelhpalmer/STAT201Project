{
 "cells": [
  {
   "cell_type": "markdown",
   "id": "89258b2a-1ae4-4492-acae-a5854ddd1d57",
   "metadata": {},
   "source": [
    "# Working title\n",
    "\n",
    "#### STAT 201 Group Project Proposal ####\n",
    "##### Group 17 - *Janice Chan, Ena Gupta, Gael Hernandez Palmer*"
   ]
  },
  {
   "cell_type": "markdown",
   "id": "80dfffd9-3f4b-4afd-9cf5-7892e8bdbfdb",
   "metadata": {},
   "source": [
    "### Introduction"
   ]
  },
  {
   "cell_type": "markdown",
   "id": "481bd3a5-67aa-4e9f-ac6d-d4ed1b657ee1",
   "metadata": {},
   "source": [
    "..."
   ]
  },
  {
   "cell_type": "markdown",
   "id": "4ffd0b2e-9c11-4dc3-8ce9-29a77c9a6711",
   "metadata": {},
   "source": [
    "### Preliminary Results"
   ]
  },
  {
   "cell_type": "code",
   "execution_count": 4,
   "id": "58c035df-ec77-4fe2-802b-553619d789a4",
   "metadata": {},
   "outputs": [
    {
     "name": "stderr",
     "output_type": "stream",
     "text": [
      "Warning message in system(\"timedatectl\", intern = TRUE):\n",
      "“running command 'timedatectl' had status 1”\n",
      "── \u001b[1mAttaching packages\u001b[22m ─────────────────────────────────────── tidyverse 1.3.1 ──\n",
      "\n",
      "\u001b[32m✔\u001b[39m \u001b[34mggplot2\u001b[39m 3.3.5     \u001b[32m✔\u001b[39m \u001b[34mpurrr  \u001b[39m 0.3.4\n",
      "\u001b[32m✔\u001b[39m \u001b[34mtibble \u001b[39m 3.1.6     \u001b[32m✔\u001b[39m \u001b[34mdplyr  \u001b[39m 1.0.8\n",
      "\u001b[32m✔\u001b[39m \u001b[34mtidyr  \u001b[39m 1.2.0     \u001b[32m✔\u001b[39m \u001b[34mstringr\u001b[39m 1.4.0\n",
      "\u001b[32m✔\u001b[39m \u001b[34mreadr  \u001b[39m 2.1.2     \u001b[32m✔\u001b[39m \u001b[34mforcats\u001b[39m 0.5.1\n",
      "\n",
      "── \u001b[1mConflicts\u001b[22m ────────────────────────────────────────── tidyverse_conflicts() ──\n",
      "\u001b[31m✖\u001b[39m \u001b[34mdplyr\u001b[39m::\u001b[32mfilter()\u001b[39m masks \u001b[34mstats\u001b[39m::filter()\n",
      "\u001b[31m✖\u001b[39m \u001b[34mdplyr\u001b[39m::\u001b[32mlag()\u001b[39m    masks \u001b[34mstats\u001b[39m::lag()\n",
      "\n"
     ]
    }
   ],
   "source": [
    "# Load packages\n",
    "library(digest)\n",
    "library(infer)\n",
    "library(repr)\n",
    "library(tidyverse)\n",
    "library(dplyr)"
   ]
  },
  {
   "cell_type": "code",
   "execution_count": 5,
   "id": "4670177f-1f56-4b5c-84b3-845e821e68a8",
   "metadata": {},
   "outputs": [
    {
     "data": {
      "text/html": [
       "<table class=\"dataframe\">\n",
       "<caption>A data.frame: 6 × 3</caption>\n",
       "<thead>\n",
       "\t<tr><th></th><th scope=col>sex</th><th scope=col>chol</th><th scope=col>heart_disease</th></tr>\n",
       "\t<tr><th></th><th scope=col>&lt;dbl&gt;</th><th scope=col>&lt;dbl&gt;</th><th scope=col>&lt;int&gt;</th></tr>\n",
       "</thead>\n",
       "<tbody>\n",
       "\t<tr><th scope=row>1</th><td>1</td><td>233</td><td>0</td></tr>\n",
       "\t<tr><th scope=row>2</th><td>1</td><td>286</td><td>2</td></tr>\n",
       "\t<tr><th scope=row>3</th><td>1</td><td>229</td><td>1</td></tr>\n",
       "\t<tr><th scope=row>4</th><td>1</td><td>250</td><td>0</td></tr>\n",
       "\t<tr><th scope=row>5</th><td>0</td><td>204</td><td>0</td></tr>\n",
       "\t<tr><th scope=row>6</th><td>1</td><td>236</td><td>0</td></tr>\n",
       "</tbody>\n",
       "</table>\n"
      ],
      "text/latex": [
       "A data.frame: 6 × 3\n",
       "\\begin{tabular}{r|lll}\n",
       "  & sex & chol & heart\\_disease\\\\\n",
       "  & <dbl> & <dbl> & <int>\\\\\n",
       "\\hline\n",
       "\t1 & 1 & 233 & 0\\\\\n",
       "\t2 & 1 & 286 & 2\\\\\n",
       "\t3 & 1 & 229 & 1\\\\\n",
       "\t4 & 1 & 250 & 0\\\\\n",
       "\t5 & 0 & 204 & 0\\\\\n",
       "\t6 & 1 & 236 & 0\\\\\n",
       "\\end{tabular}\n"
      ],
      "text/markdown": [
       "\n",
       "A data.frame: 6 × 3\n",
       "\n",
       "| <!--/--> | sex &lt;dbl&gt; | chol &lt;dbl&gt; | heart_disease &lt;int&gt; |\n",
       "|---|---|---|---|\n",
       "| 1 | 1 | 233 | 0 |\n",
       "| 2 | 1 | 286 | 2 |\n",
       "| 3 | 1 | 229 | 1 |\n",
       "| 4 | 1 | 250 | 0 |\n",
       "| 5 | 0 | 204 | 0 |\n",
       "| 6 | 1 | 236 | 0 |\n",
       "\n"
      ],
      "text/plain": [
       "  sex chol heart_disease\n",
       "1 1   233  0            \n",
       "2 1   286  2            \n",
       "3 1   229  1            \n",
       "4 1   250  0            \n",
       "5 0   204  0            \n",
       "6 1   236  0            "
      ]
     },
     "metadata": {},
     "output_type": "display_data"
    }
   ],
   "source": [
    "# set seed for reproducibility\n",
    "set.seed(1234)\n",
    "\n",
    "# HEART DISEASE DATA (Cleveland)\n",
    "# load data\n",
    "url = \"https://archive.ics.uci.edu/ml/machine-learning-databases/heart-disease/processed.cleveland.data\"\n",
    "data = download.file(url, destfile = \"data.data\")\n",
    "heart_disease_data = read.table(\"data.data\", header = FALSE, sep = \",\")\n",
    "colnames(heart_disease_data) = c(\"age\", \"sex\", \"cp\", \"trestbps\", \"chol\", \"fbs\", \"restecg\", \"thalach\", \"exang\", \"oldpeak\", \"slope\", \"ca\", \"thal\", \"heart_disease\")\n",
    "# sex: 0 is female, 1 is male\n",
    "# heart_disease: 0 is absent, 1 is present (diagnosis)\n",
    "heart_disease_data = heart_disease_data %>%\n",
    "    select(sex, chol, heart_disease)\n",
    "head(heart_disease_data)"
   ]
  },
  {
   "cell_type": "code",
   "execution_count": null,
   "id": "fe7d7bca-cf0c-4846-9189-a8c5bf9b5d5b",
   "metadata": {},
   "outputs": [],
   "source": [
    "# summarize data (estimates)"
   ]
  },
  {
   "cell_type": "code",
   "execution_count": null,
   "id": "4e4f445d-c666-43be-8abd-3ca0872fb249",
   "metadata": {},
   "outputs": [],
   "source": [
    "# plot raw data"
   ]
  },
  {
   "cell_type": "markdown",
   "id": "85d2fc8a-6574-4570-8e16-c61f121bd173",
   "metadata": {},
   "source": [
    "### Methods"
   ]
  },
  {
   "cell_type": "markdown",
   "id": "ef04a024-792d-430e-ae15-974d25831ca3",
   "metadata": {},
   "source": [
    "..."
   ]
  },
  {
   "cell_type": "markdown",
   "id": "5e4b219b-3804-4688-b994-0967750ab917",
   "metadata": {},
   "source": [
    "### References"
   ]
  },
  {
   "cell_type": "markdown",
   "id": "7bc5efd3-3829-4390-a459-105ed0249eb6",
   "metadata": {},
   "source": [
    "..."
   ]
  }
 ],
 "metadata": {
  "kernelspec": {
   "display_name": "R",
   "language": "R",
   "name": "ir"
  },
  "language_info": {
   "codemirror_mode": "r",
   "file_extension": ".r",
   "mimetype": "text/x-r-source",
   "name": "R",
   "pygments_lexer": "r",
   "version": "4.1.2"
  }
 },
 "nbformat": 4,
 "nbformat_minor": 5
}
