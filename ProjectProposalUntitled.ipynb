{
 "cells": [
  {
   "cell_type": "markdown",
   "id": "89258b2a-1ae4-4492-acae-a5854ddd1d57",
   "metadata": {},
   "source": [
    "# Working title\n",
    "\n",
    "#### STAT 201 Group Project Proposal ####\n",
    "##### Group 17 - *Janice Chan, Ena Gupta, Gael Hernandez Palmer*"
   ]
  },
  {
   "cell_type": "markdown",
   "id": "80dfffd9-3f4b-4afd-9cf5-7892e8bdbfdb",
   "metadata": {},
   "source": [
    "### Introduction"
   ]
  },
  {
   "cell_type": "markdown",
   "id": "481bd3a5-67aa-4e9f-ac6d-d4ed1b657ee1",
   "metadata": {},
   "source": [
    "..."
   ]
  },
  {
   "cell_type": "markdown",
   "id": "4ffd0b2e-9c11-4dc3-8ce9-29a77c9a6711",
   "metadata": {},
   "source": [
    "### Preliminary Results"
   ]
  },
  {
   "cell_type": "code",
   "execution_count": 44,
   "id": "58c035df-ec77-4fe2-802b-553619d789a4",
   "metadata": {},
   "outputs": [],
   "source": [
    "# Load packages\n",
    "library(digest)\n",
    "library(infer)\n",
    "library(repr)\n",
    "library(tidyverse)\n",
    "library(dplyr)"
   ]
  },
  {
   "cell_type": "code",
   "execution_count": 45,
   "id": "4670177f-1f56-4b5c-84b3-845e821e68a8",
   "metadata": {},
   "outputs": [
    {
     "name": "stderr",
     "output_type": "stream",
     "text": [
      "\u001b[1mRows: \u001b[22m\u001b[34m1025\u001b[39m \u001b[1mColumns: \u001b[22m\u001b[34m14\u001b[39m\n",
      "\u001b[36m──\u001b[39m \u001b[1mColumn specification\u001b[22m \u001b[36m────────────────────────────────────────────────────────\u001b[39m\n",
      "\u001b[1mDelimiter:\u001b[22m \",\"\n",
      "\u001b[32mdbl\u001b[39m (14): age, sex, cp, trestbps, chol, fbs, restecg, thalach, exang, oldpea...\n",
      "\n",
      "\u001b[36mℹ\u001b[39m Use `spec()` to retrieve the full column specification for this data.\n",
      "\u001b[36mℹ\u001b[39m Specify the column types or set `show_col_types = FALSE` to quiet this message.\n"
     ]
    },
    {
     "data": {
      "text/html": [
       "<table class=\"dataframe\">\n",
       "<caption>A tibble: 6 × 3</caption>\n",
       "<thead>\n",
       "\t<tr><th scope=col>sex</th><th scope=col>chol</th><th scope=col>heart_disease</th></tr>\n",
       "\t<tr><th scope=col>&lt;dbl&gt;</th><th scope=col>&lt;dbl&gt;</th><th scope=col>&lt;dbl&gt;</th></tr>\n",
       "</thead>\n",
       "<tbody>\n",
       "\t<tr><td>0</td><td>248</td><td>1</td></tr>\n",
       "\t<tr><td>0</td><td>149</td><td>1</td></tr>\n",
       "\t<tr><td>0</td><td>210</td><td>1</td></tr>\n",
       "\t<tr><td>0</td><td>210</td><td>1</td></tr>\n",
       "\t<tr><td>0</td><td>308</td><td>1</td></tr>\n",
       "\t<tr><td>0</td><td>244</td><td>1</td></tr>\n",
       "</tbody>\n",
       "</table>\n"
      ],
      "text/latex": [
       "A tibble: 6 × 3\n",
       "\\begin{tabular}{lll}\n",
       " sex & chol & heart\\_disease\\\\\n",
       " <dbl> & <dbl> & <dbl>\\\\\n",
       "\\hline\n",
       "\t 0 & 248 & 1\\\\\n",
       "\t 0 & 149 & 1\\\\\n",
       "\t 0 & 210 & 1\\\\\n",
       "\t 0 & 210 & 1\\\\\n",
       "\t 0 & 308 & 1\\\\\n",
       "\t 0 & 244 & 1\\\\\n",
       "\\end{tabular}\n"
      ],
      "text/markdown": [
       "\n",
       "A tibble: 6 × 3\n",
       "\n",
       "| sex &lt;dbl&gt; | chol &lt;dbl&gt; | heart_disease &lt;dbl&gt; |\n",
       "|---|---|---|\n",
       "| 0 | 248 | 1 |\n",
       "| 0 | 149 | 1 |\n",
       "| 0 | 210 | 1 |\n",
       "| 0 | 210 | 1 |\n",
       "| 0 | 308 | 1 |\n",
       "| 0 | 244 | 1 |\n",
       "\n"
      ],
      "text/plain": [
       "  sex chol heart_disease\n",
       "1 0   248  1            \n",
       "2 0   149  1            \n",
       "3 0   210  1            \n",
       "4 0   210  1            \n",
       "5 0   308  1            \n",
       "6 0   244  1            "
      ]
     },
     "metadata": {},
     "output_type": "display_data"
    },
    {
     "data": {
      "text/html": [
       "<table class=\"dataframe\">\n",
       "<caption>A tibble: 6 × 2</caption>\n",
       "<thead>\n",
       "\t<tr><th scope=col>sex</th><th scope=col>chol</th></tr>\n",
       "\t<tr><th scope=col>&lt;dbl&gt;</th><th scope=col>&lt;dbl&gt;</th></tr>\n",
       "</thead>\n",
       "<tbody>\n",
       "\t<tr><td>1</td><td>211</td></tr>\n",
       "\t<tr><td>1</td><td>208</td></tr>\n",
       "\t<tr><td>1</td><td>233</td></tr>\n",
       "\t<tr><td>1</td><td>196</td></tr>\n",
       "\t<tr><td>1</td><td>213</td></tr>\n",
       "\t<tr><td>1</td><td>271</td></tr>\n",
       "</tbody>\n",
       "</table>\n"
      ],
      "text/latex": [
       "A tibble: 6 × 2\n",
       "\\begin{tabular}{ll}\n",
       " sex & chol\\\\\n",
       " <dbl> & <dbl>\\\\\n",
       "\\hline\n",
       "\t 1 & 211\\\\\n",
       "\t 1 & 208\\\\\n",
       "\t 1 & 233\\\\\n",
       "\t 1 & 196\\\\\n",
       "\t 1 & 213\\\\\n",
       "\t 1 & 271\\\\\n",
       "\\end{tabular}\n"
      ],
      "text/markdown": [
       "\n",
       "A tibble: 6 × 2\n",
       "\n",
       "| sex &lt;dbl&gt; | chol &lt;dbl&gt; |\n",
       "|---|---|\n",
       "| 1 | 211 |\n",
       "| 1 | 208 |\n",
       "| 1 | 233 |\n",
       "| 1 | 196 |\n",
       "| 1 | 213 |\n",
       "| 1 | 271 |\n",
       "\n"
      ],
      "text/plain": [
       "  sex chol\n",
       "1 1   211 \n",
       "2 1   208 \n",
       "3 1   233 \n",
       "4 1   196 \n",
       "5 1   213 \n",
       "6 1   271 "
      ]
     },
     "metadata": {},
     "output_type": "display_data"
    },
    {
     "data": {
      "text/html": [
       "<table class=\"dataframe\">\n",
       "<caption>A tibble: 6 × 2</caption>\n",
       "<thead>\n",
       "\t<tr><th scope=col>sex</th><th scope=col>chol</th></tr>\n",
       "\t<tr><th scope=col>&lt;dbl&gt;</th><th scope=col>&lt;dbl&gt;</th></tr>\n",
       "</thead>\n",
       "<tbody>\n",
       "\t<tr><td>0</td><td>248</td></tr>\n",
       "\t<tr><td>0</td><td>149</td></tr>\n",
       "\t<tr><td>0</td><td>210</td></tr>\n",
       "\t<tr><td>0</td><td>210</td></tr>\n",
       "\t<tr><td>0</td><td>308</td></tr>\n",
       "\t<tr><td>0</td><td>244</td></tr>\n",
       "</tbody>\n",
       "</table>\n"
      ],
      "text/latex": [
       "A tibble: 6 × 2\n",
       "\\begin{tabular}{ll}\n",
       " sex & chol\\\\\n",
       " <dbl> & <dbl>\\\\\n",
       "\\hline\n",
       "\t 0 & 248\\\\\n",
       "\t 0 & 149\\\\\n",
       "\t 0 & 210\\\\\n",
       "\t 0 & 210\\\\\n",
       "\t 0 & 308\\\\\n",
       "\t 0 & 244\\\\\n",
       "\\end{tabular}\n"
      ],
      "text/markdown": [
       "\n",
       "A tibble: 6 × 2\n",
       "\n",
       "| sex &lt;dbl&gt; | chol &lt;dbl&gt; |\n",
       "|---|---|\n",
       "| 0 | 248 |\n",
       "| 0 | 149 |\n",
       "| 0 | 210 |\n",
       "| 0 | 210 |\n",
       "| 0 | 308 |\n",
       "| 0 | 244 |\n",
       "\n"
      ],
      "text/plain": [
       "  sex chol\n",
       "1 0   248 \n",
       "2 0   149 \n",
       "3 0   210 \n",
       "4 0   210 \n",
       "5 0   308 \n",
       "6 0   244 "
      ]
     },
     "metadata": {},
     "output_type": "display_data"
    }
   ],
   "source": [
    "# set seed for reproducibility\n",
    "set.seed(1234)\n",
    "\n",
    "# HEART DISEASE DATA (Compiled)\n",
    "# load data\n",
    "\n",
    "heart_disease_data <- read_csv(\"https://raw.githubusercontent.com/Gaelhpalmer/STAT201Project/main/heart.csv\")\n",
    "heart_disease_data <- as_tibble(heart_disease_data) %>%\n",
    "    rename(heart_disease = target, \n",
    "           cp_type = cp, \n",
    "           rest_ecg = restecg, \n",
    "           max_hr = thalach, \n",
    "           ex_ang = exang, \n",
    "           old_peak = oldpeak)\n",
    "\n",
    "# filtering out the data for the patients who have heart disease\n",
    "\n",
    "heart_disease_data <- heart_disease_data %>%\n",
    "select(sex,chol,heart_disease) %>%\n",
    "filter(heart_disease == 1)\n",
    "\n",
    "head(heart_disease_data)\n",
    "\n",
    "# filtering on the basis of sex (male and female)\n",
    "\n",
    "male <- heart_disease_data %>%\n",
    "select(sex,chol) %>%\n",
    "filter(sex == 1)\n",
    "head(male)\n",
    "\n",
    "female <- heart_disease_data %>%\n",
    "select(sex,chol) %>%\n",
    "filter(sex == 0)\n",
    "head(female)"
   ]
  },
  {
   "cell_type": "code",
   "execution_count": 46,
   "id": "fe7d7bca-cf0c-4846-9189-a8c5bf9b5d5b",
   "metadata": {},
   "outputs": [],
   "source": [
    "# summarize data (estimates)"
   ]
  },
  {
   "cell_type": "code",
   "execution_count": 47,
   "id": "4e4f445d-c666-43be-8abd-3ca0872fb249",
   "metadata": {},
   "outputs": [
    {
     "data": {
      "image/png": "[encoded data removed]",
      "text/plain": [
       "plot without title"
      ]
     },
     "metadata": {
      "image/png": {
       "height": 420,
       "width": 420
      }
     },
     "output_type": "display_data"
    },
    {
     "data": {
      "image/png": "[encoded data removed]",
      "text/plain": [
       "plot without title"
      ]
     },
     "metadata": {
      "image/png": {
       "height": 420,
       "width": 420
      }
     },
     "output_type": "display_data"
    }
   ],
   "source": [
    "# plot raw data\n",
    "\n",
    "# Male\n",
    "heart_disease_male <- male %>%\n",
    "ggplot(aes(x = chol)) + \n",
    "geom_histogram(binwidth = 10, color = \"white\") + \n",
    "xlab(\"Serum Cholestoral in mg/dl\") +\n",
    "ggtitle(\"Cholestoral in Males\") +\n",
    "theme(text = element_text(size = 18))\n",
    "heart_disease_male\n",
    "\n",
    "# Female\n",
    "heart_disease_female <- female %>%\n",
    "ggplot(aes(x = chol)) + \n",
    "geom_histogram(binwidth = 20, color = \"white\") + \n",
    "xlab(\"Serum Cholestoral in mg/dl\") +\n",
    "ggtitle(\"Cholestoral in Females\") +\n",
    "theme(text = element_text(size = 18))\n",
    "heart_disease_female"
   ]
  },
  {
   "cell_type": "markdown",
   "id": "85d2fc8a-6574-4570-8e16-c61f121bd173",
   "metadata": {},
   "source": [
    "### Methods"
   ]
  },
  {
   "cell_type": "markdown",
   "id": "ef04a024-792d-430e-ae15-974d25831ca3",
   "metadata": {},
   "source": [
    "..."
   ]
  },
  {
   "cell_type": "markdown",
   "id": "5e4b219b-3804-4688-b994-0967750ab917",
   "metadata": {},
   "source": [
    "### References"
   ]
  },
  {
   "cell_type": "markdown",
   "id": "7bc5efd3-3829-4390-a459-105ed0249eb6",
   "metadata": {},
   "source": [
    "..."
   ]
  }
 ],
 "metadata": {
  "kernelspec": {
   "display_name": "R",
   "language": "R",
   "name": "ir"
  },
  "language_info": {
   "codemirror_mode": "r",
   "file_extension": ".r",
   "mimetype": "text/x-r-source",
   "name": "R",
   "pygments_lexer": "r",
   "version": "4.0.5"
  }
 },
 "nbformat": 4,
 "nbformat_minor": 5
}
